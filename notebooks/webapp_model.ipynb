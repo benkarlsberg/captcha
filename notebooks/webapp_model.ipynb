{
 "cells": [
  {
   "cell_type": "markdown",
   "metadata": {},
   "source": [
    "# Hand Drawn Captcha Models for Web App"
   ]
  },
  {
   "cell_type": "markdown",
   "metadata": {},
   "source": [
    "#### Imports"
   ]
  },
  {
   "cell_type": "code",
   "execution_count": 57,
   "metadata": {
    "ExecuteTime": {
     "end_time": "2020-06-08T20:41:33.580211Z",
     "start_time": "2020-06-08T20:41:33.382543Z"
    }
   },
   "outputs": [],
   "source": [
    "%load_ext autoreload\n",
    "%autoreload 2"
   ]
  },
  {
   "cell_type": "code",
   "execution_count": 2,
   "metadata": {
    "ExecuteTime": {
     "end_time": "2020-06-08T19:05:26.579538Z",
     "start_time": "2020-06-08T19:05:25.758125Z"
    }
   },
   "outputs": [],
   "source": [
    "import os\n",
    "import string\n",
    "import random\n",
    "\n",
    "import numpy as np\n",
    "import pandas as pd\n",
    "import matplotlib.pyplot as plt\n",
    "import seaborn\n",
    "\n",
    "%matplotlib inline "
   ]
  },
  {
   "cell_type": "code",
   "execution_count": 58,
   "metadata": {
    "ExecuteTime": {
     "end_time": "2020-06-08T20:41:37.141409Z",
     "start_time": "2020-06-08T20:41:36.964346Z"
    }
   },
   "outputs": [
    {
     "data": {
      "text/plain": [
       "('2.1.0', '4.2.0')"
      ]
     },
     "execution_count": 58,
     "metadata": {},
     "output_type": "execute_result"
    }
   ],
   "source": [
    "import tensorflow as tf\n",
    "from tensorflow import keras\n",
    "from tensorflow.keras import Model\n",
    "from tensorflow.keras.layers import Input, Conv2D, MaxPooling2D, Flatten, Dense, Dropout, BatchNormalization\n",
    "from keras.utils.vis_utils import plot_model\n",
    "\n",
    "from PIL import Image\n",
    "import cv2\n",
    "tf.__version__, cv2.__version__"
   ]
  },
  {
   "cell_type": "code",
   "execution_count": 4,
   "metadata": {
    "ExecuteTime": {
     "end_time": "2020-06-08T19:05:28.462484Z",
     "start_time": "2020-06-08T19:05:28.425557Z"
    }
   },
   "outputs": [],
   "source": [
    "from emnist import list_datasets\n",
    "from emnist import extract_training_samples, extract_test_samples"
   ]
  },
  {
   "cell_type": "code",
   "execution_count": 5,
   "metadata": {
    "ExecuteTime": {
     "end_time": "2020-06-08T19:05:28.494480Z",
     "start_time": "2020-06-08T19:05:28.464017Z"
    }
   },
   "outputs": [
    {
     "data": {
      "text/plain": [
       "['balanced', 'byclass', 'bymerge', 'digits', 'letters', 'mnist']"
      ]
     },
     "execution_count": 5,
     "metadata": {},
     "output_type": "execute_result"
    }
   ],
   "source": [
    "list_datasets()"
   ]
  },
  {
   "cell_type": "markdown",
   "metadata": {
    "heading_collapsed": true
   },
   "source": [
    "## Load Data"
   ]
  },
  {
   "cell_type": "code",
   "execution_count": 6,
   "metadata": {
    "ExecuteTime": {
     "end_time": "2020-06-08T19:05:29.048989Z",
     "start_time": "2020-06-08T19:05:28.495932Z"
    },
    "hidden": true
   },
   "outputs": [
    {
     "data": {
      "text/plain": [
       "1013366"
      ]
     },
     "execution_count": 6,
     "metadata": {},
     "output_type": "execute_result"
    }
   ],
   "source": [
    "len(os.listdir('../data/drawn/'))"
   ]
  },
  {
   "cell_type": "code",
   "execution_count": 7,
   "metadata": {
    "ExecuteTime": {
     "end_time": "2020-06-08T19:05:29.262935Z",
     "start_time": "2020-06-08T19:05:29.050596Z"
    },
    "hidden": true
   },
   "outputs": [
    {
     "data": {
      "text/plain": [
       "<matplotlib.image.AxesImage at 0x7f3f604b9f98>"
      ]
     },
     "execution_count": 7,
     "metadata": {},
     "output_type": "execute_result"
    },
    {
     "data": {
      "image/png": "[encoded data removed]",
      "text/plain": [
       "<Figure size 432x288 with 1 Axes>"
      ]
     },
     "metadata": {
      "needs_background": "light"
     },
     "output_type": "display_data"
    }
   ],
   "source": [
    "img=cv2.imread('../data/drawn/4f477.png',cv2.IMREAD_UNCHANGED)\n",
    "plt.imshow(img, cmap=plt.cm.binary)"
   ]
  },
  {
   "cell_type": "code",
   "execution_count": 8,
   "metadata": {
    "ExecuteTime": {
     "end_time": "2020-06-08T19:05:29.312381Z",
     "start_time": "2020-06-08T19:05:29.265260Z"
    },
    "code_folding": [
     3,
     17,
     39
    ],
    "hidden": true
   },
   "outputs": [],
   "source": [
    "chars = '0123456789' + string.ascii_lowercase\n",
    "num_chars = len(chars)\n",
    "\n",
    "def data_check(from_src=False):\n",
    "    '''Check for non PNG files\n",
    "    '''\n",
    "    if from_src:\n",
    "        path = '../data/drawn/'\n",
    "    else:\n",
    "        path = 'data/drawn/'\n",
    "        \n",
    "    for name in os.listdir(path):\n",
    "        if name[-4:] == '.png':\n",
    "            pass\n",
    "        else:\n",
    "            print(name)\n",
    "            \n",
    "def mix_img(img, fill_val = 0):\n",
    "    # random rotate value\n",
    "    ang_list = [-5,-4,-3,-2,-1,0,0,0,0,0,1,2,3,4,5]\n",
    "    ang = random.choice(ang_list)\n",
    "    # rotate image\n",
    "    im = Image.fromarray(img)\n",
    "    img = np.asarray(im.rotate(ang))\n",
    "    \n",
    "    return img\n",
    "\n",
    "def load_drawn_data(from_src=False):\n",
    "    if from_src:\n",
    "        path = '../data/drawn/'\n",
    "    else:\n",
    "        path = 'data/drawn/'\n",
    "        \n",
    "    leng = 750000#len(os.listdir(path))\n",
    "        \n",
    "    X = np.zeros((leng, 50, 200, 1)) \n",
    "    y = np.zeros((5, leng, num_chars)) \n",
    "    labels = []\n",
    "    \n",
    "    for i, name in enumerate(os.listdir(path)):\n",
    "        \n",
    "        if i == leng:\n",
    "            break\n",
    "            \n",
    "        img_path = path + name\n",
    "        img = cv2.imread(img_path, cv2.IMREAD_UNCHANGED)\n",
    "        \n",
    "        img = img / 255.0\n",
    "        img = img.reshape(50, 200, 1)\n",
    "        \n",
    "        # Define labels using OneHotEncoding\n",
    "        label = name[:-4]\n",
    "        target = np.zeros((5, num_chars))\n",
    "        for j, l in enumerate(label):\n",
    "            ind = chars.find(l)\n",
    "            target[j, ind] = 1\n",
    "        \n",
    "        X[i] = img\n",
    "        y[:, i] = target\n",
    "        labels.append(label)\n",
    "   \n",
    "    return X, y, np.array(labels)"
   ]
  },
  {
   "cell_type": "code",
   "execution_count": 9,
   "metadata": {
    "ExecuteTime": {
     "end_time": "2020-06-08T19:05:29.986378Z",
     "start_time": "2020-06-08T19:05:29.315449Z"
    },
    "hidden": true
   },
   "outputs": [],
   "source": [
    "data_check(from_src=True)"
   ]
  },
  {
   "cell_type": "code",
   "execution_count": 10,
   "metadata": {
    "ExecuteTime": {
     "end_time": "2020-06-08T19:12:06.700959Z",
     "start_time": "2020-06-08T19:05:29.988664Z"
    },
    "hidden": true
   },
   "outputs": [],
   "source": [
    "nX, ny, nlabels = load_drawn_data(from_src=True)"
   ]
  },
  {
   "cell_type": "code",
   "execution_count": 11,
   "metadata": {
    "ExecuteTime": {
     "end_time": "2020-06-08T19:12:06.737084Z",
     "start_time": "2020-06-08T19:12:06.702556Z"
    },
    "hidden": true
   },
   "outputs": [
    {
     "data": {
      "text/plain": [
       "((750000, 50, 200, 1), (5, 750000, 36), (750000,))"
      ]
     },
     "execution_count": 11,
     "metadata": {},
     "output_type": "execute_result"
    }
   ],
   "source": [
    "nX.shape, ny.shape, nlabels.shape"
   ]
  },
  {
   "cell_type": "markdown",
   "metadata": {},
   "source": [
    "## Build Model"
   ]
  },
  {
   "cell_type": "markdown",
   "metadata": {},
   "source": [
    "### 4 CNN Layers"
   ]
  },
  {
   "cell_type": "code",
   "execution_count": 12,
   "metadata": {
    "ExecuteTime": {
     "end_time": "2020-06-08T19:12:07.807817Z",
     "start_time": "2020-06-08T19:12:06.738575Z"
    }
   },
   "outputs": [],
   "source": [
    "# Model Outline\n",
    "input_shape = (50, 200, 1)\n",
    "i = [32,64,32,32,5,16]\n",
    "\n",
    "# Input layer\n",
    "imgm = Input(shape=input_shape)\n",
    "\n",
    "# Convolution and Max Pooling layers\n",
    "cn1 = Conv2D(i[0], (i[4], i[4]), padding='same', activation='relu')(imgm)\n",
    "mp1 = MaxPooling2D(padding='same')(cn1)  \n",
    "\n",
    "cn2 = Conv2D(i[1], (i[4], i[4]), padding='same', activation='relu')(mp1)\n",
    "mp2 = MaxPooling2D(padding='same')(cn2)  \n",
    "\n",
    "cn3 = Conv2D(i[2], (i[4], i[4]), padding='same', activation='relu')(mp2)\n",
    "mp3 = MaxPooling2D(padding='same')(cn3)   \n",
    "\n",
    "cn4 = Conv2D(i[3], (i[4], i[4]), padding='same', activation='relu')(mp3)\n",
    "bn = BatchNormalization()(cn4)\n",
    "mp4 = MaxPooling2D(padding='same')(bn) \n",
    "\n",
    "# Flatten and Dense layers\n",
    "flat = Flatten()(mp4)\n",
    "output = []\n",
    "for _ in range(5):\n",
    "    dens1 = Dense(128, activation='relu')(flat)\n",
    "    drop = Dropout(0.5)(dens1)\n",
    "    result = Dense(num_chars, activation='sigmoid')(drop)\n",
    "\n",
    "    output.append(result)"
   ]
  },
  {
   "cell_type": "code",
   "execution_count": 13,
   "metadata": {
    "ExecuteTime": {
     "end_time": "2020-06-08T19:12:08.031301Z",
     "start_time": "2020-06-08T19:12:07.809400Z"
    }
   },
   "outputs": [],
   "source": [
    "# Compile model\n",
    "model = Model(imgm, output)\n",
    "model.compile(loss='categorical_crossentropy', optimizer='adam', metrics=[\"accuracy\"])"
   ]
  },
  {
   "cell_type": "code",
   "execution_count": 14,
   "metadata": {
    "ExecuteTime": {
     "end_time": "2020-06-08T19:12:08.078551Z",
     "start_time": "2020-06-08T19:12:08.033558Z"
    },
    "scrolled": true
   },
   "outputs": [
    {
     "name": "stdout",
     "output_type": "stream",
     "text": [
      "Model: \"model\"\n",
      "__________________________________________________________________________________________________\n",
      "Layer (type)                    Output Shape         Param #     Connected to                     \n",
      "==================================================================================================\n",
      "input_1 (InputLayer)            [(None, 50, 200, 1)] 0                                            \n",
      "__________________________________________________________________________________________________\n",
      "conv2d (Conv2D)                 (None, 50, 200, 32)  832         input_1[0][0]                    \n",
      "__________________________________________________________________________________________________\n",
      "max_pooling2d (MaxPooling2D)    (None, 25, 100, 32)  0           conv2d[0][0]                     \n",
      "__________________________________________________________________________________________________\n",
      "conv2d_1 (Conv2D)               (None, 25, 100, 64)  51264       max_pooling2d[0][0]              \n",
      "__________________________________________________________________________________________________\n",
      "max_pooling2d_1 (MaxPooling2D)  (None, 13, 50, 64)   0           conv2d_1[0][0]                   \n",
      "__________________________________________________________________________________________________\n",
      "conv2d_2 (Conv2D)               (None, 13, 50, 32)   51232       max_pooling2d_1[0][0]            \n",
      "__________________________________________________________________________________________________\n",
      "max_pooling2d_2 (MaxPooling2D)  (None, 7, 25, 32)    0           conv2d_2[0][0]                   \n",
      "__________________________________________________________________________________________________\n",
      "conv2d_3 (Conv2D)               (None, 7, 25, 32)    25632       max_pooling2d_2[0][0]            \n",
      "__________________________________________________________________________________________________\n",
      "batch_normalization (BatchNorma (None, 7, 25, 32)    128         conv2d_3[0][0]                   \n",
      "__________________________________________________________________________________________________\n",
      "max_pooling2d_3 (MaxPooling2D)  (None, 4, 13, 32)    0           batch_normalization[0][0]        \n",
      "__________________________________________________________________________________________________\n",
      "flatten (Flatten)               (None, 1664)         0           max_pooling2d_3[0][0]            \n",
      "__________________________________________________________________________________________________\n",
      "dense (Dense)                   (None, 128)          213120      flatten[0][0]                    \n",
      "__________________________________________________________________________________________________\n",
      "dense_2 (Dense)                 (None, 128)          213120      flatten[0][0]                    \n",
      "__________________________________________________________________________________________________\n",
      "dense_4 (Dense)                 (None, 128)          213120      flatten[0][0]                    \n",
      "__________________________________________________________________________________________________\n",
      "dense_6 (Dense)                 (None, 128)          213120      flatten[0][0]                    \n",
      "__________________________________________________________________________________________________\n",
      "dense_8 (Dense)                 (None, 128)          213120      flatten[0][0]                    \n",
      "__________________________________________________________________________________________________\n",
      "dropout (Dropout)               (None, 128)          0           dense[0][0]                      \n",
      "__________________________________________________________________________________________________\n",
      "dropout_1 (Dropout)             (None, 128)          0           dense_2[0][0]                    \n",
      "__________________________________________________________________________________________________\n",
      "dropout_2 (Dropout)             (None, 128)          0           dense_4[0][0]                    \n",
      "__________________________________________________________________________________________________\n",
      "dropout_3 (Dropout)             (None, 128)          0           dense_6[0][0]                    \n",
      "__________________________________________________________________________________________________\n",
      "dropout_4 (Dropout)             (None, 128)          0           dense_8[0][0]                    \n",
      "__________________________________________________________________________________________________\n",
      "dense_1 (Dense)                 (None, 36)           4644        dropout[0][0]                    \n",
      "__________________________________________________________________________________________________\n",
      "dense_3 (Dense)                 (None, 36)           4644        dropout_1[0][0]                  \n",
      "__________________________________________________________________________________________________\n",
      "dense_5 (Dense)                 (None, 36)           4644        dropout_2[0][0]                  \n",
      "__________________________________________________________________________________________________\n",
      "dense_7 (Dense)                 (None, 36)           4644        dropout_3[0][0]                  \n",
      "__________________________________________________________________________________________________\n",
      "dense_9 (Dense)                 (None, 36)           4644        dropout_4[0][0]                  \n",
      "==================================================================================================\n",
      "Total params: 1,217,908\n",
      "Trainable params: 1,217,844\n",
      "Non-trainable params: 64\n",
      "__________________________________________________________________________________________________\n"
     ]
    }
   ],
   "source": [
    "model.summary();"
   ]
  },
  {
   "cell_type": "code",
   "execution_count": 15,
   "metadata": {
    "ExecuteTime": {
     "end_time": "2020-06-08T20:18:25.295321Z",
     "start_time": "2020-06-08T19:12:08.080252Z"
    },
    "code_folding": [],
    "scrolled": true
   },
   "outputs": [
    {
     "name": "stdout",
     "output_type": "stream",
     "text": [
      "Train on 600000 samples, validate on 150000 samples\n",
      "Epoch 1/10\n",
      "600000/600000 - 407s - loss: 2.7957 - dense_1_loss: 0.5505 - dense_3_loss: 0.5706 - dense_5_loss: 0.5666 - dense_7_loss: 0.5656 - dense_9_loss: 0.5423 - dense_1_accuracy: 0.8358 - dense_3_accuracy: 0.8302 - dense_5_accuracy: 0.8312 - dense_7_accuracy: 0.8312 - dense_9_accuracy: 0.8382 - val_loss: 1.2552 - val_dense_1_loss: 0.2507 - val_dense_3_loss: 0.2554 - val_dense_5_loss: 0.2516 - val_dense_7_loss: 0.2514 - val_dense_9_loss: 0.2462 - val_dense_1_accuracy: 0.9132 - val_dense_3_accuracy: 0.9112 - val_dense_5_accuracy: 0.9130 - val_dense_7_accuracy: 0.9127 - val_dense_9_accuracy: 0.9137\n",
      "Epoch 2/10\n",
      "600000/600000 - 393s - loss: 1.3815 - dense_1_loss: 0.2729 - dense_3_loss: 0.2803 - dense_5_loss: 0.2793 - dense_7_loss: 0.2782 - dense_9_loss: 0.2709 - dense_1_accuracy: 0.9093 - dense_3_accuracy: 0.9071 - dense_5_accuracy: 0.9074 - dense_7_accuracy: 0.9078 - dense_9_accuracy: 0.9102 - val_loss: 1.1307 - val_dense_1_loss: 0.2270 - val_dense_3_loss: 0.2274 - val_dense_5_loss: 0.2267 - val_dense_7_loss: 0.2253 - val_dense_9_loss: 0.2243 - val_dense_1_accuracy: 0.9199 - val_dense_3_accuracy: 0.9179 - val_dense_5_accuracy: 0.9193 - val_dense_7_accuracy: 0.9200 - val_dense_9_accuracy: 0.9193\n",
      "Epoch 3/10\n",
      "600000/600000 - 392s - loss: 1.2508 - dense_1_loss: 0.2466 - dense_3_loss: 0.2547 - dense_5_loss: 0.2534 - dense_7_loss: 0.2503 - dense_9_loss: 0.2458 - dense_1_accuracy: 0.9160 - dense_3_accuracy: 0.9137 - dense_5_accuracy: 0.9142 - dense_7_accuracy: 0.9153 - dense_9_accuracy: 0.9164 - val_loss: 1.0838 - val_dense_1_loss: 0.2161 - val_dense_3_loss: 0.2177 - val_dense_5_loss: 0.2188 - val_dense_7_loss: 0.2180 - val_dense_9_loss: 0.2132 - val_dense_1_accuracy: 0.9249 - val_dense_3_accuracy: 0.9210 - val_dense_5_accuracy: 0.9234 - val_dense_7_accuracy: 0.9225 - val_dense_9_accuracy: 0.9230\n",
      "Epoch 4/10\n",
      "600000/600000 - 391s - loss: 1.1703 - dense_1_loss: 0.2307 - dense_3_loss: 0.2380 - dense_5_loss: 0.2365 - dense_7_loss: 0.2353 - dense_9_loss: 0.2298 - dense_1_accuracy: 0.9206 - dense_3_accuracy: 0.9183 - dense_5_accuracy: 0.9190 - dense_7_accuracy: 0.9194 - dense_9_accuracy: 0.9208 - val_loss: 1.0863 - val_dense_1_loss: 0.2180 - val_dense_3_loss: 0.2188 - val_dense_5_loss: 0.2193 - val_dense_7_loss: 0.2156 - val_dense_9_loss: 0.2146 - val_dense_1_accuracy: 0.9249 - val_dense_3_accuracy: 0.9220 - val_dense_5_accuracy: 0.9232 - val_dense_7_accuracy: 0.9228 - val_dense_9_accuracy: 0.9241\n",
      "Epoch 5/10\n",
      "600000/600000 - 391s - loss: 1.1109 - dense_1_loss: 0.2179 - dense_3_loss: 0.2263 - dense_5_loss: 0.2252 - dense_7_loss: 0.2232 - dense_9_loss: 0.2183 - dense_1_accuracy: 0.9242 - dense_3_accuracy: 0.9215 - dense_5_accuracy: 0.9223 - dense_7_accuracy: 0.9227 - dense_9_accuracy: 0.9239 - val_loss: 1.0215 - val_dense_1_loss: 0.2033 - val_dense_3_loss: 0.2062 - val_dense_5_loss: 0.2070 - val_dense_7_loss: 0.2046 - val_dense_9_loss: 0.2005 - val_dense_1_accuracy: 0.9279 - val_dense_3_accuracy: 0.9271 - val_dense_5_accuracy: 0.9257 - val_dense_7_accuracy: 0.9269 - val_dense_9_accuracy: 0.9277\n",
      "Epoch 6/10\n",
      "600000/600000 - 392s - loss: 1.0672 - dense_1_loss: 0.2098 - dense_3_loss: 0.2174 - dense_5_loss: 0.2161 - dense_7_loss: 0.2141 - dense_9_loss: 0.2098 - dense_1_accuracy: 0.9262 - dense_3_accuracy: 0.9241 - dense_5_accuracy: 0.9243 - dense_7_accuracy: 0.9249 - dense_9_accuracy: 0.9261 - val_loss: 1.0037 - val_dense_1_loss: 0.2004 - val_dense_3_loss: 0.1999 - val_dense_5_loss: 0.2020 - val_dense_7_loss: 0.2027 - val_dense_9_loss: 0.1987 - val_dense_1_accuracy: 0.9289 - val_dense_3_accuracy: 0.9278 - val_dense_5_accuracy: 0.9284 - val_dense_7_accuracy: 0.9277 - val_dense_9_accuracy: 0.9286\n",
      "Epoch 7/10\n",
      "600000/600000 - 392s - loss: 1.0306 - dense_1_loss: 0.2024 - dense_3_loss: 0.2101 - dense_5_loss: 0.2093 - dense_7_loss: 0.2059 - dense_9_loss: 0.2029 - dense_1_accuracy: 0.9283 - dense_3_accuracy: 0.9259 - dense_5_accuracy: 0.9262 - dense_7_accuracy: 0.9270 - dense_9_accuracy: 0.9278 - val_loss: 0.9920 - val_dense_1_loss: 0.1977 - val_dense_3_loss: 0.1992 - val_dense_5_loss: 0.1998 - val_dense_7_loss: 0.1997 - val_dense_9_loss: 0.1955 - val_dense_1_accuracy: 0.9303 - val_dense_3_accuracy: 0.9281 - val_dense_5_accuracy: 0.9283 - val_dense_7_accuracy: 0.9284 - val_dense_9_accuracy: 0.9294\n",
      "Epoch 8/10\n",
      "600000/600000 - 392s - loss: 0.9994 - dense_1_loss: 0.1957 - dense_3_loss: 0.2036 - dense_5_loss: 0.2028 - dense_7_loss: 0.2006 - dense_9_loss: 0.1967 - dense_1_accuracy: 0.9296 - dense_3_accuracy: 0.9278 - dense_5_accuracy: 0.9280 - dense_7_accuracy: 0.9282 - dense_9_accuracy: 0.9294 - val_loss: 0.9935 - val_dense_1_loss: 0.1992 - val_dense_3_loss: 0.1976 - val_dense_5_loss: 0.2013 - val_dense_7_loss: 0.2002 - val_dense_9_loss: 0.1951 - val_dense_1_accuracy: 0.9289 - val_dense_3_accuracy: 0.9294 - val_dense_5_accuracy: 0.9281 - val_dense_7_accuracy: 0.9282 - val_dense_9_accuracy: 0.9292\n",
      "Epoch 9/10\n",
      "600000/600000 - 392s - loss: 0.9734 - dense_1_loss: 0.1914 - dense_3_loss: 0.1983 - dense_5_loss: 0.1974 - dense_7_loss: 0.1947 - dense_9_loss: 0.1916 - dense_1_accuracy: 0.9309 - dense_3_accuracy: 0.9290 - dense_5_accuracy: 0.9293 - dense_7_accuracy: 0.9300 - dense_9_accuracy: 0.9310 - val_loss: 0.9739 - val_dense_1_loss: 0.1939 - val_dense_3_loss: 0.1963 - val_dense_5_loss: 0.1980 - val_dense_7_loss: 0.1955 - val_dense_9_loss: 0.1903 - val_dense_1_accuracy: 0.9312 - val_dense_3_accuracy: 0.9295 - val_dense_5_accuracy: 0.9300 - val_dense_7_accuracy: 0.9299 - val_dense_9_accuracy: 0.9314\n",
      "Epoch 10/10\n",
      "600000/600000 - 391s - loss: 0.9499 - dense_1_loss: 0.1867 - dense_3_loss: 0.1930 - dense_5_loss: 0.1928 - dense_7_loss: 0.1907 - dense_9_loss: 0.1866 - dense_1_accuracy: 0.9319 - dense_3_accuracy: 0.9303 - dense_5_accuracy: 0.9304 - dense_7_accuracy: 0.9310 - dense_9_accuracy: 0.9321 - val_loss: 0.9783 - val_dense_1_loss: 0.1940 - val_dense_3_loss: 0.1965 - val_dense_5_loss: 0.1993 - val_dense_7_loss: 0.1962 - val_dense_9_loss: 0.1922 - val_dense_1_accuracy: 0.9308 - val_dense_3_accuracy: 0.9302 - val_dense_5_accuracy: 0.9297 - val_dense_7_accuracy: 0.9298 - val_dense_9_accuracy: 0.9309\n"
     ]
    }
   ],
   "source": [
    "history = model.fit(nX, [ny[0], ny[1], ny[2], ny[3], ny[4]],\n",
    "                 batch_size=256, epochs=10, verbose=2, validation_split=0.2)"
   ]
  },
  {
   "cell_type": "code",
   "execution_count": 16,
   "metadata": {
    "ExecuteTime": {
     "end_time": "2020-06-08T20:18:25.756533Z",
     "start_time": "2020-06-08T20:18:25.297131Z"
    }
   },
   "outputs": [],
   "source": [
    "acc, loss = [], []\n",
    "for i, l in enumerate(history.history.values()):\n",
    "    if i >= 17:\n",
    "        acc.append(l)\n",
    "    elif i >= 12:\n",
    "        loss.append(l)\n",
    "        #print(i)"
   ]
  },
  {
   "cell_type": "code",
   "execution_count": 17,
   "metadata": {
    "ExecuteTime": {
     "end_time": "2020-06-08T20:18:25.790422Z",
     "start_time": "2020-06-08T20:18:25.758144Z"
    }
   },
   "outputs": [
    {
     "data": {
      "text/plain": [
       "[0.93, 0.93, 0.93, 0.93, 0.93]"
      ]
     },
     "execution_count": 17,
     "metadata": {},
     "output_type": "execute_result"
    }
   ],
   "source": [
    "[max(i).round(2) for i in acc]"
   ]
  },
  {
   "cell_type": "code",
   "execution_count": 28,
   "metadata": {
    "ExecuteTime": {
     "end_time": "2020-06-08T20:32:49.473656Z",
     "start_time": "2020-06-08T20:32:48.898812Z"
    }
   },
   "outputs": [
    {
     "data": {
      "text/plain": [
       "''"
      ]
     },
     "execution_count": 28,
     "metadata": {},
     "output_type": "execute_result"
    },
    {
     "data": {
      "image/png": "[encoded data removed]",
      "text/plain": [
       "<Figure size 432x288 with 1 Axes>"
      ]
     },
     "metadata": {
      "needs_background": "light"
     },
     "output_type": "display_data"
    },
    {
     "data": {
      "image/png": "[encoded data removed]",
      "text/plain": [
       "<Figure size 432x288 with 1 Axes>"
      ]
     },
     "metadata": {
      "needs_background": "light"
     },
     "output_type": "display_data"
    }
   ],
   "source": [
    "# Get number of epochs\n",
    "epochs = range(len(acc[0]))\n",
    "\n",
    "# Plot validation accuracy per epoch\n",
    "for i in acc:\n",
    "    plt.plot(epochs, i)\n",
    "plt.legend(['1','2','3','4','5'], loc='lower right', title='  Character  ', shadow=True)\n",
    "plt.title('Accuracy of Each Character', fontdict={'size':'17'})\n",
    "plt.xlabel('Epoch', fontdict={'size':'12'})\n",
    "plt.ylabel('Accuracy', fontdict={'size':'12'})\n",
    "plt.xticks([0,1,2,3,4,5,6,7,8,9],[1,2,3,4,5,6,7,8,9,10])\n",
    "\n",
    "plt.savefig('../images/drawn_cap_accf.png')\n",
    "plt.figure()\n",
    "\n",
    "# Plot training and validation loss per epoch\n",
    "for i in loss:\n",
    "    plt.plot(epochs, i)\n",
    "plt.legend(['1','2','3','4','5'], loc='upper right', title='  Character  ', shadow=True)\n",
    "plt.title('Loss of Each Character', fontdict={'size':'17'})\n",
    "plt.xlabel('Epoch', fontdict={'size':'12'})\n",
    "plt.ylabel('Loss', fontdict={'size':'12'})\n",
    "plt.xticks([0,1,2,3,4,5,6,7,8,9],[1,2,3,4,5,6,7,8,9,10])\n",
    "\n",
    "plt.savefig('../images/drawn_cap_lossf.png')\n",
    ";"
   ]
  },
  {
   "cell_type": "code",
   "execution_count": 29,
   "metadata": {
    "ExecuteTime": {
     "end_time": "2020-06-08T20:33:00.879572Z",
     "start_time": "2020-06-08T20:33:00.705127Z"
    }
   },
   "outputs": [],
   "source": [
    "model.save('../models/4cnn_draw_model.h5')"
   ]
  },
  {
   "cell_type": "code",
   "execution_count": null,
   "metadata": {
    "ExecuteTime": {
     "end_time": "2020-06-08T20:41:40.359883Z",
     "start_time": "2020-06-08T20:41:40.166729Z"
    }
   },
   "outputs": [],
   "source": [
    "#plot_model(model, to_file='../images/model_plot.png', show_shapes=True, show_layer_names=True)"
   ]
  },
  {
   "cell_type": "markdown",
   "metadata": {},
   "source": [
    "### 5 CNN Layers"
   ]
  },
  {
   "cell_type": "code",
   "execution_count": 12,
   "metadata": {
    "ExecuteTime": {
     "end_time": "2020-06-08T15:35:53.659376Z",
     "start_time": "2020-06-08T15:35:49.576373Z"
    },
    "code_folding": []
   },
   "outputs": [],
   "source": [
    "# Model Outline\n",
    "input_shape = (50, 200, 1)\n",
    "i = [32,64,32,32,5,16]\n",
    "\n",
    "# Input layer\n",
    "imgm = Input(shape=input_shape)\n",
    "\n",
    "# Convolution and Max Pooling layers\n",
    "cn1 = Conv2D(i[0], (i[4], i[4]), padding='same', activation='relu')(imgm)\n",
    "mp1 = MaxPooling2D(padding='same')(cn1)  \n",
    "\n",
    "cn2 = Conv2D(i[1], (i[4], i[4]), padding='same', activation='relu')(mp1)\n",
    "mp2 = MaxPooling2D(padding='same')(cn2)  \n",
    "\n",
    "cn3 = Conv2D(i[2], (i[4], i[4]), padding='same', activation='relu')(mp2)\n",
    "mp3 = MaxPooling2D(padding='same')(cn3)   \n",
    "\n",
    "cn4 = Conv2D(i[3], (i[4], i[4]), padding='same', activation='relu')(mp3)\n",
    "bn = BatchNormalization()(cn4)\n",
    "mp4 = MaxPooling2D(padding='same')(bn) \n",
    "\n",
    "cn5 = Conv2D(i[5], (i[4], i[4]), padding='same', activation='relu')(mp4)\n",
    "mp5 = MaxPooling2D(padding='same')(cn5)\n",
    "\n",
    "# Flatten and Dense layers\n",
    "flat = Flatten()(mp5)\n",
    "output = []\n",
    "for _ in range(5):\n",
    "    dens1 = Dense(128, activation='relu')(flat)\n",
    "    drop = Dropout(0.5)(dens1)\n",
    "    result = Dense(num_chars, activation='sigmoid')(drop)\n",
    "\n",
    "    output.append(result)"
   ]
  },
  {
   "cell_type": "code",
   "execution_count": 13,
   "metadata": {
    "ExecuteTime": {
     "end_time": "2020-06-08T15:35:53.874368Z",
     "start_time": "2020-06-08T15:35:53.661118Z"
    }
   },
   "outputs": [],
   "source": [
    "# Compile model\n",
    "model = Model(imgm, output)\n",
    "model.compile(loss='categorical_crossentropy', optimizer='adam', metrics=[\"accuracy\"])"
   ]
  },
  {
   "cell_type": "code",
   "execution_count": 14,
   "metadata": {
    "ExecuteTime": {
     "end_time": "2020-06-08T15:35:53.914854Z",
     "start_time": "2020-06-08T15:35:53.875751Z"
    },
    "scrolled": true
   },
   "outputs": [
    {
     "name": "stdout",
     "output_type": "stream",
     "text": [
      "Model: \"model\"\n",
      "__________________________________________________________________________________________________\n",
      "Layer (type)                    Output Shape         Param #     Connected to                     \n",
      "==================================================================================================\n",
      "input_1 (InputLayer)            [(None, 50, 200, 1)] 0                                            \n",
      "__________________________________________________________________________________________________\n",
      "conv2d (Conv2D)                 (None, 50, 200, 32)  832         input_1[0][0]                    \n",
      "__________________________________________________________________________________________________\n",
      "max_pooling2d (MaxPooling2D)    (None, 25, 100, 32)  0           conv2d[0][0]                     \n",
      "__________________________________________________________________________________________________\n",
      "conv2d_1 (Conv2D)               (None, 25, 100, 64)  51264       max_pooling2d[0][0]              \n",
      "__________________________________________________________________________________________________\n",
      "max_pooling2d_1 (MaxPooling2D)  (None, 13, 50, 64)   0           conv2d_1[0][0]                   \n",
      "__________________________________________________________________________________________________\n",
      "conv2d_2 (Conv2D)               (None, 13, 50, 32)   51232       max_pooling2d_1[0][0]            \n",
      "__________________________________________________________________________________________________\n",
      "max_pooling2d_2 (MaxPooling2D)  (None, 7, 25, 32)    0           conv2d_2[0][0]                   \n",
      "__________________________________________________________________________________________________\n",
      "conv2d_3 (Conv2D)               (None, 7, 25, 32)    25632       max_pooling2d_2[0][0]            \n",
      "__________________________________________________________________________________________________\n",
      "batch_normalization (BatchNorma (None, 7, 25, 32)    128         conv2d_3[0][0]                   \n",
      "__________________________________________________________________________________________________\n",
      "max_pooling2d_3 (MaxPooling2D)  (None, 4, 13, 32)    0           batch_normalization[0][0]        \n",
      "__________________________________________________________________________________________________\n",
      "conv2d_4 (Conv2D)               (None, 4, 13, 16)    12816       max_pooling2d_3[0][0]            \n",
      "__________________________________________________________________________________________________\n",
      "max_pooling2d_4 (MaxPooling2D)  (None, 2, 7, 16)     0           conv2d_4[0][0]                   \n",
      "__________________________________________________________________________________________________\n",
      "flatten (Flatten)               (None, 224)          0           max_pooling2d_4[0][0]            \n",
      "__________________________________________________________________________________________________\n",
      "dense (Dense)                   (None, 128)          28800       flatten[0][0]                    \n",
      "__________________________________________________________________________________________________\n",
      "dense_2 (Dense)                 (None, 128)          28800       flatten[0][0]                    \n",
      "__________________________________________________________________________________________________\n",
      "dense_4 (Dense)                 (None, 128)          28800       flatten[0][0]                    \n",
      "__________________________________________________________________________________________________\n",
      "dense_6 (Dense)                 (None, 128)          28800       flatten[0][0]                    \n",
      "__________________________________________________________________________________________________\n",
      "dense_8 (Dense)                 (None, 128)          28800       flatten[0][0]                    \n",
      "__________________________________________________________________________________________________\n",
      "dropout (Dropout)               (None, 128)          0           dense[0][0]                      \n",
      "__________________________________________________________________________________________________\n",
      "dropout_1 (Dropout)             (None, 128)          0           dense_2[0][0]                    \n",
      "__________________________________________________________________________________________________\n",
      "dropout_2 (Dropout)             (None, 128)          0           dense_4[0][0]                    \n",
      "__________________________________________________________________________________________________\n",
      "dropout_3 (Dropout)             (None, 128)          0           dense_6[0][0]                    \n",
      "__________________________________________________________________________________________________\n",
      "dropout_4 (Dropout)             (None, 128)          0           dense_8[0][0]                    \n",
      "__________________________________________________________________________________________________\n",
      "dense_1 (Dense)                 (None, 36)           4644        dropout[0][0]                    \n",
      "__________________________________________________________________________________________________\n",
      "dense_3 (Dense)                 (None, 36)           4644        dropout_1[0][0]                  \n",
      "__________________________________________________________________________________________________\n",
      "dense_5 (Dense)                 (None, 36)           4644        dropout_2[0][0]                  \n",
      "__________________________________________________________________________________________________\n",
      "dense_7 (Dense)                 (None, 36)           4644        dropout_3[0][0]                  \n",
      "__________________________________________________________________________________________________\n",
      "dense_9 (Dense)                 (None, 36)           4644        dropout_4[0][0]                  \n",
      "==================================================================================================\n",
      "Total params: 309,124\n",
      "Trainable params: 309,060\n",
      "Non-trainable params: 64\n",
      "__________________________________________________________________________________________________\n"
     ]
    }
   ],
   "source": [
    "model.summary();"
   ]
  },
  {
   "cell_type": "code",
   "execution_count": 15,
   "metadata": {
    "ExecuteTime": {
     "end_time": "2020-06-08T16:42:37.984184Z",
     "start_time": "2020-06-08T15:35:53.916215Z"
    },
    "code_folding": [],
    "scrolled": true
   },
   "outputs": [
    {
     "name": "stdout",
     "output_type": "stream",
     "text": [
      "Train on 600000 samples, validate on 150000 samples\n",
      "Epoch 1/10\n",
      "600000/600000 - 409s - loss: 3.5248 - dense_1_loss: 0.6918 - dense_3_loss: 0.7228 - dense_5_loss: 0.7219 - dense_7_loss: 0.7235 - dense_9_loss: 0.6646 - dense_1_accuracy: 0.7955 - dense_3_accuracy: 0.7864 - dense_5_accuracy: 0.7862 - dense_7_accuracy: 0.7870 - dense_9_accuracy: 0.8035 - val_loss: 1.3747 - val_dense_1_loss: 0.2694 - val_dense_3_loss: 0.2810 - val_dense_5_loss: 0.2786 - val_dense_7_loss: 0.2784 - val_dense_9_loss: 0.2672 - val_dense_1_accuracy: 0.9103 - val_dense_3_accuracy: 0.9060 - val_dense_5_accuracy: 0.9069 - val_dense_7_accuracy: 0.9072 - val_dense_9_accuracy: 0.9087\n",
      "Epoch 2/10\n",
      "600000/600000 - 395s - loss: 1.5439 - dense_1_loss: 0.3018 - dense_3_loss: 0.3167 - dense_5_loss: 0.3115 - dense_7_loss: 0.3163 - dense_9_loss: 0.2976 - dense_1_accuracy: 0.9033 - dense_3_accuracy: 0.8996 - dense_5_accuracy: 0.9005 - dense_7_accuracy: 0.8997 - dense_9_accuracy: 0.9046 - val_loss: 1.2319 - val_dense_1_loss: 0.2440 - val_dense_3_loss: 0.2529 - val_dense_5_loss: 0.2518 - val_dense_7_loss: 0.2473 - val_dense_9_loss: 0.2359 - val_dense_1_accuracy: 0.9177 - val_dense_3_accuracy: 0.9152 - val_dense_5_accuracy: 0.9157 - val_dense_7_accuracy: 0.9160 - val_dense_9_accuracy: 0.9192\n",
      "Epoch 3/10\n",
      "600000/600000 - 395s - loss: 1.3782 - dense_1_loss: 0.2690 - dense_3_loss: 0.2824 - dense_5_loss: 0.2791 - dense_7_loss: 0.2808 - dense_9_loss: 0.2667 - dense_1_accuracy: 0.9122 - dense_3_accuracy: 0.9087 - dense_5_accuracy: 0.9095 - dense_7_accuracy: 0.9095 - dense_9_accuracy: 0.9126 - val_loss: 1.1856 - val_dense_1_loss: 0.2371 - val_dense_3_loss: 0.2373 - val_dense_5_loss: 0.2368 - val_dense_7_loss: 0.2403 - val_dense_9_loss: 0.2342 - val_dense_1_accuracy: 0.9178 - val_dense_3_accuracy: 0.9178 - val_dense_5_accuracy: 0.9194 - val_dense_7_accuracy: 0.9190 - val_dense_9_accuracy: 0.9201\n",
      "Epoch 4/10\n",
      "600000/600000 - 395s - loss: 1.2823 - dense_1_loss: 0.2514 - dense_3_loss: 0.2615 - dense_5_loss: 0.2598 - dense_7_loss: 0.2613 - dense_9_loss: 0.2482 - dense_1_accuracy: 0.9168 - dense_3_accuracy: 0.9141 - dense_5_accuracy: 0.9148 - dense_7_accuracy: 0.9146 - dense_9_accuracy: 0.9179 - val_loss: 1.1348 - val_dense_1_loss: 0.2225 - val_dense_3_loss: 0.2265 - val_dense_5_loss: 0.2306 - val_dense_7_loss: 0.2297 - val_dense_9_loss: 0.2254 - val_dense_1_accuracy: 0.9225 - val_dense_3_accuracy: 0.9221 - val_dense_5_accuracy: 0.9206 - val_dense_7_accuracy: 0.9217 - val_dense_9_accuracy: 0.9216\n",
      "Epoch 5/10\n",
      "600000/600000 - 395s - loss: 1.2205 - dense_1_loss: 0.2393 - dense_3_loss: 0.2484 - dense_5_loss: 0.2474 - dense_7_loss: 0.2487 - dense_9_loss: 0.2367 - dense_1_accuracy: 0.9201 - dense_3_accuracy: 0.9180 - dense_5_accuracy: 0.9181 - dense_7_accuracy: 0.9177 - dense_9_accuracy: 0.9208 - val_loss: 1.0933 - val_dense_1_loss: 0.2183 - val_dense_3_loss: 0.2214 - val_dense_5_loss: 0.2210 - val_dense_7_loss: 0.2212 - val_dense_9_loss: 0.2114 - val_dense_1_accuracy: 0.9242 - val_dense_3_accuracy: 0.9236 - val_dense_5_accuracy: 0.9247 - val_dense_7_accuracy: 0.9233 - val_dense_9_accuracy: 0.9259\n",
      "Epoch 6/10\n",
      "600000/600000 - 394s - loss: 1.1729 - dense_1_loss: 0.2302 - dense_3_loss: 0.2391 - dense_5_loss: 0.2369 - dense_7_loss: 0.2386 - dense_9_loss: 0.2282 - dense_1_accuracy: 0.9224 - dense_3_accuracy: 0.9205 - dense_5_accuracy: 0.9211 - dense_7_accuracy: 0.9204 - dense_9_accuracy: 0.9229 - val_loss: 1.0540 - val_dense_1_loss: 0.2067 - val_dense_3_loss: 0.2139 - val_dense_5_loss: 0.2144 - val_dense_7_loss: 0.2131 - val_dense_9_loss: 0.2061 - val_dense_1_accuracy: 0.9281 - val_dense_3_accuracy: 0.9267 - val_dense_5_accuracy: 0.9262 - val_dense_7_accuracy: 0.9263 - val_dense_9_accuracy: 0.9272\n",
      "Epoch 7/10\n",
      "600000/600000 - 394s - loss: 1.1336 - dense_1_loss: 0.2232 - dense_3_loss: 0.2311 - dense_5_loss: 0.2295 - dense_7_loss: 0.2295 - dense_9_loss: 0.2203 - dense_1_accuracy: 0.9240 - dense_3_accuracy: 0.9225 - dense_5_accuracy: 0.9227 - dense_7_accuracy: 0.9225 - dense_9_accuracy: 0.9251 - val_loss: 1.0462 - val_dense_1_loss: 0.2081 - val_dense_3_loss: 0.2116 - val_dense_5_loss: 0.2099 - val_dense_7_loss: 0.2103 - val_dense_9_loss: 0.2062 - val_dense_1_accuracy: 0.9283 - val_dense_3_accuracy: 0.9267 - val_dense_5_accuracy: 0.9271 - val_dense_7_accuracy: 0.9269 - val_dense_9_accuracy: 0.9276\n",
      "Epoch 8/10\n",
      "600000/600000 - 395s - loss: 1.1005 - dense_1_loss: 0.2165 - dense_3_loss: 0.2237 - dense_5_loss: 0.2224 - dense_7_loss: 0.2236 - dense_9_loss: 0.2143 - dense_1_accuracy: 0.9261 - dense_3_accuracy: 0.9237 - dense_5_accuracy: 0.9245 - dense_7_accuracy: 0.9243 - dense_9_accuracy: 0.9266 - val_loss: 1.0326 - val_dense_1_loss: 0.2069 - val_dense_3_loss: 0.2101 - val_dense_5_loss: 0.2081 - val_dense_7_loss: 0.2067 - val_dense_9_loss: 0.2007 - val_dense_1_accuracy: 0.9287 - val_dense_3_accuracy: 0.9277 - val_dense_5_accuracy: 0.9275 - val_dense_7_accuracy: 0.9281 - val_dense_9_accuracy: 0.9290\n",
      "Epoch 9/10\n",
      "600000/600000 - 395s - loss: 1.0747 - dense_1_loss: 0.2108 - dense_3_loss: 0.2187 - dense_5_loss: 0.2174 - dense_7_loss: 0.2173 - dense_9_loss: 0.2103 - dense_1_accuracy: 0.9275 - dense_3_accuracy: 0.9251 - dense_5_accuracy: 0.9255 - dense_7_accuracy: 0.9256 - dense_9_accuracy: 0.9276 - val_loss: 1.0050 - val_dense_1_loss: 0.1977 - val_dense_3_loss: 0.2025 - val_dense_5_loss: 0.2034 - val_dense_7_loss: 0.2034 - val_dense_9_loss: 0.1980 - val_dense_1_accuracy: 0.9296 - val_dense_3_accuracy: 0.9290 - val_dense_5_accuracy: 0.9286 - val_dense_7_accuracy: 0.9288 - val_dense_9_accuracy: 0.9298\n",
      "Epoch 10/10\n",
      "600000/600000 - 394s - loss: 1.0502 - dense_1_loss: 0.2075 - dense_3_loss: 0.2134 - dense_5_loss: 0.2130 - dense_7_loss: 0.2128 - dense_9_loss: 0.2035 - dense_1_accuracy: 0.9282 - dense_3_accuracy: 0.9264 - dense_5_accuracy: 0.9269 - dense_7_accuracy: 0.9270 - dense_9_accuracy: 0.9293 - val_loss: 1.0202 - val_dense_1_loss: 0.2000 - val_dense_3_loss: 0.2042 - val_dense_5_loss: 0.2069 - val_dense_7_loss: 0.2075 - val_dense_9_loss: 0.2016 - val_dense_1_accuracy: 0.9300 - val_dense_3_accuracy: 0.9276 - val_dense_5_accuracy: 0.9279 - val_dense_7_accuracy: 0.9273 - val_dense_9_accuracy: 0.9285\n"
     ]
    }
   ],
   "source": [
    "history = model.fit(nX, [ny[0], ny[1], ny[2], ny[3], ny[4]],\n",
    "                 batch_size=256, epochs=10, verbose=2, validation_split=0.2)"
   ]
  },
  {
   "cell_type": "code",
   "execution_count": 16,
   "metadata": {
    "ExecuteTime": {
     "end_time": "2020-06-08T16:42:38.464515Z",
     "start_time": "2020-06-08T16:42:37.985988Z"
    }
   },
   "outputs": [],
   "source": [
    "acc, loss = [], []\n",
    "for i, l in enumerate(history.history.values()):\n",
    "    if i >= 17:\n",
    "        acc.append(l)\n",
    "    elif i >= 12:\n",
    "        loss.append(l)\n",
    "        #print(i)"
   ]
  },
  {
   "cell_type": "code",
   "execution_count": 17,
   "metadata": {
    "ExecuteTime": {
     "end_time": "2020-06-08T16:42:38.499672Z",
     "start_time": "2020-06-08T16:42:38.466760Z"
    }
   },
   "outputs": [
    {
     "data": {
      "text/plain": [
       "[0.93, 0.93, 0.93, 0.93, 0.93]"
      ]
     },
     "execution_count": 17,
     "metadata": {},
     "output_type": "execute_result"
    }
   ],
   "source": [
    "[max(i).round(2) for i in acc]"
   ]
  },
  {
   "cell_type": "markdown",
   "metadata": {},
   "source": [
    "32/64/32/16 (7)\n",
    "- dense 64: [0.9, 0.89, 0.89, 0.89, 0.9]\n",
    "- dense 128: [0.91, 0.9, 0.9, 0.9, 0.9]\n",
    "- bn/dense 128: [0.91, 0.9, 0.9, 0.9, 0.9]\n"
   ]
  },
  {
   "cell_type": "code",
   "execution_count": 24,
   "metadata": {
    "ExecuteTime": {
     "end_time": "2020-06-08T16:44:21.708656Z",
     "start_time": "2020-06-08T16:44:21.177887Z"
    }
   },
   "outputs": [
    {
     "data": {
      "text/plain": [
       "''"
      ]
     },
     "execution_count": 24,
     "metadata": {},
     "output_type": "execute_result"
    },
    {
     "data": {
      "image/png": "[encoded data removed]",
      "text/plain": [
       "<Figure size 432x288 with 1 Axes>"
      ]
     },
     "metadata": {
      "needs_background": "light"
     },
     "output_type": "display_data"
    },
    {
     "data": {
      "image/png": "[encoded data removed]",
      "text/plain": [
       "<Figure size 432x288 with 1 Axes>"
      ]
     },
     "metadata": {
      "needs_background": "light"
     },
     "output_type": "display_data"
    }
   ],
   "source": [
    "# Get number of epochs\n",
    "epochs = range(len(acc[0]))\n",
    "\n",
    "# Plot validation accuracy per epoch\n",
    "for i in acc:\n",
    "    plt.plot(epochs, i)\n",
    "plt.legend(['1','2','3','4','5'], loc='lower right', title='  Character  ', shadow=True)\n",
    "plt.title('Accuracy of Each Character', fontdict={'size':'17'})\n",
    "plt.xlabel('Epoch', fontdict={'size':'12'})\n",
    "plt.ylabel('Accuracy', fontdict={'size':'12'})\n",
    "plt.xticks([0,1,2,3,4,5,6,7,8,9],[1,2,3,4,5,6,7,8,9,10])\n",
    "\n",
    "#plt.savefig('../images/drawn_cap_acc_.png')\n",
    "plt.figure()\n",
    "\n",
    "# Plot training and validation loss per epoch\n",
    "for i in loss:\n",
    "    plt.plot(epochs, i)\n",
    "plt.legend(['1','2','3','4','5'], loc='upper right', title='  Character  ', shadow=True)\n",
    "plt.title('Loss of Each Character', fontdict={'size':'17'})\n",
    "plt.xlabel('Epoch', fontdict={'size':'12'})\n",
    "plt.ylabel('Loss', fontdict={'size':'12'})\n",
    "plt.xticks([0,1,2,3,4,5,6,7,8,9],[1,2,3,4,5,6,7,8,9,10])\n",
    "\n",
    "#plt.savefig('../images/drawn_cap_loss_.png')\n",
    ";"
   ]
  },
  {
   "cell_type": "code",
   "execution_count": 25,
   "metadata": {
    "ExecuteTime": {
     "end_time": "2020-06-08T16:44:25.844792Z",
     "start_time": "2020-06-08T16:44:25.809864Z"
    }
   },
   "outputs": [],
   "source": [
    "def predict_one(img, true):\n",
    "    # Find prediction for each character output\n",
    "    onehotpred = np.array(model.predict(img.reshape(1,50,200,1))).reshape(5,36)    \n",
    "    pred = ''\n",
    "    \n",
    "    # Concatenate each character prediction\n",
    "    for i in onehotpred:\n",
    "        c = chars[np.argmax(i)]\n",
    "        pred += c\n",
    "\n",
    "    return true, pred"
   ]
  },
  {
   "cell_type": "code",
   "execution_count": 27,
   "metadata": {
    "ExecuteTime": {
     "end_time": "2020-06-08T16:44:29.392607Z",
     "start_time": "2020-06-08T16:44:29.325232Z"
    }
   },
   "outputs": [
    {
     "data": {
      "text/plain": [
       "('34f3e', '34f3e')"
      ]
     },
     "execution_count": 27,
     "metadata": {},
     "output_type": "execute_result"
    }
   ],
   "source": [
    "img=cv2.imread('../data/drawn/34f3e.png',cv2.IMREAD_UNCHANGED)\n",
    "img = img / 255.0\n",
    "img = img.reshape(50, 200, 1)\n",
    "predict_one(img, '34f3e')"
   ]
  },
  {
   "cell_type": "code",
   "execution_count": 28,
   "metadata": {
    "ExecuteTime": {
     "end_time": "2020-06-08T16:44:30.378171Z",
     "start_time": "2020-06-08T16:44:30.345347Z"
    }
   },
   "outputs": [],
   "source": [
    "#model.save('../models/5cnn_draw_model.h5')"
   ]
  },
  {
   "cell_type": "code",
   "execution_count": null,
   "metadata": {},
   "outputs": [],
   "source": []
  }
 ],
 "metadata": {
  "kernelspec": {
   "display_name": "Environment (conda_tensorflow2_p36)",
   "language": "python",
   "name": "conda_tensorflow2_p36"
  },
  "language_info": {
   "codemirror_mode": {
    "name": "ipython",
    "version": 3
   },
   "file_extension": ".py",
   "mimetype": "text/x-python",
   "name": "python",
   "nbconvert_exporter": "python",
   "pygments_lexer": "ipython3",
   "version": "3.6.10"
  }
 },
 "nbformat": 4,
 "nbformat_minor": 4
}
