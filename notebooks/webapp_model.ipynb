{
 "cells": [
  {
   "cell_type": "markdown",
   "metadata": {},
   "source": [
    "# Predicting Hand Drawn Captcha"
   ]
  },
  {
   "cell_type": "markdown",
   "metadata": {},
   "source": [
    "#### Imports"
   ]
  },
  {
   "cell_type": "code",
   "execution_count": 1,
   "metadata": {
    "ExecuteTime": {
     "end_time": "2020-06-08T19:01:22.615788Z",
     "start_time": "2020-06-08T19:01:22.600710Z"
    }
   },
   "outputs": [],
   "source": [
    "%load_ext autoreload\n",
    "%autoreload 2"
   ]
  },
  {
   "cell_type": "code",
   "execution_count": 2,
   "metadata": {
    "ExecuteTime": {
     "end_time": "2020-06-08T19:01:23.690656Z",
     "start_time": "2020-06-08T19:01:22.868968Z"
    }
   },
   "outputs": [],
   "source": [
    "import os\n",
    "import string\n",
    "import random\n",
    "\n",
    "import numpy as np\n",
    "import pandas as pd\n",
    "import matplotlib.pyplot as plt\n",
    "import seaborn\n",
    "\n",
    "%matplotlib inline "
   ]
  },
  {
   "cell_type": "code",
   "execution_count": 3,
   "metadata": {
    "ExecuteTime": {
     "end_time": "2020-06-08T19:01:25.527605Z",
     "start_time": "2020-06-08T19:01:23.692317Z"
    }
   },
   "outputs": [
    {
     "data": {
      "text/plain": [
       "('2.1.0', '4.2.0')"
      ]
     },
     "execution_count": 3,
     "metadata": {},
     "output_type": "execute_result"
    }
   ],
   "source": [
    "import tensorflow as tf\n",
    "from tensorflow.keras.layers import Input, Conv2D, MaxPooling2D, Flatten, Dense, Dropout, BatchNormalization\n",
    "from tensorflow.keras import Model\n",
    "\n",
    "from PIL import Image\n",
    "import cv2\n",
    "tf.__version__, cv2.__version__"
   ]
  },
  {
   "cell_type": "code",
   "execution_count": 4,
   "metadata": {
    "ExecuteTime": {
     "end_time": "2020-06-08T19:01:25.564595Z",
     "start_time": "2020-06-08T19:01:25.529394Z"
    }
   },
   "outputs": [],
   "source": [
    "from emnist import list_datasets\n",
    "from emnist import extract_training_samples, extract_test_samples"
   ]
  },
  {
   "cell_type": "code",
   "execution_count": 5,
   "metadata": {
    "ExecuteTime": {
     "end_time": "2020-06-08T19:01:25.596341Z",
     "start_time": "2020-06-08T19:01:25.566042Z"
    }
   },
   "outputs": [
    {
     "data": {
      "text/plain": [
       "['balanced', 'byclass', 'bymerge', 'digits', 'letters', 'mnist']"
      ]
     },
     "execution_count": 5,
     "metadata": {},
     "output_type": "execute_result"
    }
   ],
   "source": [
    "list_datasets()"
   ]
  },
  {
   "cell_type": "markdown",
   "metadata": {},
   "source": [
    "## Load Data"
   ]
  },
  {
   "cell_type": "code",
   "execution_count": 6,
   "metadata": {
    "ExecuteTime": {
     "end_time": "2020-06-08T19:01:26.148339Z",
     "start_time": "2020-06-08T19:01:25.597699Z"
    }
   },
   "outputs": [
    {
     "data": {
      "text/plain": [
       "1013366"
      ]
     },
     "execution_count": 6,
     "metadata": {},
     "output_type": "execute_result"
    }
   ],
   "source": [
    "len(os.listdir('../data/drawn/'))"
   ]
  },
  {
   "cell_type": "code",
   "execution_count": 7,
   "metadata": {
    "ExecuteTime": {
     "end_time": "2020-06-08T19:01:26.357520Z",
     "start_time": "2020-06-08T19:01:26.149995Z"
    }
   },
   "outputs": [
    {
     "data": {
      "text/plain": [
       "<matplotlib.image.AxesImage at 0x7fe3a51ede48>"
      ]
     },
     "execution_count": 7,
     "metadata": {},
     "output_type": "execute_result"
    },
    {
     "data": {
      "image/png": "[encoded data removed]",
      "text/plain": [
       "<Figure size 432x288 with 1 Axes>"
      ]
     },
     "metadata": {
      "needs_background": "light"
     },
     "output_type": "display_data"
    }
   ],
   "source": [
    "img=cv2.imread('../data/drawn/4f477.png',cv2.IMREAD_UNCHANGED)\n",
    "plt.imshow(img, cmap=plt.cm.binary)"
   ]
  },
  {
   "cell_type": "code",
   "execution_count": 8,
   "metadata": {
    "ExecuteTime": {
     "end_time": "2020-06-08T19:01:26.944602Z",
     "start_time": "2020-06-08T19:01:26.901508Z"
    },
    "code_folding": [
     3,
     17,
     39
    ]
   },
   "outputs": [],
   "source": [
    "chars = '0123456789' + string.ascii_lowercase\n",
    "num_chars = len(chars)\n",
    "\n",
    "def data_check(from_src=False):\n",
    "    '''Check for non PNG files\n",
    "    '''\n",
    "    if from_src:\n",
    "        path = '../data/drawn/'\n",
    "    else:\n",
    "        path = 'data/drawn/'\n",
    "        \n",
    "    for name in os.listdir(path):\n",
    "        if name[-4:] == '.png':\n",
    "            pass\n",
    "        else:\n",
    "            print(name)\n",
    "            \n",
    "def mix_img(img, fill_val = 0):\n",
    "    # random rotate value\n",
    "    ang_list = [-5,-4,-3,-2,-1,0,0,0,0,0,1,2,3,4,5]\n",
    "    ang = random.choice(ang_list)\n",
    "    # rotate image\n",
    "    im = Image.fromarray(img)\n",
    "    img = np.asarray(im.rotate(ang))\n",
    "    \n",
    "    return img\n",
    "\n",
    "def load_drawn_data(from_src=False):\n",
    "    if from_src:\n",
    "        path = '../data/drawn/'\n",
    "    else:\n",
    "        path = 'data/drawn/'\n",
    "        \n",
    "    leng = 750000#len(os.listdir(path))\n",
    "        \n",
    "    X = np.zeros((leng, 50, 200, 1)) \n",
    "    y = np.zeros((5, leng, num_chars)) \n",
    "    labels = []\n",
    "    \n",
    "    for i, name in enumerate(os.listdir(path)):\n",
    "        \n",
    "        if i == leng:\n",
    "            break\n",
    "            \n",
    "        img_path = path + name\n",
    "        img = cv2.imread(img_path, cv2.IMREAD_UNCHANGED)\n",
    "        \n",
    "        img = img / 255.0\n",
    "        img = img.reshape(50, 200, 1)\n",
    "        \n",
    "        # Define labels using OneHotEncoding\n",
    "        label = name[:-4]\n",
    "        target = np.zeros((5, num_chars))\n",
    "        for j, l in enumerate(label):\n",
    "            ind = chars.find(l)\n",
    "            target[j, ind] = 1\n",
    "        \n",
    "        X[i] = img\n",
    "        y[:, i] = target\n",
    "        labels.append(label)\n",
    "   \n",
    "    return X, y, np.array(labels)"
   ]
  },
  {
   "cell_type": "code",
   "execution_count": 9,
   "metadata": {
    "ExecuteTime": {
     "end_time": "2020-06-08T19:01:27.993779Z",
     "start_time": "2020-06-08T19:01:27.331072Z"
    }
   },
   "outputs": [],
   "source": [
    "data_check(from_src=True)"
   ]
  },
  {
   "cell_type": "code",
   "execution_count": null,
   "metadata": {
    "ExecuteTime": {
     "start_time": "2020-06-08T19:01:27.685Z"
    }
   },
   "outputs": [],
   "source": [
    "nX, ny, nlabels = load_drawn_data(from_src=True)"
   ]
  },
  {
   "cell_type": "code",
   "execution_count": null,
   "metadata": {
    "ExecuteTime": {
     "start_time": "2020-06-08T19:01:28.540Z"
    }
   },
   "outputs": [],
   "source": [
    "nX.shape, ny.shape, nlabels.shape"
   ]
  },
  {
   "cell_type": "markdown",
   "metadata": {},
   "source": [
    "## Build Model"
   ]
  },
  {
   "cell_type": "code",
   "execution_count": 12,
   "metadata": {
    "ExecuteTime": {
     "end_time": "2020-06-08T15:35:53.659376Z",
     "start_time": "2020-06-08T15:35:49.576373Z"
    },
    "code_folding": []
   },
   "outputs": [],
   "source": [
    "# Model Outline\n",
    "input_shape = (50, 200, 1)\n",
    "i = [32,64,32,32,5,16]\n",
    "\n",
    "# Input layer\n",
    "imgm = Input(shape=input_shape)\n",
    "\n",
    "# Convolution and Max Pooling layers\n",
    "cn1 = Conv2D(i[0], (i[4], i[4]), padding='same', activation='relu')(imgm)\n",
    "mp1 = MaxPooling2D(padding='same')(cn1)  \n",
    "\n",
    "cn2 = Conv2D(i[1], (i[4], i[4]), padding='same', activation='relu')(mp1)\n",
    "mp2 = MaxPooling2D(padding='same')(cn2)  \n",
    "\n",
    "cn3 = Conv2D(i[2], (i[4], i[4]), padding='same', activation='relu')(mp2)\n",
    "mp3 = MaxPooling2D(padding='same')(cn3)   \n",
    "\n",
    "cn4 = Conv2D(i[3], (i[4], i[4]), padding='same', activation='relu')(mp3)\n",
    "bn = BatchNormalization()(cn4)\n",
    "mp4 = MaxPooling2D(padding='same')(bn) \n",
    "\n",
    "cn5 = Conv2D(i[5], (i[4], i[4]), padding='same', activation='relu')(mp4)\n",
    "mp5 = MaxPooling2D(padding='same')(cn5)\n",
    "\n",
    "# Flatten and Dense layers\n",
    "flat = Flatten()(mp5)\n",
    "output = []\n",
    "for _ in range(5):\n",
    "    dens1 = Dense(128, activation='relu')(flat)\n",
    "    drop = Dropout(0.5)(dens1)\n",
    "    result = Dense(num_chars, activation='sigmoid')(drop)\n",
    "\n",
    "    output.append(result)"
   ]
  },
  {
   "cell_type": "code",
   "execution_count": 13,
   "metadata": {
    "ExecuteTime": {
     "end_time": "2020-06-08T15:35:53.874368Z",
     "start_time": "2020-06-08T15:35:53.661118Z"
    }
   },
   "outputs": [],
   "source": [
    "# Compile model\n",
    "model = Model(imgm, output)\n",
    "model.compile(loss='categorical_crossentropy', optimizer='adam', metrics=[\"accuracy\"])"
   ]
  },
  {
   "cell_type": "code",
   "execution_count": 14,
   "metadata": {
    "ExecuteTime": {
     "end_time": "2020-06-08T15:35:53.914854Z",
     "start_time": "2020-06-08T15:35:53.875751Z"
    },
    "scrolled": true
   },
   "outputs": [
    {
     "name": "stdout",
     "output_type": "stream",
     "text": [
      "Model: \"model\"\n",
      "__________________________________________________________________________________________________\n",
      "Layer (type)                    Output Shape         Param #     Connected to                     \n",
      "==================================================================================================\n",
      "input_1 (InputLayer)            [(None, 50, 200, 1)] 0                                            \n",
      "__________________________________________________________________________________________________\n",
      "conv2d (Conv2D)                 (None, 50, 200, 32)  832         input_1[0][0]                    \n",
      "__________________________________________________________________________________________________\n",
      "max_pooling2d (MaxPooling2D)    (None, 25, 100, 32)  0           conv2d[0][0]                     \n",
      "__________________________________________________________________________________________________\n",
      "conv2d_1 (Conv2D)               (None, 25, 100, 64)  51264       max_pooling2d[0][0]              \n",
      "__________________________________________________________________________________________________\n",
      "max_pooling2d_1 (MaxPooling2D)  (None, 13, 50, 64)   0           conv2d_1[0][0]                   \n",
      "__________________________________________________________________________________________________\n",
      "conv2d_2 (Conv2D)               (None, 13, 50, 32)   51232       max_pooling2d_1[0][0]            \n",
      "__________________________________________________________________________________________________\n",
      "max_pooling2d_2 (MaxPooling2D)  (None, 7, 25, 32)    0           conv2d_2[0][0]                   \n",
      "__________________________________________________________________________________________________\n",
      "conv2d_3 (Conv2D)               (None, 7, 25, 32)    25632       max_pooling2d_2[0][0]            \n",
      "__________________________________________________________________________________________________\n",
      "batch_normalization (BatchNorma (None, 7, 25, 32)    128         conv2d_3[0][0]                   \n",
      "__________________________________________________________________________________________________\n",
      "max_pooling2d_3 (MaxPooling2D)  (None, 4, 13, 32)    0           batch_normalization[0][0]        \n",
      "__________________________________________________________________________________________________\n",
      "conv2d_4 (Conv2D)               (None, 4, 13, 16)    12816       max_pooling2d_3[0][0]            \n",
      "__________________________________________________________________________________________________\n",
      "max_pooling2d_4 (MaxPooling2D)  (None, 2, 7, 16)     0           conv2d_4[0][0]                   \n",
      "__________________________________________________________________________________________________\n",
      "flatten (Flatten)               (None, 224)          0           max_pooling2d_4[0][0]            \n",
      "__________________________________________________________________________________________________\n",
      "dense (Dense)                   (None, 128)          28800       flatten[0][0]                    \n",
      "__________________________________________________________________________________________________\n",
      "dense_2 (Dense)                 (None, 128)          28800       flatten[0][0]                    \n",
      "__________________________________________________________________________________________________\n",
      "dense_4 (Dense)                 (None, 128)          28800       flatten[0][0]                    \n",
      "__________________________________________________________________________________________________\n",
      "dense_6 (Dense)                 (None, 128)          28800       flatten[0][0]                    \n",
      "__________________________________________________________________________________________________\n",
      "dense_8 (Dense)                 (None, 128)          28800       flatten[0][0]                    \n",
      "__________________________________________________________________________________________________\n",
      "dropout (Dropout)               (None, 128)          0           dense[0][0]                      \n",
      "__________________________________________________________________________________________________\n",
      "dropout_1 (Dropout)             (None, 128)          0           dense_2[0][0]                    \n",
      "__________________________________________________________________________________________________\n",
      "dropout_2 (Dropout)             (None, 128)          0           dense_4[0][0]                    \n",
      "__________________________________________________________________________________________________\n",
      "dropout_3 (Dropout)             (None, 128)          0           dense_6[0][0]                    \n",
      "__________________________________________________________________________________________________\n",
      "dropout_4 (Dropout)             (None, 128)          0           dense_8[0][0]                    \n",
      "__________________________________________________________________________________________________\n",
      "dense_1 (Dense)                 (None, 36)           4644        dropout[0][0]                    \n",
      "__________________________________________________________________________________________________\n",
      "dense_3 (Dense)                 (None, 36)           4644        dropout_1[0][0]                  \n",
      "__________________________________________________________________________________________________\n",
      "dense_5 (Dense)                 (None, 36)           4644        dropout_2[0][0]                  \n",
      "__________________________________________________________________________________________________\n",
      "dense_7 (Dense)                 (None, 36)           4644        dropout_3[0][0]                  \n",
      "__________________________________________________________________________________________________\n",
      "dense_9 (Dense)                 (None, 36)           4644        dropout_4[0][0]                  \n",
      "==================================================================================================\n",
      "Total params: 309,124\n",
      "Trainable params: 309,060\n",
      "Non-trainable params: 64\n",
      "__________________________________________________________________________________________________\n"
     ]
    }
   ],
   "source": [
    "model.summary();"
   ]
  },
  {
   "cell_type": "code",
   "execution_count": 15,
   "metadata": {
    "ExecuteTime": {
     "end_time": "2020-06-08T16:42:37.984184Z",
     "start_time": "2020-06-08T15:35:53.916215Z"
    },
    "code_folding": [],
    "scrolled": true
   },
   "outputs": [
    {
     "name": "stdout",
     "output_type": "stream",
     "text": [
      "Train on 600000 samples, validate on 150000 samples\n",
      "Epoch 1/10\n",
      "600000/600000 - 409s - loss: 3.5248 - dense_1_loss: 0.6918 - dense_3_loss: 0.7228 - dense_5_loss: 0.7219 - dense_7_loss: 0.7235 - dense_9_loss: 0.6646 - dense_1_accuracy: 0.7955 - dense_3_accuracy: 0.7864 - dense_5_accuracy: 0.7862 - dense_7_accuracy: 0.7870 - dense_9_accuracy: 0.8035 - val_loss: 1.3747 - val_dense_1_loss: 0.2694 - val_dense_3_loss: 0.2810 - val_dense_5_loss: 0.2786 - val_dense_7_loss: 0.2784 - val_dense_9_loss: 0.2672 - val_dense_1_accuracy: 0.9103 - val_dense_3_accuracy: 0.9060 - val_dense_5_accuracy: 0.9069 - val_dense_7_accuracy: 0.9072 - val_dense_9_accuracy: 0.9087\n",
      "Epoch 2/10\n",
      "600000/600000 - 395s - loss: 1.5439 - dense_1_loss: 0.3018 - dense_3_loss: 0.3167 - dense_5_loss: 0.3115 - dense_7_loss: 0.3163 - dense_9_loss: 0.2976 - dense_1_accuracy: 0.9033 - dense_3_accuracy: 0.8996 - dense_5_accuracy: 0.9005 - dense_7_accuracy: 0.8997 - dense_9_accuracy: 0.9046 - val_loss: 1.2319 - val_dense_1_loss: 0.2440 - val_dense_3_loss: 0.2529 - val_dense_5_loss: 0.2518 - val_dense_7_loss: 0.2473 - val_dense_9_loss: 0.2359 - val_dense_1_accuracy: 0.9177 - val_dense_3_accuracy: 0.9152 - val_dense_5_accuracy: 0.9157 - val_dense_7_accuracy: 0.9160 - val_dense_9_accuracy: 0.9192\n",
      "Epoch 3/10\n",
      "600000/600000 - 395s - loss: 1.3782 - dense_1_loss: 0.2690 - dense_3_loss: 0.2824 - dense_5_loss: 0.2791 - dense_7_loss: 0.2808 - dense_9_loss: 0.2667 - dense_1_accuracy: 0.9122 - dense_3_accuracy: 0.9087 - dense_5_accuracy: 0.9095 - dense_7_accuracy: 0.9095 - dense_9_accuracy: 0.9126 - val_loss: 1.1856 - val_dense_1_loss: 0.2371 - val_dense_3_loss: 0.2373 - val_dense_5_loss: 0.2368 - val_dense_7_loss: 0.2403 - val_dense_9_loss: 0.2342 - val_dense_1_accuracy: 0.9178 - val_dense_3_accuracy: 0.9178 - val_dense_5_accuracy: 0.9194 - val_dense_7_accuracy: 0.9190 - val_dense_9_accuracy: 0.9201\n",
      "Epoch 4/10\n",
      "600000/600000 - 395s - loss: 1.2823 - dense_1_loss: 0.2514 - dense_3_loss: 0.2615 - dense_5_loss: 0.2598 - dense_7_loss: 0.2613 - dense_9_loss: 0.2482 - dense_1_accuracy: 0.9168 - dense_3_accuracy: 0.9141 - dense_5_accuracy: 0.9148 - dense_7_accuracy: 0.9146 - dense_9_accuracy: 0.9179 - val_loss: 1.1348 - val_dense_1_loss: 0.2225 - val_dense_3_loss: 0.2265 - val_dense_5_loss: 0.2306 - val_dense_7_loss: 0.2297 - val_dense_9_loss: 0.2254 - val_dense_1_accuracy: 0.9225 - val_dense_3_accuracy: 0.9221 - val_dense_5_accuracy: 0.9206 - val_dense_7_accuracy: 0.9217 - val_dense_9_accuracy: 0.9216\n",
      "Epoch 5/10\n",
      "600000/600000 - 395s - loss: 1.2205 - dense_1_loss: 0.2393 - dense_3_loss: 0.2484 - dense_5_loss: 0.2474 - dense_7_loss: 0.2487 - dense_9_loss: 0.2367 - dense_1_accuracy: 0.9201 - dense_3_accuracy: 0.9180 - dense_5_accuracy: 0.9181 - dense_7_accuracy: 0.9177 - dense_9_accuracy: 0.9208 - val_loss: 1.0933 - val_dense_1_loss: 0.2183 - val_dense_3_loss: 0.2214 - val_dense_5_loss: 0.2210 - val_dense_7_loss: 0.2212 - val_dense_9_loss: 0.2114 - val_dense_1_accuracy: 0.9242 - val_dense_3_accuracy: 0.9236 - val_dense_5_accuracy: 0.9247 - val_dense_7_accuracy: 0.9233 - val_dense_9_accuracy: 0.9259\n",
      "Epoch 6/10\n",
      "600000/600000 - 394s - loss: 1.1729 - dense_1_loss: 0.2302 - dense_3_loss: 0.2391 - dense_5_loss: 0.2369 - dense_7_loss: 0.2386 - dense_9_loss: 0.2282 - dense_1_accuracy: 0.9224 - dense_3_accuracy: 0.9205 - dense_5_accuracy: 0.9211 - dense_7_accuracy: 0.9204 - dense_9_accuracy: 0.9229 - val_loss: 1.0540 - val_dense_1_loss: 0.2067 - val_dense_3_loss: 0.2139 - val_dense_5_loss: 0.2144 - val_dense_7_loss: 0.2131 - val_dense_9_loss: 0.2061 - val_dense_1_accuracy: 0.9281 - val_dense_3_accuracy: 0.9267 - val_dense_5_accuracy: 0.9262 - val_dense_7_accuracy: 0.9263 - val_dense_9_accuracy: 0.9272\n",
      "Epoch 7/10\n",
      "600000/600000 - 394s - loss: 1.1336 - dense_1_loss: 0.2232 - dense_3_loss: 0.2311 - dense_5_loss: 0.2295 - dense_7_loss: 0.2295 - dense_9_loss: 0.2203 - dense_1_accuracy: 0.9240 - dense_3_accuracy: 0.9225 - dense_5_accuracy: 0.9227 - dense_7_accuracy: 0.9225 - dense_9_accuracy: 0.9251 - val_loss: 1.0462 - val_dense_1_loss: 0.2081 - val_dense_3_loss: 0.2116 - val_dense_5_loss: 0.2099 - val_dense_7_loss: 0.2103 - val_dense_9_loss: 0.2062 - val_dense_1_accuracy: 0.9283 - val_dense_3_accuracy: 0.9267 - val_dense_5_accuracy: 0.9271 - val_dense_7_accuracy: 0.9269 - val_dense_9_accuracy: 0.9276\n",
      "Epoch 8/10\n",
      "600000/600000 - 395s - loss: 1.1005 - dense_1_loss: 0.2165 - dense_3_loss: 0.2237 - dense_5_loss: 0.2224 - dense_7_loss: 0.2236 - dense_9_loss: 0.2143 - dense_1_accuracy: 0.9261 - dense_3_accuracy: 0.9237 - dense_5_accuracy: 0.9245 - dense_7_accuracy: 0.9243 - dense_9_accuracy: 0.9266 - val_loss: 1.0326 - val_dense_1_loss: 0.2069 - val_dense_3_loss: 0.2101 - val_dense_5_loss: 0.2081 - val_dense_7_loss: 0.2067 - val_dense_9_loss: 0.2007 - val_dense_1_accuracy: 0.9287 - val_dense_3_accuracy: 0.9277 - val_dense_5_accuracy: 0.9275 - val_dense_7_accuracy: 0.9281 - val_dense_9_accuracy: 0.9290\n",
      "Epoch 9/10\n",
      "600000/600000 - 395s - loss: 1.0747 - dense_1_loss: 0.2108 - dense_3_loss: 0.2187 - dense_5_loss: 0.2174 - dense_7_loss: 0.2173 - dense_9_loss: 0.2103 - dense_1_accuracy: 0.9275 - dense_3_accuracy: 0.9251 - dense_5_accuracy: 0.9255 - dense_7_accuracy: 0.9256 - dense_9_accuracy: 0.9276 - val_loss: 1.0050 - val_dense_1_loss: 0.1977 - val_dense_3_loss: 0.2025 - val_dense_5_loss: 0.2034 - val_dense_7_loss: 0.2034 - val_dense_9_loss: 0.1980 - val_dense_1_accuracy: 0.9296 - val_dense_3_accuracy: 0.9290 - val_dense_5_accuracy: 0.9286 - val_dense_7_accuracy: 0.9288 - val_dense_9_accuracy: 0.9298\n",
      "Epoch 10/10\n",
      "600000/600000 - 394s - loss: 1.0502 - dense_1_loss: 0.2075 - dense_3_loss: 0.2134 - dense_5_loss: 0.2130 - dense_7_loss: 0.2128 - dense_9_loss: 0.2035 - dense_1_accuracy: 0.9282 - dense_3_accuracy: 0.9264 - dense_5_accuracy: 0.9269 - dense_7_accuracy: 0.9270 - dense_9_accuracy: 0.9293 - val_loss: 1.0202 - val_dense_1_loss: 0.2000 - val_dense_3_loss: 0.2042 - val_dense_5_loss: 0.2069 - val_dense_7_loss: 0.2075 - val_dense_9_loss: 0.2016 - val_dense_1_accuracy: 0.9300 - val_dense_3_accuracy: 0.9276 - val_dense_5_accuracy: 0.9279 - val_dense_7_accuracy: 0.9273 - val_dense_9_accuracy: 0.9285\n"
     ]
    }
   ],
   "source": [
    "history = model.fit(nX, [ny[0], ny[1], ny[2], ny[3], ny[4]],\n",
    "                 batch_size=256, epochs=10, verbose=2, validation_split=0.2)"
   ]
  },
  {
   "cell_type": "code",
   "execution_count": 16,
   "metadata": {
    "ExecuteTime": {
     "end_time": "2020-06-08T16:42:38.464515Z",
     "start_time": "2020-06-08T16:42:37.985988Z"
    }
   },
   "outputs": [],
   "source": [
    "acc, loss = [], []\n",
    "for i, l in enumerate(history.history.values()):\n",
    "    if i >= 17:\n",
    "        acc.append(l)\n",
    "    elif i >= 12:\n",
    "        loss.append(l)\n",
    "        #print(i)"
   ]
  },
  {
   "cell_type": "code",
   "execution_count": 17,
   "metadata": {
    "ExecuteTime": {
     "end_time": "2020-06-08T16:42:38.499672Z",
     "start_time": "2020-06-08T16:42:38.466760Z"
    }
   },
   "outputs": [
    {
     "data": {
      "text/plain": [
       "[0.93, 0.93, 0.93, 0.93, 0.93]"
      ]
     },
     "execution_count": 17,
     "metadata": {},
     "output_type": "execute_result"
    }
   ],
   "source": [
    "[max(i).round(2) for i in acc]"
   ]
  },
  {
   "cell_type": "markdown",
   "metadata": {},
   "source": [
    "32/64/32/16 (7)\n",
    "- dense 64: [0.9, 0.89, 0.89, 0.89, 0.9]\n",
    "- dense 128: [0.91, 0.9, 0.9, 0.9, 0.9]\n",
    "- bn/dense 128: [0.91, 0.9, 0.9, 0.9, 0.9]\n"
   ]
  },
  {
   "cell_type": "code",
   "execution_count": 24,
   "metadata": {
    "ExecuteTime": {
     "end_time": "2020-06-08T16:44:21.708656Z",
     "start_time": "2020-06-08T16:44:21.177887Z"
    }
   },
   "outputs": [
    {
     "data": {
      "text/plain": [
       "''"
      ]
     },
     "execution_count": 24,
     "metadata": {},
     "output_type": "execute_result"
    },
    {
     "data": {
      "image/png": "[encoded data removed]",
      "text/plain": [
       "<Figure size 432x288 with 1 Axes>"
      ]
     },
     "metadata": {
      "needs_background": "light"
     },
     "output_type": "display_data"
    },
    {
     "data": {
      "image/png": "[encoded data removed]",
      "text/plain": [
       "<Figure size 432x288 with 1 Axes>"
      ]
     },
     "metadata": {
      "needs_background": "light"
     },
     "output_type": "display_data"
    }
   ],
   "source": [
    "# Get number of epochs\n",
    "epochs = range(len(acc[0]))\n",
    "\n",
    "# Plot validation accuracy per epoch\n",
    "for i in acc:\n",
    "    plt.plot(epochs, i)\n",
    "plt.legend(['1','2','3','4','5'], loc='lower right', title='  Character  ', shadow=True)\n",
    "plt.title('Accuracy of Each Character', fontdict={'size':'17'})\n",
    "plt.xlabel('Epoch', fontdict={'size':'12'})\n",
    "plt.ylabel('Accuracy', fontdict={'size':'12'})\n",
    "plt.xticks([0,1,2,3,4,5,6,7,8,9],[1,2,3,4,5,6,7,8,9,10])\n",
    "\n",
    "#plt.savefig('../images/drawn_cap_acc_.png')\n",
    "plt.figure()\n",
    "\n",
    "# Plot training and validation loss per epoch\n",
    "for i in loss:\n",
    "    plt.plot(epochs, i)\n",
    "plt.legend(['1','2','3','4','5'], loc='upper right', title='  Character  ', shadow=True)\n",
    "plt.title('Loss of Each Character', fontdict={'size':'17'})\n",
    "plt.xlabel('Epoch', fontdict={'size':'12'})\n",
    "plt.ylabel('Loss', fontdict={'size':'12'})\n",
    "plt.xticks([0,1,2,3,4,5,6,7,8,9],[1,2,3,4,5,6,7,8,9,10])\n",
    "\n",
    "#plt.savefig('../images/drawn_cap_loss_.png')\n",
    ";"
   ]
  },
  {
   "cell_type": "code",
   "execution_count": 25,
   "metadata": {
    "ExecuteTime": {
     "end_time": "2020-06-08T16:44:25.844792Z",
     "start_time": "2020-06-08T16:44:25.809864Z"
    }
   },
   "outputs": [],
   "source": [
    "def predict_one(img, true):\n",
    "    # Find prediction for each character output\n",
    "    onehotpred = np.array(model.predict(img.reshape(1,50,200,1))).reshape(5,36)    \n",
    "    pred = ''\n",
    "    \n",
    "    # Concatenate each character prediction\n",
    "    for i in onehotpred:\n",
    "        c = chars[np.argmax(i)]\n",
    "        pred += c\n",
    "\n",
    "    return true, pred"
   ]
  },
  {
   "cell_type": "code",
   "execution_count": 27,
   "metadata": {
    "ExecuteTime": {
     "end_time": "2020-06-08T16:44:29.392607Z",
     "start_time": "2020-06-08T16:44:29.325232Z"
    }
   },
   "outputs": [
    {
     "data": {
      "text/plain": [
       "('34f3e', '34f3e')"
      ]
     },
     "execution_count": 27,
     "metadata": {},
     "output_type": "execute_result"
    }
   ],
   "source": [
    "img=cv2.imread('../data/drawn/34f3e.png',cv2.IMREAD_UNCHANGED)\n",
    "img = img / 255.0\n",
    "img = img.reshape(50, 200, 1)\n",
    "predict_one(img, '34f3e')"
   ]
  },
  {
   "cell_type": "code",
   "execution_count": 28,
   "metadata": {
    "ExecuteTime": {
     "end_time": "2020-06-08T16:44:30.378171Z",
     "start_time": "2020-06-08T16:44:30.345347Z"
    }
   },
   "outputs": [],
   "source": [
    "#model.save('../models/final_draw_model.h5')"
   ]
  },
  {
   "cell_type": "code",
   "execution_count": null,
   "metadata": {},
   "outputs": [],
   "source": []
  }
 ],
 "metadata": {
  "kernelspec": {
   "display_name": "Environment (conda_tensorflow2_p36)",
   "language": "python",
   "name": "conda_tensorflow2_p36"
  },
  "language_info": {
   "codemirror_mode": {
    "name": "ipython",
    "version": 3
   },
   "file_extension": ".py",
   "mimetype": "text/x-python",
   "name": "python",
   "nbconvert_exporter": "python",
   "pygments_lexer": "ipython3",
   "version": "3.6.10"
  }
 },
 "nbformat": 4,
 "nbformat_minor": 4
}
