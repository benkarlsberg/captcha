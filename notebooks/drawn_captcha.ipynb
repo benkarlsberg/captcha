{
 "cells": [
  {
   "cell_type": "markdown",
   "metadata": {},
   "source": [
    "# Predicting Hand Drawn Characters"
   ]
  },
  {
   "cell_type": "markdown",
   "metadata": {},
   "source": [
    "#### Imports"
   ]
  },
  {
   "cell_type": "code",
   "execution_count": 1,
   "metadata": {
    "ExecuteTime": {
     "end_time": "2020-06-08T18:58:43.095290Z",
     "start_time": "2020-06-08T18:58:43.082038Z"
    }
   },
   "outputs": [],
   "source": [
    "%load_ext autoreload\n",
    "%autoreload 2"
   ]
  },
  {
   "cell_type": "code",
   "execution_count": 2,
   "metadata": {
    "ExecuteTime": {
     "end_time": "2020-06-08T18:58:44.151773Z",
     "start_time": "2020-06-08T18:58:43.314663Z"
    }
   },
   "outputs": [],
   "source": [
    "import os\n",
    "import string\n",
    "import random\n",
    "\n",
    "import numpy as np\n",
    "import pandas as pd\n",
    "import matplotlib.pyplot as plt\n",
    "import seaborn\n",
    "\n",
    "%matplotlib inline "
   ]
  },
  {
   "cell_type": "code",
   "execution_count": 3,
   "metadata": {
    "ExecuteTime": {
     "end_time": "2020-06-08T18:58:46.024896Z",
     "start_time": "2020-06-08T18:58:44.153501Z"
    }
   },
   "outputs": [
    {
     "data": {
      "text/plain": [
       "('2.1.0', '4.2.0')"
      ]
     },
     "execution_count": 3,
     "metadata": {},
     "output_type": "execute_result"
    }
   ],
   "source": [
    "import tensorflow as tf\n",
    "from tensorflow.keras.layers import Input, Conv2D, MaxPooling2D, Flatten, Dense, Dropout, BatchNormalization, LeakyReLU\n",
    "from tensorflow.keras import Model\n",
    "\n",
    "from PIL import Image\n",
    "import cv2\n",
    "tf.__version__, cv2.__version__"
   ]
  },
  {
   "cell_type": "code",
   "execution_count": 4,
   "metadata": {
    "ExecuteTime": {
     "end_time": "2020-06-08T18:58:46.068060Z",
     "start_time": "2020-06-08T18:58:46.026771Z"
    }
   },
   "outputs": [],
   "source": [
    "from emnist import list_datasets\n",
    "from emnist import extract_training_samples, extract_test_samples"
   ]
  },
  {
   "cell_type": "code",
   "execution_count": 5,
   "metadata": {
    "ExecuteTime": {
     "end_time": "2020-06-08T18:58:46.103773Z",
     "start_time": "2020-06-08T18:58:46.069512Z"
    }
   },
   "outputs": [
    {
     "data": {
      "text/plain": [
       "['balanced', 'byclass', 'bymerge', 'digits', 'letters', 'mnist']"
      ]
     },
     "execution_count": 5,
     "metadata": {},
     "output_type": "execute_result"
    }
   ],
   "source": [
    "list_datasets()"
   ]
  },
  {
   "cell_type": "markdown",
   "metadata": {},
   "source": [
    "### Load Data"
   ]
  },
  {
   "cell_type": "code",
   "execution_count": 6,
   "metadata": {
    "ExecuteTime": {
     "end_time": "2020-06-08T18:58:52.593137Z",
     "start_time": "2020-06-08T18:58:46.651295Z"
    }
   },
   "outputs": [],
   "source": [
    "X_train, train_labels = extract_training_samples('byclass')"
   ]
  },
  {
   "cell_type": "code",
   "execution_count": 7,
   "metadata": {
    "ExecuteTime": {
     "end_time": "2020-06-08T18:58:52.628716Z",
     "start_time": "2020-06-08T18:58:52.594953Z"
    }
   },
   "outputs": [
    {
     "data": {
      "text/plain": [
       "((697932, 28, 28), (697932,))"
      ]
     },
     "execution_count": 7,
     "metadata": {},
     "output_type": "execute_result"
    }
   ],
   "source": [
    "X_train.shape, train_labels.shape"
   ]
  },
  {
   "cell_type": "code",
   "execution_count": 8,
   "metadata": {
    "ExecuteTime": {
     "end_time": "2020-06-08T18:58:53.630438Z",
     "start_time": "2020-06-08T18:58:52.630679Z"
    }
   },
   "outputs": [],
   "source": [
    "X_test, test_labels = extract_test_samples('byclass')"
   ]
  },
  {
   "cell_type": "code",
   "execution_count": 9,
   "metadata": {
    "ExecuteTime": {
     "end_time": "2020-06-08T18:58:53.666225Z",
     "start_time": "2020-06-08T18:58:53.632289Z"
    }
   },
   "outputs": [
    {
     "data": {
      "text/plain": [
       "((116323, 28, 28), (116323,))"
      ]
     },
     "execution_count": 9,
     "metadata": {},
     "output_type": "execute_result"
    }
   ],
   "source": [
    "X_test.shape, test_labels.shape"
   ]
  },
  {
   "cell_type": "code",
   "execution_count": 10,
   "metadata": {
    "ExecuteTime": {
     "end_time": "2020-06-08T18:58:53.876804Z",
     "start_time": "2020-06-08T18:58:53.667647Z"
    }
   },
   "outputs": [
    {
     "data": {
      "text/plain": [
       "(<matplotlib.image.AxesImage at 0x7f61ae80c198>, 32)"
      ]
     },
     "execution_count": 10,
     "metadata": {},
     "output_type": "execute_result"
    },
    {
     "data": {
      "image/png": "[encoded data removed]",
      "text/plain": [
       "<Figure size 432x288 with 1 Axes>"
      ]
     },
     "metadata": {
      "needs_background": "light"
     },
     "output_type": "display_data"
    }
   ],
   "source": [
    "i = 300107\n",
    "plt.imshow(X_train[i], cmap=plt.cm.binary), train_labels[i]"
   ]
  },
  {
   "cell_type": "code",
   "execution_count": 11,
   "metadata": {
    "ExecuteTime": {
     "end_time": "2020-06-08T18:58:53.926382Z",
     "start_time": "2020-06-08T18:58:53.878270Z"
    },
    "scrolled": true
   },
   "outputs": [
    {
     "data": {
      "text/plain": [
       "0     34585\n",
       "1     38374\n",
       "2     34203\n",
       "3     35143\n",
       "4     33535\n",
       "      ...  \n",
       "57     2910\n",
       "58     2697\n",
       "59     2822\n",
       "60     2365\n",
       "61     2725\n",
       "Length: 62, dtype: int64"
      ]
     },
     "execution_count": 11,
     "metadata": {},
     "output_type": "execute_result"
    }
   ],
   "source": [
    "pd.Series(train_labels).value_counts().sort_index()"
   ]
  },
  {
   "cell_type": "markdown",
   "metadata": {},
   "source": [
    "#### Remove Uppercase"
   ]
  },
  {
   "cell_type": "code",
   "execution_count": 12,
   "metadata": {
    "ExecuteTime": {
     "end_time": "2020-06-08T18:58:53.959978Z",
     "start_time": "2020-06-08T18:58:53.927872Z"
    },
    "code_folding": [
     0
    ]
   },
   "outputs": [],
   "source": [
    "def remove_upper(X_old, labels):\n",
    "    nums = list(range(0, 10))\n",
    "    upper = list(range(10, 36))\n",
    "    lower = list(range(36, 62))\n",
    "    X = []\n",
    "    y = []\n",
    "    for x, lab in zip(X_old, labels):\n",
    "        if lab in nums:\n",
    "            X.append(x)\n",
    "            y.append(lab)\n",
    "        elif lab in upper:\n",
    "            continue\n",
    "        elif lab in lower:\n",
    "            lab -= 26\n",
    "            X.append(x)\n",
    "            y.append(lab)\n",
    "    \n",
    "    return np.array(X), np.array(y)"
   ]
  },
  {
   "cell_type": "code",
   "execution_count": 13,
   "metadata": {
    "ExecuteTime": {
     "end_time": "2020-06-08T18:59:22.253942Z",
     "start_time": "2020-06-08T18:58:53.962016Z"
    }
   },
   "outputs": [],
   "source": [
    "X_train, train_labels = remove_upper(X_train, train_labels)\n",
    "X_test, test_labels = remove_upper(X_test, test_labels)"
   ]
  },
  {
   "cell_type": "code",
   "execution_count": 14,
   "metadata": {
    "ExecuteTime": {
     "end_time": "2020-06-08T18:59:22.290400Z",
     "start_time": "2020-06-08T18:59:22.255849Z"
    }
   },
   "outputs": [
    {
     "data": {
      "text/plain": [
       "((508974, 28, 28), (508974,), (84977, 28, 28), (84977,))"
      ]
     },
     "execution_count": 14,
     "metadata": {},
     "output_type": "execute_result"
    }
   ],
   "source": [
    "X_train.shape, train_labels.shape, X_test.shape, test_labels.shape"
   ]
  },
  {
   "cell_type": "markdown",
   "metadata": {},
   "source": [
    "#### Merge Train and Test"
   ]
  },
  {
   "cell_type": "code",
   "execution_count": 15,
   "metadata": {
    "ExecuteTime": {
     "end_time": "2020-06-08T18:59:22.525939Z",
     "start_time": "2020-06-08T18:59:22.291796Z"
    }
   },
   "outputs": [],
   "source": [
    "X = np.vstack((X_train, X_test))\n",
    "labels = np.hstack((train_labels, test_labels))"
   ]
  },
  {
   "cell_type": "code",
   "execution_count": 16,
   "metadata": {
    "ExecuteTime": {
     "end_time": "2020-06-08T18:59:22.561668Z",
     "start_time": "2020-06-08T18:59:22.527557Z"
    }
   },
   "outputs": [
    {
     "data": {
      "text/plain": [
       "((593951, 28, 28), (593951,))"
      ]
     },
     "execution_count": 16,
     "metadata": {},
     "output_type": "execute_result"
    }
   ],
   "source": [
    "X.shape, labels.shape"
   ]
  },
  {
   "cell_type": "markdown",
   "metadata": {},
   "source": [
    "## Model"
   ]
  },
  {
   "cell_type": "code",
   "execution_count": 17,
   "metadata": {
    "ExecuteTime": {
     "end_time": "2020-06-08T18:59:22.591732Z",
     "start_time": "2020-06-08T18:59:22.563075Z"
    }
   },
   "outputs": [],
   "source": [
    "#chars = '0123456789' + string.ascii_uppercase + string.ascii_lowercase\n",
    "chars = '0123456789' + string.ascii_lowercase"
   ]
  },
  {
   "cell_type": "code",
   "execution_count": 18,
   "metadata": {
    "ExecuteTime": {
     "end_time": "2020-06-08T18:59:22.623943Z",
     "start_time": "2020-06-08T18:59:22.593895Z"
    }
   },
   "outputs": [
    {
     "data": {
      "text/plain": [
       "36"
      ]
     },
     "execution_count": 18,
     "metadata": {},
     "output_type": "execute_result"
    }
   ],
   "source": [
    "num_chars = len(chars) ; num_chars"
   ]
  },
  {
   "cell_type": "code",
   "execution_count": 19,
   "metadata": {
    "ExecuteTime": {
     "end_time": "2020-06-08T18:59:22.654531Z",
     "start_time": "2020-06-08T18:59:22.625603Z"
    }
   },
   "outputs": [],
   "source": [
    "X_train = X_train.reshape(-1, 28, 28, 1)"
   ]
  },
  {
   "cell_type": "code",
   "execution_count": 20,
   "metadata": {
    "ExecuteTime": {
     "end_time": "2020-06-08T18:59:22.971040Z",
     "start_time": "2020-06-08T18:59:22.655946Z"
    }
   },
   "outputs": [],
   "source": [
    "# 1-9: numbers\n",
    "# 10-35: uppercase\n",
    "# 36-61: lowercase\n",
    "\n",
    "y_train = np.zeros((len(train_labels), num_chars))\n",
    "\n",
    "for i, j in enumerate(train_labels):\n",
    "    y_train[i, j] = 1"
   ]
  },
  {
   "cell_type": "code",
   "execution_count": 21,
   "metadata": {
    "ExecuteTime": {
     "end_time": "2020-06-08T18:59:23.021066Z",
     "start_time": "2020-06-08T18:59:22.972651Z"
    }
   },
   "outputs": [
    {
     "data": {
      "text/plain": [
       "((508974, 28, 28, 1), (508974, 36), 508974.0)"
      ]
     },
     "execution_count": 21,
     "metadata": {},
     "output_type": "execute_result"
    }
   ],
   "source": [
    "X_train.shape, y_train.shape, y_train.sum()"
   ]
  },
  {
   "cell_type": "code",
   "execution_count": 22,
   "metadata": {
    "ExecuteTime": {
     "end_time": "2020-06-08T18:59:23.055805Z",
     "start_time": "2020-06-08T18:59:23.022675Z"
    }
   },
   "outputs": [],
   "source": [
    "X_test = X_test.reshape(-1, 28, 28, 1)"
   ]
  },
  {
   "cell_type": "code",
   "execution_count": 23,
   "metadata": {
    "ExecuteTime": {
     "end_time": "2020-06-08T18:59:23.128684Z",
     "start_time": "2020-06-08T18:59:23.057199Z"
    }
   },
   "outputs": [],
   "source": [
    "# 1-9: numbers\n",
    "# 10-35: uppercase\n",
    "# 36-61: lowercase\n",
    "\n",
    "y_test = np.zeros((len(test_labels), num_chars))\n",
    "\n",
    "for i, j in enumerate(test_labels):\n",
    "    y_test[i, j] = 1"
   ]
  },
  {
   "cell_type": "code",
   "execution_count": 24,
   "metadata": {
    "ExecuteTime": {
     "end_time": "2020-06-08T18:59:23.163109Z",
     "start_time": "2020-06-08T18:59:23.130122Z"
    }
   },
   "outputs": [
    {
     "data": {
      "text/plain": [
       "((84977, 28, 28, 1), (84977, 36), 84977.0)"
      ]
     },
     "execution_count": 24,
     "metadata": {},
     "output_type": "execute_result"
    }
   ],
   "source": [
    "X_test.shape, y_test.shape, y_test.sum()"
   ]
  },
  {
   "cell_type": "code",
   "execution_count": null,
   "metadata": {
    "ExecuteTime": {
     "start_time": "2020-06-08T18:59:03.100Z"
    },
    "code_folding": []
   },
   "outputs": [],
   "source": [
    "# Model Outline\n",
    "input_shape = (28, 28, 1)\n",
    "\n",
    "# Input layer\n",
    "imgm = Input(shape=input_shape)\n",
    "\n",
    "# Convolution and Max Pooling layers\n",
    "cn1 = Conv2D(32, (5,5), padding='same', activation='relu')(imgm)\n",
    "mp1 = MaxPooling2D(padding='same')(cn1)  \n",
    "\n",
    "cn2 = Conv2D(64, (5,5), padding='same', activation='relu')(mp1)\n",
    "mp2 = MaxPooling2D(padding='same')(cn2)  \n",
    "\n",
    "cn3 = Conv2D(32, (5,5), padding='same', activation='relu')(mp2)\n",
    "mp3 = MaxPooling2D(padding='same')(cn3)   \n",
    "\n",
    "cn4 = Conv2D(16, (5,5), padding='same', activation='relu')(mp3)\n",
    "mp4 = MaxPooling2D(padding='same')(cn4)   \n",
    "\n",
    "# Flatten and Dense layers\n",
    "flat = Flatten()(mp4)\n",
    "dens1 = Dense(128, activation='relu')(flat)\n",
    "#drop = Dropout(0.5)(dens1)\n",
    "bn = BatchNormalization()(dens1)\n",
    "output = Dense(num_chars, activation='softmax')(bn)#(drop)\n"
   ]
  },
  {
   "cell_type": "code",
   "execution_count": 99,
   "metadata": {
    "ExecuteTime": {
     "end_time": "2020-06-05T01:17:55.114680Z",
     "start_time": "2020-06-05T01:17:55.049995Z"
    }
   },
   "outputs": [],
   "source": [
    "# Compile model\n",
    "model = Model(imgm, output)\n",
    "model.compile(loss='sparse_categorical_crossentropy', optimizer='adam', metrics=[\"accuracy\"])"
   ]
  },
  {
   "cell_type": "code",
   "execution_count": 100,
   "metadata": {
    "ExecuteTime": {
     "end_time": "2020-06-05T01:17:56.554851Z",
     "start_time": "2020-06-05T01:17:56.517476Z"
    },
    "scrolled": true
   },
   "outputs": [
    {
     "name": "stdout",
     "output_type": "stream",
     "text": [
      "Model: \"model_13\"\n",
      "_________________________________________________________________\n",
      "Layer (type)                 Output Shape              Param #   \n",
      "=================================================================\n",
      "input_14 (InputLayer)        [(None, 28, 28, 1)]       0         \n",
      "_________________________________________________________________\n",
      "conv2d_43 (Conv2D)           (None, 28, 28, 32)        832       \n",
      "_________________________________________________________________\n",
      "max_pooling2d_43 (MaxPooling (None, 14, 14, 32)        0         \n",
      "_________________________________________________________________\n",
      "conv2d_44 (Conv2D)           (None, 14, 14, 64)        51264     \n",
      "_________________________________________________________________\n",
      "max_pooling2d_44 (MaxPooling (None, 7, 7, 64)          0         \n",
      "_________________________________________________________________\n",
      "conv2d_45 (Conv2D)           (None, 7, 7, 32)          51232     \n",
      "_________________________________________________________________\n",
      "max_pooling2d_45 (MaxPooling (None, 4, 4, 32)          0         \n",
      "_________________________________________________________________\n",
      "conv2d_46 (Conv2D)           (None, 4, 4, 16)          12816     \n",
      "_________________________________________________________________\n",
      "max_pooling2d_46 (MaxPooling (None, 2, 2, 16)          0         \n",
      "_________________________________________________________________\n",
      "flatten_13 (Flatten)         (None, 64)                0         \n",
      "_________________________________________________________________\n",
      "dense_26 (Dense)             (None, 128)               8320      \n",
      "_________________________________________________________________\n",
      "batch_normalization_14 (Batc (None, 128)               512       \n",
      "_________________________________________________________________\n",
      "dense_27 (Dense)             (None, 36)                4644      \n",
      "=================================================================\n",
      "Total params: 129,620\n",
      "Trainable params: 129,364\n",
      "Non-trainable params: 256\n",
      "_________________________________________________________________\n"
     ]
    }
   ],
   "source": [
    "model.summary();"
   ]
  },
  {
   "cell_type": "code",
   "execution_count": 101,
   "metadata": {
    "ExecuteTime": {
     "end_time": "2020-06-05T01:22:29.866146Z",
     "start_time": "2020-06-05T01:17:58.031814Z"
    },
    "code_folding": [],
    "scrolled": true
   },
   "outputs": [
    {
     "name": "stdout",
     "output_type": "stream",
     "text": [
      "Train on 407179 samples, validate on 101795 samples\n",
      "Epoch 1/10\n",
      "407179/407179 - 28s - loss: 0.3217 - accuracy: 0.9029 - val_loss: 0.3394 - val_accuracy: 0.8907\n",
      "Epoch 2/10\n",
      "407179/407179 - 27s - loss: 0.2049 - accuracy: 0.9295 - val_loss: 0.2439 - val_accuracy: 0.9201\n",
      "Epoch 3/10\n",
      "407179/407179 - 27s - loss: 0.1911 - accuracy: 0.9331 - val_loss: 0.2107 - val_accuracy: 0.9290\n",
      "Epoch 4/10\n",
      "407179/407179 - 27s - loss: 0.1803 - accuracy: 0.9361 - val_loss: 0.1959 - val_accuracy: 0.9329\n",
      "Epoch 5/10\n",
      "407179/407179 - 27s - loss: 0.1722 - accuracy: 0.9385 - val_loss: 0.2489 - val_accuracy: 0.9159\n",
      "Epoch 6/10\n",
      "407179/407179 - 27s - loss: 0.1651 - accuracy: 0.9401 - val_loss: 0.1953 - val_accuracy: 0.9327\n",
      "Epoch 7/10\n",
      "407179/407179 - 27s - loss: 0.1617 - accuracy: 0.9412 - val_loss: 0.1929 - val_accuracy: 0.9329\n",
      "Epoch 8/10\n",
      "407179/407179 - 27s - loss: 0.1533 - accuracy: 0.9433 - val_loss: 0.1983 - val_accuracy: 0.9326\n",
      "Epoch 9/10\n",
      "407179/407179 - 27s - loss: 0.1494 - accuracy: 0.9448 - val_loss: 0.1967 - val_accuracy: 0.9330\n",
      "Epoch 10/10\n",
      "407179/407179 - 27s - loss: 0.1449 - accuracy: 0.9460 - val_loss: 0.2186 - val_accuracy: 0.9317\n"
     ]
    }
   ],
   "source": [
    "history = model.fit(X_train, train_labels, batch_size=256, epochs=10, verbose=2, validation_split=0.2)"
   ]
  },
  {
   "cell_type": "code",
   "execution_count": 105,
   "metadata": {
    "ExecuteTime": {
     "end_time": "2020-06-05T01:25:40.568048Z",
     "start_time": "2020-06-05T01:25:33.751541Z"
    }
   },
   "outputs": [
    {
     "name": "stdout",
     "output_type": "stream",
     "text": [
      "84977/84977 - 7s - loss: 0.1886 - accuracy: 0.9357\n"
     ]
    }
   ],
   "source": [
    "eval1 = model.evaluate(X_test, test_labels, verbose=2)"
   ]
  },
  {
   "cell_type": "code",
   "execution_count": null,
   "metadata": {
    "ExecuteTime": {
     "start_time": "2020-06-08T18:59:20.436Z"
    }
   },
   "outputs": [],
   "source": [
    "# 32/64/32 (5): loss: 0.1852 - accuracy: 0.9364\n",
    "# 64/96/32 (5): loss: 0.1902 - accuracy: 0.9371\n",
    "\n",
    "# 32/64/32/16 (5): loss: 0.1877 - accuracy: 0.9365\n",
    "\n",
    "# filter size 5\n",
    "# 84977/84977 - 7s - loss: 0.1908 - accuracy: 0.9372"
   ]
  },
  {
   "cell_type": "markdown",
   "metadata": {},
   "source": [
    "#### Save Model"
   ]
  },
  {
   "cell_type": "code",
   "execution_count": null,
   "metadata": {},
   "outputs": [],
   "source": [
    "#model.save('draw_model.h5')"
   ]
  },
  {
   "cell_type": "code",
   "execution_count": 106,
   "metadata": {
    "ExecuteTime": {
     "end_time": "2020-06-05T01:25:43.173878Z",
     "start_time": "2020-06-05T01:25:42.577816Z"
    }
   },
   "outputs": [],
   "source": [
    "from tensorflow import keras\n",
    "model = keras.models.load_model('models/draw_model.h5')"
   ]
  },
  {
   "cell_type": "code",
   "execution_count": 107,
   "metadata": {
    "ExecuteTime": {
     "end_time": "2020-06-05T01:25:43.925141Z",
     "start_time": "2020-06-05T01:25:43.889150Z"
    }
   },
   "outputs": [],
   "source": [
    "def predict_test(X_test, labels):\n",
    "    count = len(X_test)\n",
    "    correct = 0\n",
    "    all_preds = np.array(model.predict(X_test))\n",
    "    \n",
    "    for i, pr in enumerate(all_preds):\n",
    "        \n",
    "        if labels[i] == np.argmax(pr):\n",
    "            correct += 1\n",
    "        #c = chars[np.argmax(pr)]    \n",
    "        elif np.argmax(pr) ==1 or np.argmax(pr)==21:\n",
    "            correct +=1\n",
    "        #else:\n",
    "            #print(labels[i], np.argmax(pr))\n",
    "            \n",
    "    return (correct / count)"
   ]
  },
  {
   "cell_type": "code",
   "execution_count": 86,
   "metadata": {
    "ExecuteTime": {
     "end_time": "2020-06-05T00:53:24.906665Z",
     "start_time": "2020-06-05T00:53:24.871433Z"
    }
   },
   "outputs": [
    {
     "data": {
      "text/plain": [
       "'q'"
      ]
     },
     "execution_count": 86,
     "metadata": {},
     "output_type": "execute_result"
    }
   ],
   "source": [
    "chars[26]"
   ]
  },
  {
   "cell_type": "markdown",
   "metadata": {
    "heading_collapsed": true
   },
   "source": [
    "## Splitting Handwritten CAPTCHA"
   ]
  },
  {
   "cell_type": "code",
   "execution_count": 184,
   "metadata": {
    "ExecuteTime": {
     "end_time": "2020-06-04T18:11:14.640758Z",
     "start_time": "2020-06-04T18:11:14.464145Z"
    },
    "hidden": true
   },
   "outputs": [
    {
     "data": {
      "text/plain": [
       "<matplotlib.image.AxesImage at 0x7fa5658e6748>"
      ]
     },
     "execution_count": 184,
     "metadata": {},
     "output_type": "execute_result"
    },
    {
     "data": {
      "image/png": "[encoded data removed]",
      "text/plain": [
       "<Figure size 432x288 with 1 Axes>"
      ]
     },
     "metadata": {
      "needs_background": "light"
     },
     "output_type": "display_data"
    }
   ],
   "source": [
    "# example from 100,000 image dataset \n",
    "img=cv2.imread('data/i_drew.png', cv2.IMREAD_UNCHANGED)[:,:,0]\n",
    "\n",
    "plt.imshow(img, cmap=plt.cm.binary)"
   ]
  },
  {
   "cell_type": "code",
   "execution_count": 186,
   "metadata": {
    "ExecuteTime": {
     "end_time": "2020-06-04T18:11:27.384389Z",
     "start_time": "2020-06-04T18:11:27.349804Z"
    },
    "hidden": true
   },
   "outputs": [
    {
     "data": {
      "text/plain": [
       "(85, 293)"
      ]
     },
     "execution_count": 186,
     "metadata": {},
     "output_type": "execute_result"
    }
   ],
   "source": [
    "img.shape"
   ]
  },
  {
   "cell_type": "code",
   "execution_count": 187,
   "metadata": {
    "ExecuteTime": {
     "end_time": "2020-06-04T18:11:27.899629Z",
     "start_time": "2020-06-04T18:11:27.827722Z"
    },
    "hidden": true
   },
   "outputs": [],
   "source": [
    "# remove background and flip color\n",
    "flatimg = pd.Series(img.flatten()) \n",
    "flatimg = flatimg.apply(lambda x: 255 if x > 150 else x)\n",
    "flatimg = flatimg.apply(lambda x: np.abs(x - 255))\n",
    "img = flatimg.values.reshape(85,293)"
   ]
  },
  {
   "cell_type": "code",
   "execution_count": 188,
   "metadata": {
    "ExecuteTime": {
     "end_time": "2020-06-04T18:11:29.062919Z",
     "start_time": "2020-06-04T18:11:28.879699Z"
    },
    "hidden": true
   },
   "outputs": [
    {
     "data": {
      "text/plain": [
       "<matplotlib.image.AxesImage at 0x7fa565f44278>"
      ]
     },
     "execution_count": 188,
     "metadata": {},
     "output_type": "execute_result"
    },
    {
     "data": {
      "image/png": "[encoded data removed]",
      "text/plain": [
       "<Figure size 432x288 with 1 Axes>"
      ]
     },
     "metadata": {
      "needs_background": "light"
     },
     "output_type": "display_data"
    }
   ],
   "source": [
    "plt.imshow(img, cmap=plt.cm.binary)"
   ]
  },
  {
   "cell_type": "code",
   "execution_count": 189,
   "metadata": {
    "ExecuteTime": {
     "end_time": "2020-06-04T18:11:33.756466Z",
     "start_time": "2020-06-04T18:11:33.721840Z"
    },
    "hidden": true
   },
   "outputs": [
    {
     "data": {
      "text/plain": [
       "array([[0, 0, 0, ..., 0, 0, 0],\n",
       "       [0, 0, 0, ..., 0, 0, 0],\n",
       "       [0, 0, 0, ..., 0, 0, 0],\n",
       "       ...,\n",
       "       [0, 0, 0, ..., 0, 0, 0],\n",
       "       [0, 0, 0, ..., 0, 0, 0],\n",
       "       [0, 0, 0, ..., 0, 0, 0]])"
      ]
     },
     "execution_count": 189,
     "metadata": {},
     "output_type": "execute_result"
    }
   ],
   "source": [
    "img"
   ]
  },
  {
   "cell_type": "code",
   "execution_count": 191,
   "metadata": {
    "ExecuteTime": {
     "end_time": "2020-06-04T18:11:43.060089Z",
     "start_time": "2020-06-04T18:11:42.513115Z"
    },
    "code_folding": [
     0
    ],
    "hidden": true
   },
   "outputs": [
    {
     "name": "stdout",
     "output_type": "stream",
     "text": [
      "(37, 42)\n",
      "(48, 49)\n",
      "(59, 38)\n",
      "(48, 51)\n",
      "(55, 45)\n"
     ]
    },
    {
     "data": {
      "image/png": "[encoded data removed]",
      "text/plain": [
       "<Figure size 432x288 with 5 Axes>"
      ]
     },
     "metadata": {
      "needs_background": "light"
     },
     "output_type": "display_data"
    }
   ],
   "source": [
    "# Load the image and convert it to grayscale\n",
    "image = cv2.imread('data/i_drew.png')\n",
    "gray = cv2.cvtColor(image, cv2.COLOR_BGR2GRAY)\n",
    "\n",
    "# Add some extra padding around the image\n",
    "gray = cv2.copyMakeBorder(gray, 8, 8, 8, 8, cv2.BORDER_REPLICATE)\n",
    "\n",
    "# threshold the image (convert it to pure black and white)\n",
    "thresh = cv2.threshold(gray, 0, 255, cv2.THRESH_BINARY_INV | cv2.THRESH_OTSU)[1]\n",
    "\n",
    "# find the contours (continuous blobs of pixels) the image\n",
    "contours = cv2.findContours(thresh.copy(), cv2.RETR_EXTERNAL, cv2.CHAIN_APPROX_SIMPLE)\n",
    "\n",
    "# Hack for compatibility with different OpenCV versions\n",
    "contours = contours[0] #if imutils.is_cv2() else contours[1]\n",
    "\n",
    "letter_image_regions = []\n",
    "\n",
    "# Now we can loop through each of the four contours and extract the letter\n",
    "# inside of each one\n",
    "for contour in contours:\n",
    "    # Get the rectangle that contains the contour\n",
    "    (x, y, w, h) = cv2.boundingRect(contour)\n",
    "\n",
    "    # Compare the width and height of the contour to detect letters that\n",
    "    # are conjoined into one chunk\n",
    "    if w / h > 1.25:\n",
    "        # This contour is too wide to be a single letter!\n",
    "        # Split it in half into two letter regions!\n",
    "        half_width = int(w / 2)\n",
    "        letter_image_regions.append((x, y, half_width, h))\n",
    "        letter_image_regions.append((x + half_width, y, half_width, h))\n",
    "    else:\n",
    "        # This is a normal letter by itself\n",
    "        letter_image_regions.append((x, y, w, h))\n",
    "\n",
    "        \n",
    "# Sort the detected letter images based on the x coordinate to make sure\n",
    "# we are processing them from left-to-right so we match the right image\n",
    "# with the right letter\n",
    "letter_image_regions = sorted(letter_image_regions, key=lambda x: x[0])\n",
    "\n",
    "fig, axs = plt.subplots(1,5)\n",
    "axs = axs.flatten()\n",
    "# Save out each letter as a single image\n",
    "for i,letter_bounding_box in enumerate(letter_image_regions):   #, letter_text in zip( , captcha_correct_text):\n",
    "    # Grab the coordinates of the letter in the image\n",
    "    x, y, w, h = letter_bounding_box\n",
    "\n",
    "    # Extract the letter from the original image with a 2-pixel margin around the edge\n",
    "    letter_image = thresh[y - 2:y + h + 2, x - 2:x + w + 2]\n",
    "    print(letter_image.shape)\n",
    "    resized = cv2.resize(letter_image, (28,28), interpolation = cv2.INTER_AREA)\n",
    "    \n",
    "    #axs[i].imshow(letter_image, cmap=plt.cm.binary)\n",
    "    axs[i].imshow(resized, cmap=plt.cm.binary)"
   ]
  },
  {
   "cell_type": "code",
   "execution_count": 143,
   "metadata": {
    "ExecuteTime": {
     "end_time": "2020-06-04T17:44:37.506641Z",
     "start_time": "2020-06-04T17:44:37.477945Z"
    },
    "hidden": true
   },
   "outputs": [
    {
     "data": {
      "text/plain": [
       "'p5g72'"
      ]
     },
     "execution_count": 143,
     "metadata": {},
     "output_type": "execute_result"
    }
   ],
   "source": [
    "predict_drawn('data/i_drew.png')"
   ]
  },
  {
   "cell_type": "code",
   "execution_count": 144,
   "metadata": {
    "ExecuteTime": {
     "end_time": "2020-06-04T17:44:37.534206Z",
     "start_time": "2020-06-04T17:44:37.508193Z"
    },
    "hidden": true
   },
   "outputs": [
    {
     "data": {
      "text/plain": [
       "'73ze5'"
      ]
     },
     "execution_count": 144,
     "metadata": {},
     "output_type": "execute_result"
    }
   ],
   "source": [
    "predict_drawn('data/nolined.png')"
   ]
  },
  {
   "cell_type": "code",
   "execution_count": 145,
   "metadata": {
    "ExecuteTime": {
     "end_time": "2020-06-04T17:44:37.821363Z",
     "start_time": "2020-06-04T17:44:37.795082Z"
    },
    "hidden": true
   },
   "outputs": [
    {
     "data": {
      "text/plain": [
       "'8h'"
      ]
     },
     "execution_count": 145,
     "metadata": {},
     "output_type": "execute_result"
    }
   ],
   "source": [
    "predict_drawn('data/lined.png')"
   ]
  },
  {
   "cell_type": "markdown",
   "metadata": {},
   "source": [
    "## Function Testing"
   ]
  },
  {
   "cell_type": "code",
   "execution_count": null,
   "metadata": {
    "code_folding": [
     13,
     55
    ]
   },
   "outputs": [],
   "source": [
    "# function to split handwritten captcha\n",
    "import os\n",
    "import string\n",
    "import random\n",
    "\n",
    "import numpy as np\n",
    "import pandas as pd\n",
    "import matplotlib.pyplot as plt\n",
    "\n",
    "from PIL import Image\n",
    "import cv2\n",
    "\n",
    "# function to split handwritten captcha\n",
    "def split_drawn(drawn_img):\n",
    "    thresh = drawn_img.copy()\n",
    "\n",
    "    # find the contours (continuous blobs of pixels) the image\n",
    "    contours = cv2.findContours(thresh.copy(), cv2.RETR_EXTERNAL, cv2.CHAIN_APPROX_SIMPLE)[0]\n",
    "\n",
    "    letter_image_regions = []\n",
    "\n",
    "    # Iterate through the contours\n",
    "    for contour in contours:\n",
    "        # Find location of each character\n",
    "        (x, y, w, h) = cv2.boundingRect(contour)\n",
    "\n",
    "        \"\"\"# If width/height is too large to be a one character, split it\n",
    "        if w / h > 1.5:\n",
    "            half_width = int(w / 2)\n",
    "            letter_image_regions.append((x, y, half_width, h))\n",
    "            letter_image_regions.append((x + half_width, y, half_width, h))\n",
    "        else:\"\"\"\n",
    "        letter_image_regions.append((x, y, w, h))\n",
    "\n",
    "    # Sort the characters\n",
    "    letter_image_regions = sorted(letter_image_regions, key=lambda x: x[0])\n",
    "\n",
    "    # Add each resized character to an array\n",
    "    char_lst = []\n",
    "    for i, letter_bounding_box in enumerate(letter_image_regions):\n",
    "        # Get location of character\n",
    "        x, y, w, h = letter_bounding_box\n",
    "\n",
    "        # Extract the character\n",
    "        letter_image = thresh[y - 2:y + h + 2, x - 2:x + w + 2]\n",
    "        \n",
    "        # Resize the character\n",
    "        resized = cv2.resize(letter_image, (28,28), interpolation = cv2.INTER_AREA)\n",
    "        resized = resized.reshape(28,28,1)\n",
    "\n",
    "        char_lst.append(resized)\n",
    "    \n",
    "    return np.array(char_lst)\n",
    "\n",
    "# function to predict drawn captcha\n",
    "def predict_drawn(model, img):\n",
    "    chars = '0123456789' + string.ascii_lowercase\n",
    "    \n",
    "    # split the drawn image\n",
    "    split_img = split_drawn(img)\n",
    "    \n",
    "    # predict each character\n",
    "    pred_arr = model.predict(split_img)\n",
    "    \n",
    "    pred = ''\n",
    "    for i in pred_arr:\n",
    "        c = chars[np.argmax(i)]\n",
    "        pred += c\n",
    "\n",
    "    return pred"
   ]
  },
  {
   "cell_type": "code",
   "execution_count": 2,
   "metadata": {
    "ExecuteTime": {
     "end_time": "2020-06-04T19:08:00.842412Z",
     "start_time": "2020-06-04T19:08:00.838151Z"
    }
   },
   "outputs": [],
   "source": [
    "# Load the image and convert it to grayscale\n",
    "image = cv2.imread('../data/nolined.png')\n",
    "gray = cv2.cvtColor(image, cv2.COLOR_BGR2GRAY)\n",
    "# Add some extra padding around the image\n",
    "gray = cv2.copyMakeBorder(gray, 8, 8, 8, 8, cv2.BORDER_REPLICATE)\n",
    "\n",
    "# threshold the image (convert it to pure black and white)\n",
    "thresh = cv2.threshold(gray, 0, 255, cv2.THRESH_BINARY_INV | cv2.THRESH_OTSU)[1]"
   ]
  },
  {
   "cell_type": "code",
   "execution_count": 3,
   "metadata": {
    "ExecuteTime": {
     "end_time": "2020-06-04T19:08:01.357831Z",
     "start_time": "2020-06-04T19:08:01.352917Z"
    }
   },
   "outputs": [
    {
     "data": {
      "text/plain": [
       "(96, 285)"
      ]
     },
     "execution_count": 3,
     "metadata": {},
     "output_type": "execute_result"
    }
   ],
   "source": [
    "thresh.shape"
   ]
  },
  {
   "cell_type": "code",
   "execution_count": 4,
   "metadata": {
    "ExecuteTime": {
     "end_time": "2020-06-04T19:08:01.890358Z",
     "start_time": "2020-06-04T19:08:01.714044Z"
    }
   },
   "outputs": [
    {
     "data": {
      "text/plain": [
       "<matplotlib.image.AxesImage at 0x7fce84ed6eb8>"
      ]
     },
     "execution_count": 4,
     "metadata": {},
     "output_type": "execute_result"
    },
    {
     "data": {
      "image/png": "[encoded data removed]",
      "text/plain": [
       "<Figure size 432x288 with 1 Axes>"
      ]
     },
     "metadata": {
      "needs_background": "light"
     },
     "output_type": "display_data"
    }
   ],
   "source": [
    "plt.imshow(thresh, cmap=plt.cm.binary)"
   ]
  }
 ],
 "metadata": {
  "kernelspec": {
   "display_name": "Environment (conda_tensorflow2_p36)",
   "language": "python",
   "name": "conda_tensorflow2_p36"
  },
  "language_info": {
   "codemirror_mode": {
    "name": "ipython",
    "version": 3
   },
   "file_extension": ".py",
   "mimetype": "text/x-python",
   "name": "python",
   "nbconvert_exporter": "python",
   "pygments_lexer": "ipython3",
   "version": "3.6.10"
  }
 },
 "nbformat": 4,
 "nbformat_minor": 4
}
