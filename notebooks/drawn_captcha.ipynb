{
 "cells": [
  {
   "cell_type": "markdown",
   "metadata": {},
   "source": [
    "# Predicting Hand Drawn Characters"
   ]
  },
  {
   "cell_type": "markdown",
   "metadata": {},
   "source": [
    "#### Imports"
   ]
  },
  {
   "cell_type": "code",
   "execution_count": 1,
   "metadata": {
    "ExecuteTime": {
     "end_time": "2020-06-11T20:18:19.356019Z",
     "start_time": "2020-06-11T20:18:19.341489Z"
    }
   },
   "outputs": [],
   "source": [
    "%load_ext autoreload\n",
    "%autoreload 2"
   ]
  },
  {
   "cell_type": "code",
   "execution_count": 2,
   "metadata": {
    "ExecuteTime": {
     "end_time": "2020-06-11T20:18:21.855822Z",
     "start_time": "2020-06-11T20:18:19.722438Z"
    }
   },
   "outputs": [],
   "source": [
    "import os\n",
    "import string\n",
    "import random\n",
    "\n",
    "import numpy as np\n",
    "import pandas as pd\n",
    "import matplotlib.pyplot as plt\n",
    "import seaborn\n",
    "\n",
    "%matplotlib inline "
   ]
  },
  {
   "cell_type": "code",
   "execution_count": 3,
   "metadata": {
    "ExecuteTime": {
     "end_time": "2020-06-11T20:18:27.338813Z",
     "start_time": "2020-06-11T20:18:21.857593Z"
    }
   },
   "outputs": [
    {
     "data": {
      "text/plain": [
       "('2.1.0', '4.2.0')"
      ]
     },
     "execution_count": 3,
     "metadata": {},
     "output_type": "execute_result"
    }
   ],
   "source": [
    "import tensorflow as tf\n",
    "from tensorflow.keras.layers import Input, Conv2D, MaxPooling2D, Flatten, Dense, Dropout, BatchNormalization, LeakyReLU\n",
    "from tensorflow.keras import Model\n",
    "\n",
    "from PIL import Image\n",
    "import cv2\n",
    "tf.__version__, cv2.__version__"
   ]
  },
  {
   "cell_type": "code",
   "execution_count": 4,
   "metadata": {
    "ExecuteTime": {
     "end_time": "2020-06-11T20:18:27.388198Z",
     "start_time": "2020-06-11T20:18:27.340725Z"
    }
   },
   "outputs": [],
   "source": [
    "from emnist import list_datasets\n",
    "from emnist import extract_training_samples, extract_test_samples"
   ]
  },
  {
   "cell_type": "code",
   "execution_count": 5,
   "metadata": {
    "ExecuteTime": {
     "end_time": "2020-06-11T20:18:27.425171Z",
     "start_time": "2020-06-11T20:18:27.390008Z"
    }
   },
   "outputs": [
    {
     "data": {
      "text/plain": [
       "['balanced', 'byclass', 'bymerge', 'digits', 'letters', 'mnist']"
      ]
     },
     "execution_count": 5,
     "metadata": {},
     "output_type": "execute_result"
    }
   ],
   "source": [
    "list_datasets()"
   ]
  },
  {
   "cell_type": "markdown",
   "metadata": {},
   "source": [
    "### Load Data"
   ]
  },
  {
   "cell_type": "code",
   "execution_count": 6,
   "metadata": {
    "ExecuteTime": {
     "end_time": "2020-06-11T20:18:33.368496Z",
     "start_time": "2020-06-11T20:18:27.426538Z"
    }
   },
   "outputs": [],
   "source": [
    "X_train, train_labels = extract_training_samples('byclass')"
   ]
  },
  {
   "cell_type": "code",
   "execution_count": 7,
   "metadata": {
    "ExecuteTime": {
     "end_time": "2020-06-11T20:18:33.404591Z",
     "start_time": "2020-06-11T20:18:33.370096Z"
    }
   },
   "outputs": [
    {
     "data": {
      "text/plain": [
       "((697932, 28, 28), (697932,))"
      ]
     },
     "execution_count": 7,
     "metadata": {},
     "output_type": "execute_result"
    }
   ],
   "source": [
    "X_train.shape, train_labels.shape"
   ]
  },
  {
   "cell_type": "code",
   "execution_count": 8,
   "metadata": {
    "ExecuteTime": {
     "end_time": "2020-06-11T20:18:34.432368Z",
     "start_time": "2020-06-11T20:18:33.406080Z"
    }
   },
   "outputs": [],
   "source": [
    "X_test, test_labels = extract_test_samples('byclass')"
   ]
  },
  {
   "cell_type": "code",
   "execution_count": 9,
   "metadata": {
    "ExecuteTime": {
     "end_time": "2020-06-11T20:18:34.469443Z",
     "start_time": "2020-06-11T20:18:34.434942Z"
    }
   },
   "outputs": [
    {
     "data": {
      "text/plain": [
       "((116323, 28, 28), (116323,))"
      ]
     },
     "execution_count": 9,
     "metadata": {},
     "output_type": "execute_result"
    }
   ],
   "source": [
    "X_test.shape, test_labels.shape"
   ]
  },
  {
   "cell_type": "code",
   "execution_count": 10,
   "metadata": {
    "ExecuteTime": {
     "end_time": "2020-06-11T20:18:34.709234Z",
     "start_time": "2020-06-11T20:18:34.471142Z"
    }
   },
   "outputs": [
    {
     "data": {
      "text/plain": [
       "(<matplotlib.image.AxesImage at 0x7fa7eb601358>, 32)"
      ]
     },
     "execution_count": 10,
     "metadata": {},
     "output_type": "execute_result"
    },
    {
     "data": {
      "image/png": "[encoded data removed]",
      "text/plain": [
       "<Figure size 432x288 with 1 Axes>"
      ]
     },
     "metadata": {
      "needs_background": "light"
     },
     "output_type": "display_data"
    }
   ],
   "source": [
    "i = 300107\n",
    "plt.imshow(X_train[i], cmap=plt.cm.binary), train_labels[i]"
   ]
  },
  {
   "cell_type": "code",
   "execution_count": 11,
   "metadata": {
    "ExecuteTime": {
     "end_time": "2020-06-11T20:18:34.763161Z",
     "start_time": "2020-06-11T20:18:34.710692Z"
    },
    "scrolled": true
   },
   "outputs": [
    {
     "data": {
      "text/plain": [
       "0     34585\n",
       "1     38374\n",
       "2     34203\n",
       "3     35143\n",
       "4     33535\n",
       "      ...  \n",
       "57     2910\n",
       "58     2697\n",
       "59     2822\n",
       "60     2365\n",
       "61     2725\n",
       "Length: 62, dtype: int64"
      ]
     },
     "execution_count": 11,
     "metadata": {},
     "output_type": "execute_result"
    }
   ],
   "source": [
    "pd.Series(train_labels).value_counts().sort_index()"
   ]
  },
  {
   "cell_type": "markdown",
   "metadata": {},
   "source": [
    "#### Remove Uppercase"
   ]
  },
  {
   "cell_type": "code",
   "execution_count": 12,
   "metadata": {
    "ExecuteTime": {
     "end_time": "2020-06-11T20:18:34.798560Z",
     "start_time": "2020-06-11T20:18:34.764585Z"
    },
    "code_folding": [
     0
    ]
   },
   "outputs": [],
   "source": [
    "def remove_upper(X_old, labels):\n",
    "    nums = list(range(0, 10))\n",
    "    upper = list(range(10, 36))\n",
    "    lower = list(range(36, 62))\n",
    "    X = []\n",
    "    y = []\n",
    "    for x, lab in zip(X_old, labels):\n",
    "        if lab in nums:\n",
    "            X.append(x)\n",
    "            y.append(lab)\n",
    "        elif lab in upper:\n",
    "            continue\n",
    "        elif lab in lower:\n",
    "            lab -= 26\n",
    "            X.append(x)\n",
    "            y.append(lab)\n",
    "    \n",
    "    return np.array(X), np.array(y)"
   ]
  },
  {
   "cell_type": "code",
   "execution_count": 13,
   "metadata": {
    "ExecuteTime": {
     "end_time": "2020-06-11T20:19:06.846629Z",
     "start_time": "2020-06-11T20:18:34.799952Z"
    }
   },
   "outputs": [],
   "source": [
    "X_train, train_labels = remove_upper(X_train, train_labels)\n",
    "X_test, test_labels = remove_upper(X_test, test_labels)"
   ]
  },
  {
   "cell_type": "code",
   "execution_count": 14,
   "metadata": {
    "ExecuteTime": {
     "end_time": "2020-06-11T20:19:06.883417Z",
     "start_time": "2020-06-11T20:19:06.848197Z"
    }
   },
   "outputs": [
    {
     "data": {
      "text/plain": [
       "((508974, 28, 28), (508974,), (84977, 28, 28), (84977,))"
      ]
     },
     "execution_count": 14,
     "metadata": {},
     "output_type": "execute_result"
    }
   ],
   "source": [
    "X_train.shape, train_labels.shape, X_test.shape, test_labels.shape"
   ]
  },
  {
   "cell_type": "markdown",
   "metadata": {},
   "source": [
    "#### Merge Train and Test"
   ]
  },
  {
   "cell_type": "code",
   "execution_count": 15,
   "metadata": {
    "ExecuteTime": {
     "end_time": "2020-06-11T20:19:07.120502Z",
     "start_time": "2020-06-11T20:19:06.884781Z"
    }
   },
   "outputs": [],
   "source": [
    "X = np.vstack((X_train, X_test))\n",
    "labels = np.hstack((train_labels, test_labels))"
   ]
  },
  {
   "cell_type": "code",
   "execution_count": 16,
   "metadata": {
    "ExecuteTime": {
     "end_time": "2020-06-11T20:19:07.156600Z",
     "start_time": "2020-06-11T20:19:07.122009Z"
    }
   },
   "outputs": [
    {
     "data": {
      "text/plain": [
       "((593951, 28, 28), (593951,))"
      ]
     },
     "execution_count": 16,
     "metadata": {},
     "output_type": "execute_result"
    }
   ],
   "source": [
    "X.shape, labels.shape"
   ]
  },
  {
   "cell_type": "markdown",
   "metadata": {
    "heading_collapsed": true
   },
   "source": [
    "## Model"
   ]
  },
  {
   "cell_type": "code",
   "execution_count": 17,
   "metadata": {
    "ExecuteTime": {
     "end_time": "2020-06-08T23:02:59.039042Z",
     "start_time": "2020-06-08T23:02:59.007479Z"
    },
    "hidden": true
   },
   "outputs": [],
   "source": [
    "#chars = '0123456789' + string.ascii_uppercase + string.ascii_lowercase\n",
    "chars = '0123456789' + string.ascii_lowercase"
   ]
  },
  {
   "cell_type": "code",
   "execution_count": 18,
   "metadata": {
    "ExecuteTime": {
     "end_time": "2020-06-08T23:02:59.074501Z",
     "start_time": "2020-06-08T23:02:59.040518Z"
    },
    "hidden": true
   },
   "outputs": [
    {
     "data": {
      "text/plain": [
       "36"
      ]
     },
     "execution_count": 18,
     "metadata": {},
     "output_type": "execute_result"
    }
   ],
   "source": [
    "num_chars = len(chars) ; num_chars"
   ]
  },
  {
   "cell_type": "code",
   "execution_count": 19,
   "metadata": {
    "ExecuteTime": {
     "end_time": "2020-06-08T23:02:59.110392Z",
     "start_time": "2020-06-08T23:02:59.075924Z"
    },
    "hidden": true
   },
   "outputs": [],
   "source": [
    "X_train = X_train.reshape(-1, 28, 28, 1)"
   ]
  },
  {
   "cell_type": "code",
   "execution_count": 20,
   "metadata": {
    "ExecuteTime": {
     "end_time": "2020-06-08T23:02:59.420973Z",
     "start_time": "2020-06-08T23:02:59.111915Z"
    },
    "hidden": true
   },
   "outputs": [],
   "source": [
    "# 1-9: numbers\n",
    "# 10-35: uppercase\n",
    "# 36-61: lowercase\n",
    "\n",
    "y_train = np.zeros((len(train_labels), num_chars))\n",
    "\n",
    "for i, j in enumerate(train_labels):\n",
    "    y_train[i, j] = 1"
   ]
  },
  {
   "cell_type": "code",
   "execution_count": 21,
   "metadata": {
    "ExecuteTime": {
     "end_time": "2020-06-08T23:02:59.473245Z",
     "start_time": "2020-06-08T23:02:59.422528Z"
    },
    "hidden": true
   },
   "outputs": [
    {
     "data": {
      "text/plain": [
       "((508974, 28, 28, 1), (508974, 36), 508974.0)"
      ]
     },
     "execution_count": 21,
     "metadata": {},
     "output_type": "execute_result"
    }
   ],
   "source": [
    "X_train.shape, y_train.shape, y_train.sum()"
   ]
  },
  {
   "cell_type": "code",
   "execution_count": 22,
   "metadata": {
    "ExecuteTime": {
     "end_time": "2020-06-08T23:02:59.509795Z",
     "start_time": "2020-06-08T23:02:59.475590Z"
    },
    "hidden": true
   },
   "outputs": [],
   "source": [
    "X_test = X_test.reshape(-1, 28, 28, 1)"
   ]
  },
  {
   "cell_type": "code",
   "execution_count": 23,
   "metadata": {
    "ExecuteTime": {
     "end_time": "2020-06-08T23:02:59.593811Z",
     "start_time": "2020-06-08T23:02:59.511513Z"
    },
    "hidden": true
   },
   "outputs": [],
   "source": [
    "# 1-9: numbers\n",
    "# 10-35: uppercase\n",
    "# 36-61: lowercase\n",
    "\n",
    "y_test = np.zeros((len(test_labels), num_chars))\n",
    "\n",
    "for i, j in enumerate(test_labels):\n",
    "    y_test[i, j] = 1"
   ]
  },
  {
   "cell_type": "code",
   "execution_count": 24,
   "metadata": {
    "ExecuteTime": {
     "end_time": "2020-06-08T23:02:59.633982Z",
     "start_time": "2020-06-08T23:02:59.595480Z"
    },
    "hidden": true
   },
   "outputs": [
    {
     "data": {
      "text/plain": [
       "((84977, 28, 28, 1), (84977, 36), 84977.0)"
      ]
     },
     "execution_count": 24,
     "metadata": {},
     "output_type": "execute_result"
    }
   ],
   "source": [
    "X_test.shape, y_test.shape, y_test.sum()"
   ]
  },
  {
   "cell_type": "code",
   "execution_count": 25,
   "metadata": {
    "ExecuteTime": {
     "end_time": "2020-06-08T23:03:00.619966Z",
     "start_time": "2020-06-08T23:02:59.635527Z"
    },
    "code_folding": [],
    "hidden": true
   },
   "outputs": [],
   "source": [
    "# Model Outline\n",
    "input_shape = (28, 28, 1)\n",
    "\n",
    "# Input layer\n",
    "imgm = Input(shape=input_shape)\n",
    "\n",
    "# Convolution and Max Pooling layers\n",
    "cn1 = Conv2D(32, (5,5), padding='same', activation='relu')(imgm)\n",
    "mp1 = MaxPooling2D(padding='same')(cn1)  \n",
    "\n",
    "cn2 = Conv2D(64, (5,5), padding='same', activation='relu')(mp1)\n",
    "mp2 = MaxPooling2D(padding='same')(cn2)  \n",
    "\n",
    "cn3 = Conv2D(32, (5,5), padding='same', activation='relu')(mp2)\n",
    "mp3 = MaxPooling2D(padding='same')(cn3)   \n",
    "\n",
    "cn4 = Conv2D(16, (5,5), padding='same', activation='relu')(mp3)\n",
    "mp4 = MaxPooling2D(padding='same')(cn4)   \n",
    "\n",
    "# Flatten and Dense layers\n",
    "flat = Flatten()(mp4)\n",
    "dens1 = Dense(128, activation='relu')(flat)\n",
    "#drop = Dropout(0.5)(dens1)\n",
    "bn = BatchNormalization()(dens1)\n",
    "output = Dense(num_chars, activation='softmax')(bn)#(drop)\n"
   ]
  },
  {
   "cell_type": "code",
   "execution_count": 26,
   "metadata": {
    "ExecuteTime": {
     "end_time": "2020-06-08T23:03:00.692095Z",
     "start_time": "2020-06-08T23:03:00.621458Z"
    },
    "hidden": true
   },
   "outputs": [],
   "source": [
    "# Compile model\n",
    "model = Model(imgm, output)\n",
    "model.compile(loss='sparse_categorical_crossentropy', optimizer='adam', metrics=[\"accuracy\"])"
   ]
  },
  {
   "cell_type": "code",
   "execution_count": 27,
   "metadata": {
    "ExecuteTime": {
     "end_time": "2020-06-08T23:03:00.728447Z",
     "start_time": "2020-06-08T23:03:00.693498Z"
    },
    "hidden": true,
    "scrolled": true
   },
   "outputs": [
    {
     "name": "stdout",
     "output_type": "stream",
     "text": [
      "Model: \"model\"\n",
      "_________________________________________________________________\n",
      "Layer (type)                 Output Shape              Param #   \n",
      "=================================================================\n",
      "input_1 (InputLayer)         [(None, 28, 28, 1)]       0         \n",
      "_________________________________________________________________\n",
      "conv2d (Conv2D)              (None, 28, 28, 32)        832       \n",
      "_________________________________________________________________\n",
      "max_pooling2d (MaxPooling2D) (None, 14, 14, 32)        0         \n",
      "_________________________________________________________________\n",
      "conv2d_1 (Conv2D)            (None, 14, 14, 64)        51264     \n",
      "_________________________________________________________________\n",
      "max_pooling2d_1 (MaxPooling2 (None, 7, 7, 64)          0         \n",
      "_________________________________________________________________\n",
      "conv2d_2 (Conv2D)            (None, 7, 7, 32)          51232     \n",
      "_________________________________________________________________\n",
      "max_pooling2d_2 (MaxPooling2 (None, 4, 4, 32)          0         \n",
      "_________________________________________________________________\n",
      "conv2d_3 (Conv2D)            (None, 4, 4, 16)          12816     \n",
      "_________________________________________________________________\n",
      "max_pooling2d_3 (MaxPooling2 (None, 2, 2, 16)          0         \n",
      "_________________________________________________________________\n",
      "flatten (Flatten)            (None, 64)                0         \n",
      "_________________________________________________________________\n",
      "dense (Dense)                (None, 128)               8320      \n",
      "_________________________________________________________________\n",
      "batch_normalization (BatchNo (None, 128)               512       \n",
      "_________________________________________________________________\n",
      "dense_1 (Dense)              (None, 36)                4644      \n",
      "=================================================================\n",
      "Total params: 129,620\n",
      "Trainable params: 129,364\n",
      "Non-trainable params: 256\n",
      "_________________________________________________________________\n"
     ]
    }
   ],
   "source": [
    "model.summary();"
   ]
  },
  {
   "cell_type": "code",
   "execution_count": 28,
   "metadata": {
    "ExecuteTime": {
     "end_time": "2020-06-08T23:07:33.768607Z",
     "start_time": "2020-06-08T23:03:00.729827Z"
    },
    "code_folding": [],
    "hidden": true,
    "scrolled": true
   },
   "outputs": [
    {
     "name": "stdout",
     "output_type": "stream",
     "text": [
      "Train on 407179 samples, validate on 101795 samples\n",
      "Epoch 1/10\n",
      "407179/407179 - 29s - loss: 0.3181 - accuracy: 0.9037 - val_loss: 0.2910 - val_accuracy: 0.9013\n",
      "Epoch 2/10\n",
      "407179/407179 - 27s - loss: 0.2044 - accuracy: 0.9295 - val_loss: 0.2207 - val_accuracy: 0.9266\n",
      "Epoch 3/10\n",
      "407179/407179 - 27s - loss: 0.1890 - accuracy: 0.9338 - val_loss: 0.2923 - val_accuracy: 0.9116\n",
      "Epoch 4/10\n",
      "407179/407179 - 27s - loss: 0.1794 - accuracy: 0.9361 - val_loss: 0.2004 - val_accuracy: 0.9314\n",
      "Epoch 5/10\n",
      "407179/407179 - 27s - loss: 0.1710 - accuracy: 0.9388 - val_loss: 0.2020 - val_accuracy: 0.9317\n",
      "Epoch 6/10\n",
      "407179/407179 - 27s - loss: 0.1644 - accuracy: 0.9406 - val_loss: 0.1963 - val_accuracy: 0.9319\n",
      "Epoch 7/10\n",
      "407179/407179 - 27s - loss: 0.1586 - accuracy: 0.9422 - val_loss: 0.1898 - val_accuracy: 0.9348\n",
      "Epoch 8/10\n",
      "407179/407179 - 27s - loss: 0.1529 - accuracy: 0.9437 - val_loss: 0.1947 - val_accuracy: 0.9346\n",
      "Epoch 9/10\n",
      "407179/407179 - 27s - loss: 0.1485 - accuracy: 0.9447 - val_loss: 0.1974 - val_accuracy: 0.9333\n",
      "Epoch 10/10\n",
      "407179/407179 - 27s - loss: 0.1432 - accuracy: 0.9465 - val_loss: 0.2093 - val_accuracy: 0.9321\n"
     ]
    }
   ],
   "source": [
    "history = model.fit(X_train, train_labels, batch_size=256, epochs=10, verbose=2, validation_split=0.2)"
   ]
  },
  {
   "cell_type": "code",
   "execution_count": 29,
   "metadata": {
    "ExecuteTime": {
     "end_time": "2020-06-08T23:07:40.452703Z",
     "start_time": "2020-06-08T23:07:33.770470Z"
    },
    "hidden": true
   },
   "outputs": [
    {
     "name": "stdout",
     "output_type": "stream",
     "text": [
      "84977/84977 - 7s - loss: 0.2045 - accuracy: 0.9341\n"
     ]
    }
   ],
   "source": [
    "eval1 = model.evaluate(X_test, test_labels, verbose=2)"
   ]
  },
  {
   "cell_type": "code",
   "execution_count": 30,
   "metadata": {
    "ExecuteTime": {
     "end_time": "2020-06-08T23:07:40.488879Z",
     "start_time": "2020-06-08T23:07:40.454313Z"
    },
    "hidden": true
   },
   "outputs": [],
   "source": [
    "# 32/64/32 (5): loss: 0.1852 - accuracy: 0.9364\n",
    "# 64/96/32 (5): loss: 0.1902 - accuracy: 0.9371\n",
    "\n",
    "# 32/64/32/16 (5): loss: 0.1877 - accuracy: 0.9365\n",
    "\n",
    "# filter size 5\n",
    "# 84977/84977 - 7s - loss: 0.1908 - accuracy: 0.9372"
   ]
  },
  {
   "cell_type": "markdown",
   "metadata": {
    "hidden": true
   },
   "source": [
    "#### Save Model"
   ]
  },
  {
   "cell_type": "code",
   "execution_count": 31,
   "metadata": {
    "ExecuteTime": {
     "end_time": "2020-06-08T23:07:40.525123Z",
     "start_time": "2020-06-08T23:07:40.490517Z"
    },
    "hidden": true
   },
   "outputs": [],
   "source": [
    "#model.save('draw_model.h5')"
   ]
  },
  {
   "cell_type": "code",
   "execution_count": 34,
   "metadata": {
    "ExecuteTime": {
     "end_time": "2020-06-08T23:07:53.888260Z",
     "start_time": "2020-06-08T23:07:53.234984Z"
    },
    "hidden": true
   },
   "outputs": [],
   "source": [
    "from tensorflow import keras\n",
    "model = keras.models.load_model('../models/draw_model.h5')"
   ]
  },
  {
   "cell_type": "code",
   "execution_count": 35,
   "metadata": {
    "ExecuteTime": {
     "end_time": "2020-06-08T23:07:54.276187Z",
     "start_time": "2020-06-08T23:07:54.240167Z"
    },
    "hidden": true
   },
   "outputs": [],
   "source": [
    "def predict_test(X_test, labels):\n",
    "    count = len(X_test)\n",
    "    correct = 0\n",
    "    all_preds = np.array(model.predict(X_test))\n",
    "    \n",
    "    for i, pr in enumerate(all_preds):\n",
    "        \n",
    "        if labels[i] == np.argmax(pr):\n",
    "            correct += 1\n",
    "        #c = chars[np.argmax(pr)]    \n",
    "        elif np.argmax(pr) ==1 or np.argmax(pr)==21:\n",
    "            correct +=1\n",
    "        #else:\n",
    "            #print(labels[i], np.argmax(pr))\n",
    "            \n",
    "    return (correct / count)"
   ]
  },
  {
   "cell_type": "markdown",
   "metadata": {
    "heading_collapsed": true
   },
   "source": [
    "## Splitting Handwritten CAPTCHA"
   ]
  },
  {
   "cell_type": "code",
   "execution_count": 36,
   "metadata": {
    "ExecuteTime": {
     "end_time": "2020-06-08T23:08:04.285874Z",
     "start_time": "2020-06-08T23:08:04.093697Z"
    },
    "hidden": true
   },
   "outputs": [
    {
     "data": {
      "text/plain": [
       "<matplotlib.image.AxesImage at 0x7fa5d0262e10>"
      ]
     },
     "execution_count": 36,
     "metadata": {},
     "output_type": "execute_result"
    },
    {
     "data": {
      "image/png": "[encoded data removed]",
      "text/plain": [
       "<Figure size 432x288 with 1 Axes>"
      ]
     },
     "metadata": {
      "needs_background": "light"
     },
     "output_type": "display_data"
    }
   ],
   "source": [
    "# example from 100,000 image dataset \n",
    "img=cv2.imread('../data/i_drew.png', cv2.IMREAD_UNCHANGED)[:,:,0]\n",
    "\n",
    "plt.imshow(img, cmap=plt.cm.binary)"
   ]
  },
  {
   "cell_type": "code",
   "execution_count": 37,
   "metadata": {
    "ExecuteTime": {
     "end_time": "2020-06-08T23:08:05.147065Z",
     "start_time": "2020-06-08T23:08:05.110400Z"
    },
    "hidden": true
   },
   "outputs": [
    {
     "data": {
      "text/plain": [
       "(85, 293)"
      ]
     },
     "execution_count": 37,
     "metadata": {},
     "output_type": "execute_result"
    }
   ],
   "source": [
    "img.shape"
   ]
  },
  {
   "cell_type": "code",
   "execution_count": 38,
   "metadata": {
    "ExecuteTime": {
     "end_time": "2020-06-08T23:08:06.163887Z",
     "start_time": "2020-06-08T23:08:06.085646Z"
    },
    "hidden": true
   },
   "outputs": [],
   "source": [
    "# remove background and flip color\n",
    "flatimg = pd.Series(img.flatten()) \n",
    "flatimg = flatimg.apply(lambda x: 255 if x > 150 else x)\n",
    "flatimg = flatimg.apply(lambda x: np.abs(x - 255))\n",
    "img = flatimg.values.reshape(85,293)"
   ]
  },
  {
   "cell_type": "code",
   "execution_count": 39,
   "metadata": {
    "ExecuteTime": {
     "end_time": "2020-06-08T23:08:06.735539Z",
     "start_time": "2020-06-08T23:08:06.557256Z"
    },
    "hidden": true
   },
   "outputs": [
    {
     "data": {
      "text/plain": [
       "<matplotlib.image.AxesImage at 0x7fa5d01e1b70>"
      ]
     },
     "execution_count": 39,
     "metadata": {},
     "output_type": "execute_result"
    },
    {
     "data": {
      "image/png": "[encoded data removed]",
      "text/plain": [
       "<Figure size 432x288 with 1 Axes>"
      ]
     },
     "metadata": {
      "needs_background": "light"
     },
     "output_type": "display_data"
    }
   ],
   "source": [
    "plt.imshow(img, cmap=plt.cm.binary)"
   ]
  },
  {
   "cell_type": "code",
   "execution_count": 40,
   "metadata": {
    "ExecuteTime": {
     "end_time": "2020-06-08T23:08:07.243289Z",
     "start_time": "2020-06-08T23:08:07.207955Z"
    },
    "hidden": true
   },
   "outputs": [
    {
     "data": {
      "text/plain": [
       "array([[0, 0, 0, ..., 0, 0, 0],\n",
       "       [0, 0, 0, ..., 0, 0, 0],\n",
       "       [0, 0, 0, ..., 0, 0, 0],\n",
       "       ...,\n",
       "       [0, 0, 0, ..., 0, 0, 0],\n",
       "       [0, 0, 0, ..., 0, 0, 0],\n",
       "       [0, 0, 0, ..., 0, 0, 0]])"
      ]
     },
     "execution_count": 40,
     "metadata": {},
     "output_type": "execute_result"
    }
   ],
   "source": [
    "img"
   ]
  },
  {
   "cell_type": "code",
   "execution_count": 42,
   "metadata": {
    "ExecuteTime": {
     "end_time": "2020-06-08T23:08:17.359788Z",
     "start_time": "2020-06-08T23:08:16.791811Z"
    },
    "code_folding": [
     0
    ],
    "hidden": true
   },
   "outputs": [
    {
     "name": "stdout",
     "output_type": "stream",
     "text": [
      "(37, 42)\n",
      "(48, 49)\n",
      "(59, 38)\n",
      "(48, 51)\n",
      "(55, 45)\n"
     ]
    },
    {
     "data": {
      "image/png": "[encoded data removed]",
      "text/plain": [
       "<Figure size 432x288 with 5 Axes>"
      ]
     },
     "metadata": {
      "needs_background": "light"
     },
     "output_type": "display_data"
    }
   ],
   "source": [
    "# Load the image and convert it to grayscale\n",
    "image = cv2.imread('../data/i_drew.png')\n",
    "gray = cv2.cvtColor(image, cv2.COLOR_BGR2GRAY)\n",
    "\n",
    "# Add some extra padding around the image\n",
    "gray = cv2.copyMakeBorder(gray, 8, 8, 8, 8, cv2.BORDER_REPLICATE)\n",
    "\n",
    "# threshold the image (convert it to pure black and white)\n",
    "thresh = cv2.threshold(gray, 0, 255, cv2.THRESH_BINARY_INV | cv2.THRESH_OTSU)[1]\n",
    "\n",
    "# find the contours (continuous blobs of pixels) the image\n",
    "contours = cv2.findContours(thresh.copy(), cv2.RETR_EXTERNAL, cv2.CHAIN_APPROX_SIMPLE)\n",
    "\n",
    "# Hack for compatibility with different OpenCV versions\n",
    "contours = contours[0] #if imutils.is_cv2() else contours[1]\n",
    "\n",
    "letter_image_regions = []\n",
    "\n",
    "# Now we can loop through each of the four contours and extract the letter\n",
    "# inside of each one\n",
    "for contour in contours:\n",
    "    # Get the rectangle that contains the contour\n",
    "    (x, y, w, h) = cv2.boundingRect(contour)\n",
    "\n",
    "    # Compare the width and height of the contour to detect letters that\n",
    "    # are conjoined into one chunk\n",
    "    if w / h > 1.25:\n",
    "        # This contour is too wide to be a single letter!\n",
    "        # Split it in half into two letter regions!\n",
    "        half_width = int(w / 2)\n",
    "        letter_image_regions.append((x, y, half_width, h))\n",
    "        letter_image_regions.append((x + half_width, y, half_width, h))\n",
    "    else:\n",
    "        # This is a normal letter by itself\n",
    "        letter_image_regions.append((x, y, w, h))\n",
    "\n",
    "        \n",
    "# Sort the detected letter images based on the x coordinate to make sure\n",
    "# we are processing them from left-to-right so we match the right image\n",
    "# with the right letter\n",
    "letter_image_regions = sorted(letter_image_regions, key=lambda x: x[0])\n",
    "\n",
    "fig, axs = plt.subplots(1,5)\n",
    "axs = axs.flatten()\n",
    "# Save out each letter as a single image\n",
    "for i,letter_bounding_box in enumerate(letter_image_regions):   #, letter_text in zip( , captcha_correct_text):\n",
    "    # Grab the coordinates of the letter in the image\n",
    "    x, y, w, h = letter_bounding_box\n",
    "\n",
    "    # Extract the letter from the original image with a 2-pixel margin around the edge\n",
    "    letter_image = thresh[y - 2:y + h + 2, x - 2:x + w + 2]\n",
    "    print(letter_image.shape)\n",
    "    resized = cv2.resize(letter_image, (28,28), interpolation = cv2.INTER_AREA)\n",
    "    \n",
    "    #axs[i].imshow(letter_image, cmap=plt.cm.binary)\n",
    "    axs[i].imshow(resized, cmap=plt.cm.binary)"
   ]
  },
  {
   "cell_type": "markdown",
   "metadata": {
    "heading_collapsed": true
   },
   "source": [
    "## Function Testing"
   ]
  },
  {
   "cell_type": "code",
   "execution_count": 45,
   "metadata": {
    "ExecuteTime": {
     "end_time": "2020-06-08T23:08:45.837301Z",
     "start_time": "2020-06-08T23:08:45.791386Z"
    },
    "code_folding": [
     13,
     55
    ],
    "hidden": true
   },
   "outputs": [],
   "source": [
    "# function to split handwritten captcha\n",
    "import os\n",
    "import string\n",
    "import random\n",
    "\n",
    "import numpy as np\n",
    "import pandas as pd\n",
    "import matplotlib.pyplot as plt\n",
    "\n",
    "from PIL import Image\n",
    "import cv2\n",
    "\n",
    "# function to split handwritten captcha\n",
    "def split_drawn(drawn_img):\n",
    "    thresh = drawn_img.copy()\n",
    "\n",
    "    # find the contours (continuous blobs of pixels) the image\n",
    "    contours = cv2.findContours(thresh.copy(), cv2.RETR_EXTERNAL, cv2.CHAIN_APPROX_SIMPLE)[0]\n",
    "\n",
    "    letter_image_regions = []\n",
    "\n",
    "    # Iterate through the contours\n",
    "    for contour in contours:\n",
    "        # Find location of each character\n",
    "        (x, y, w, h) = cv2.boundingRect(contour)\n",
    "\n",
    "        \"\"\"# If width/height is too large to be a one character, split it\n",
    "        if w / h > 1.5:\n",
    "            half_width = int(w / 2)\n",
    "            letter_image_regions.append((x, y, half_width, h))\n",
    "            letter_image_regions.append((x + half_width, y, half_width, h))\n",
    "        else:\"\"\"\n",
    "        letter_image_regions.append((x, y, w, h))\n",
    "\n",
    "    # Sort the characters\n",
    "    letter_image_regions = sorted(letter_image_regions, key=lambda x: x[0])\n",
    "\n",
    "    # Add each resized character to an array\n",
    "    char_lst = []\n",
    "    for i, letter_bounding_box in enumerate(letter_image_regions):\n",
    "        # Get location of character\n",
    "        x, y, w, h = letter_bounding_box\n",
    "\n",
    "        # Extract the character\n",
    "        letter_image = thresh[y - 2:y + h + 2, x - 2:x + w + 2]\n",
    "        \n",
    "        # Resize the character\n",
    "        resized = cv2.resize(letter_image, (28,28), interpolation = cv2.INTER_AREA)\n",
    "        resized = resized.reshape(28,28,1)\n",
    "\n",
    "        char_lst.append(resized)\n",
    "    \n",
    "    return np.array(char_lst)\n",
    "\n",
    "# function to predict drawn captcha\n",
    "def predict_drawn(model, img):\n",
    "    chars = '0123456789' + string.ascii_lowercase\n",
    "    \n",
    "    # split the drawn image\n",
    "    split_img = split_drawn(img)\n",
    "    \n",
    "    # predict each character\n",
    "    pred_arr = model.predict(split_img)\n",
    "    \n",
    "    pred = ''\n",
    "    for i in pred_arr:\n",
    "        c = chars[np.argmax(i)]\n",
    "        pred += c\n",
    "\n",
    "    return pred"
   ]
  },
  {
   "cell_type": "code",
   "execution_count": 53,
   "metadata": {
    "ExecuteTime": {
     "end_time": "2020-06-08T23:10:40.524114Z",
     "start_time": "2020-06-08T23:10:40.487824Z"
    },
    "hidden": true
   },
   "outputs": [],
   "source": [
    "# Load the image and convert it to grayscale\n",
    "image = cv2.imread('../data/nolined.png')\n",
    "gray = cv2.cvtColor(image, cv2.COLOR_BGR2GRAY)\n",
    "# Add some extra padding around the image\n",
    "gray = cv2.copyMakeBorder(gray, 8, 8, 8, 8, cv2.BORDER_REPLICATE)\n",
    "\n",
    "# threshold the image (convert it to pure black and white)\n",
    "thresh = cv2.threshold(gray, 0, 255, cv2.THRESH_BINARY_INV | cv2.THRESH_OTSU)[1]"
   ]
  },
  {
   "cell_type": "code",
   "execution_count": 54,
   "metadata": {
    "ExecuteTime": {
     "end_time": "2020-06-08T23:10:40.853340Z",
     "start_time": "2020-06-08T23:10:40.818266Z"
    },
    "hidden": true
   },
   "outputs": [
    {
     "data": {
      "text/plain": [
       "(96, 285)"
      ]
     },
     "execution_count": 54,
     "metadata": {},
     "output_type": "execute_result"
    }
   ],
   "source": [
    "thresh.shape"
   ]
  },
  {
   "cell_type": "code",
   "execution_count": 55,
   "metadata": {
    "ExecuteTime": {
     "end_time": "2020-06-08T23:10:41.234411Z",
     "start_time": "2020-06-08T23:10:41.058306Z"
    },
    "hidden": true
   },
   "outputs": [
    {
     "data": {
      "text/plain": [
       "<matplotlib.image.AxesImage at 0x7fa560790dd8>"
      ]
     },
     "execution_count": 55,
     "metadata": {},
     "output_type": "execute_result"
    },
    {
     "data": {
      "image/png": "[encoded data removed]",
      "text/plain": [
       "<Figure size 432x288 with 1 Axes>"
      ]
     },
     "metadata": {
      "needs_background": "light"
     },
     "output_type": "display_data"
    }
   ],
   "source": [
    "plt.imshow(thresh, cmap=plt.cm.binary)"
   ]
  },
  {
   "cell_type": "markdown",
   "metadata": {},
   "source": [
    "## View Data\n"
   ]
  },
  {
   "cell_type": "code",
   "execution_count": 17,
   "metadata": {
    "ExecuteTime": {
     "end_time": "2020-06-11T20:19:07.188981Z",
     "start_time": "2020-06-11T20:19:07.158112Z"
    }
   },
   "outputs": [],
   "source": [
    "def remove_grid_lines(axs):\n",
    "    \"\"\"Remove the default grid lines from a collection of axies.\"\"\"\n",
    "    for ax in axs.flatten():\n",
    "        ax.grid(False)\n",
    "        ax.tick_params(axis='both', which='both', bottom=False, top=False, \n",
    "                       labelbottom=False, right=False, left=False, labelleft=False)"
   ]
  },
  {
   "cell_type": "code",
   "execution_count": 18,
   "metadata": {
    "ExecuteTime": {
     "end_time": "2020-06-11T20:19:07.220868Z",
     "start_time": "2020-06-11T20:19:07.190805Z"
    }
   },
   "outputs": [
    {
     "data": {
      "text/plain": [
       "(593951, 28, 28)"
      ]
     },
     "execution_count": 18,
     "metadata": {},
     "output_type": "execute_result"
    }
   ],
   "source": [
    "X.shape"
   ]
  },
  {
   "cell_type": "code",
   "execution_count": 25,
   "metadata": {
    "ExecuteTime": {
     "end_time": "2020-06-11T20:31:27.326771Z",
     "start_time": "2020-06-11T20:31:27.261047Z"
    }
   },
   "outputs": [
    {
     "data": {
      "text/plain": [
       "(41893, 28, 28)"
      ]
     },
     "execution_count": 25,
     "metadata": {},
     "output_type": "execute_result"
    }
   ],
   "source": [
    "sevens = X[labels == 7]; sevens.shape"
   ]
  },
  {
   "cell_type": "code",
   "execution_count": 33,
   "metadata": {
    "ExecuteTime": {
     "end_time": "2020-06-11T20:34:16.249892Z",
     "start_time": "2020-06-11T20:34:14.603377Z"
    }
   },
   "outputs": [
    {
     "data": {
      "image/png": "[encoded data removed]",
      "text/plain": [
       "<Figure size 648x648 with 7 Axes>"
      ]
     },
     "metadata": {},
     "output_type": "display_data"
    }
   ],
   "source": [
    "fig, axs = plt.subplots(1, 7, figsize=(9, 9))\n",
    "for i, ax in zip([15,12,42,62,43,121,41412],axs.flatten()):\n",
    "    #i += np.random.randint(100,100000)\n",
    "    ax.imshow(sevens[i].reshape(28,28), cmap=plt.cm.binary)\n",
    "    \n",
    "remove_grid_lines(axs)\n",
    "plt.tight_layout()\n",
    "#plt.savefig('images/augmented.png')"
   ]
  },
  {
   "cell_type": "code",
   "execution_count": 45,
   "metadata": {
    "ExecuteTime": {
     "end_time": "2020-06-09T01:15:14.415738Z",
     "start_time": "2020-06-09T01:15:13.204982Z"
    }
   },
   "outputs": [
    {
     "data": {
      "image/png": "[encoded data removed]",
      "text/plain": [
       "<Figure size 360x360 with 5 Axes>"
      ]
     },
     "metadata": {},
     "output_type": "display_data"
    }
   ],
   "source": [
    "alst=[]\n",
    "fig, axs = plt.subplots(1, 5, figsize=(5, 5))\n",
    "for i, ax in zip([565528, 505709, 124408, 142454, 202618],axs.flatten()):\n",
    "    #i += np.random.randint(100,100000)\n",
    "    ax.imshow(X[i].reshape(28,28), cmap=plt.cm.binary)\n",
    "    alst.append(i)\n",
    "    \n",
    "remove_grid_lines(axs)\n",
    "plt.tight_layout()\n",
    "#plt.savefig('images/augmented.png')"
   ]
  },
  {
   "cell_type": "code",
   "execution_count": 20,
   "metadata": {
    "ExecuteTime": {
     "end_time": "2020-06-09T01:11:54.861333Z",
     "start_time": "2020-06-09T01:11:54.826306Z"
    }
   },
   "outputs": [
    {
     "data": {
      "text/plain": [
       "[87556, 30129, 21648, 68237, 54081]"
      ]
     },
     "execution_count": 20,
     "metadata": {},
     "output_type": "execute_result"
    }
   ],
   "source": [
    "alst"
   ]
  },
  {
   "cell_type": "code",
   "execution_count": 21,
   "metadata": {
    "ExecuteTime": {
     "end_time": "2020-06-09T01:11:54.897669Z",
     "start_time": "2020-06-09T01:11:54.862827Z"
    }
   },
   "outputs": [
    {
     "data": {
      "text/plain": [
       "14"
      ]
     },
     "execution_count": 21,
     "metadata": {},
     "output_type": "execute_result"
    }
   ],
   "source": [
    "labels[19824]"
   ]
  },
  {
   "cell_type": "code",
   "execution_count": 22,
   "metadata": {
    "ExecuteTime": {
     "end_time": "2020-06-09T01:11:54.940879Z",
     "start_time": "2020-06-09T01:11:54.899180Z"
    },
    "code_folding": [
     0
    ]
   },
   "outputs": [],
   "source": [
    "def create_drawn_captcha(X, labels):\n",
    "    chars = '0123456789' + string.ascii_lowercase\n",
    "    img_lst = []\n",
    "    choices_lst = []\n",
    "    for i in range(10):\n",
    "        # choose 5 random characters\n",
    "        choices = np.random.randint(0, len(labels), 5)\n",
    "        hwhite = np.zeros((28, 10))\n",
    "        vwhite = np.zeros((5,160))\n",
    "        a,b,c,d,e = (i for i in choices)\n",
    "\n",
    "        # join the 5 characters together\n",
    "        cat_img = np.concatenate((hwhite, X[a], X[b],X[c], X[d], X[e], hwhite), axis=1)\n",
    "        cat_img = np.concatenate((vwhite, cat_img, vwhite), axis=0)\n",
    "        cat_img = cv2.resize(cat_img, (200,50), interpolation = cv2.INTER_AREA)\n",
    "        cat_img = cv2.threshold(cat_img, 40, 255, cv2.THRESH_BINARY)[1]\n",
    "\n",
    "        # start and end points for the line\n",
    "        points= np.random.randint(0, 49, 2)\n",
    "        start_point = (0, points[0]) \n",
    "        end_point = (199, points[1]) \n",
    "\n",
    "        color = (255,255,255) \n",
    "        thickness = 2\n",
    "\n",
    "        # Draw a diagonal black line on image\n",
    "        img = cv2.line(cat_img, start_point, end_point, color, thickness, lineType=8) \n",
    "        \n",
    "        img_lst.append(img)\n",
    "        choices_lst.append(choices)\n",
    "        \n",
    "    fig, ax = plt.subplots(5,2, figsize=(15,8))\n",
    "    ax = ax.flatten()\n",
    "    for i, img in enumerate(img_lst):\n",
    "        ax[i].imshow(img, cmap=plt.cm.binary)\n",
    "    remove_grid_lines(ax)\n",
    "    \n",
    "    print(choices_lst)"
   ]
  },
  {
   "cell_type": "code",
   "execution_count": 56,
   "metadata": {
    "ExecuteTime": {
     "end_time": "2020-06-09T02:12:48.607656Z",
     "start_time": "2020-06-09T02:12:48.572383Z"
    }
   },
   "outputs": [
    {
     "data": {
      "text/plain": [
       "1"
      ]
     },
     "execution_count": 56,
     "metadata": {},
     "output_type": "execute_result"
    }
   ],
   "source": [
    "labels[384682]"
   ]
  },
  {
   "cell_type": "code",
   "execution_count": 44,
   "metadata": {
    "ExecuteTime": {
     "end_time": "2020-06-09T01:14:44.365038Z",
     "start_time": "2020-06-09T01:14:42.158959Z"
    }
   },
   "outputs": [
    {
     "name": "stdout",
     "output_type": "stream",
     "text": [
      "[array([239183, 205111, 384682, 391731, 347908]), array([195795,  54584, 315504, 483753, 493176]), array([540549, 422897, 523777, 374688, 406518]), array([239225, 208153, 459565,  28823, 593062]), array([509133,  52522, 441862, 430181, 579596]), array([284762, 412581, 167115, 589045,  64571]), array([ 44843, 106946,  50155, 592383,   3475]), array([133273, 411748, 269612, 459485,  46836]), array([565528, 505709, 124408, 142454, 202618]), array([538920, 431330, 495961,  53857, 335988])]\n"
     ]
    },
    {
     "data": {
      "image/png": "[encoded data removed]",
      "text/plain": [
       "<Figure size 1080x576 with 10 Axes>"
      ]
     },
     "metadata": {},
     "output_type": "display_data"
    }
   ],
   "source": [
    "create_drawn_captcha(X, labels)"
   ]
  },
  {
   "cell_type": "code",
   "execution_count": 127,
   "metadata": {
    "ExecuteTime": {
     "end_time": "2020-06-09T00:01:04.607553Z",
     "start_time": "2020-06-09T00:01:04.572430Z"
    },
    "code_folding": [
     0
    ]
   },
   "outputs": [],
   "source": [
    "def load_labels(from_src=False):\n",
    "    if from_src:\n",
    "        path = '../data/drawn/'\n",
    "    else:\n",
    "        path = 'data/drawn/'\n",
    "        \n",
    "    leng = len(os.listdir(path))\n",
    "\n",
    "    labels = []\n",
    "    \n",
    "    for i, name in enumerate(os.listdir(path)):\n",
    "        \n",
    "        label = name[:-4]\n",
    "\n",
    "        labels.append(label)\n",
    "   \n",
    "    return np.array(labels)"
   ]
  },
  {
   "cell_type": "code",
   "execution_count": 128,
   "metadata": {
    "ExecuteTime": {
     "end_time": "2020-06-09T00:01:20.337921Z",
     "start_time": "2020-06-09T00:01:18.920725Z"
    }
   },
   "outputs": [],
   "source": [
    "allabels = load_labels(from_src=True)"
   ]
  },
  {
   "cell_type": "code",
   "execution_count": 129,
   "metadata": {
    "ExecuteTime": {
     "end_time": "2020-06-09T00:01:21.002649Z",
     "start_time": "2020-06-09T00:01:20.968178Z"
    }
   },
   "outputs": [
    {
     "data": {
      "text/plain": [
       "array(['82j4e', '1d5yt', '4a8v9', ..., 'q6t0j', 'rar14', '025rh'],\n",
       "      dtype='<U5')"
      ]
     },
     "execution_count": 129,
     "metadata": {},
     "output_type": "execute_result"
    }
   ],
   "source": [
    "allabels"
   ]
  },
  {
   "cell_type": "code",
   "execution_count": 130,
   "metadata": {
    "ExecuteTime": {
     "end_time": "2020-06-09T00:01:24.091041Z",
     "start_time": "2020-06-09T00:01:23.286914Z"
    }
   },
   "outputs": [
    {
     "data": {
      "text/plain": [
       "(5.0, 5066830)"
      ]
     },
     "execution_count": 130,
     "metadata": {},
     "output_type": "execute_result"
    }
   ],
   "source": [
    "lst_of_chars = []\n",
    "for s in allabels:\n",
    "    lst_of_chars += [char for char in s]\n",
    "len(lst_of_chars)/len(allabels), len(lst_of_chars)"
   ]
  },
  {
   "cell_type": "code",
   "execution_count": 131,
   "metadata": {
    "ExecuteTime": {
     "end_time": "2020-06-09T00:01:59.856986Z",
     "start_time": "2020-06-09T00:01:59.261573Z"
    }
   },
   "outputs": [
    {
     "data": {
      "text/plain": [
       "1    351774\n",
       "7    333975\n",
       "3    329854\n",
       "0    325265\n",
       "2    323324\n",
       "6    322883\n",
       "9    320400\n",
       "8    320006\n",
       "4    317774\n",
       "5    300754\n",
       "e    246705\n",
       "t    191493\n",
       "l    163704\n",
       "r    152528\n",
       "n    127081\n",
       "d    113324\n",
       "a    112287\n",
       "h     99564\n",
       "b     60231\n",
       "g     43775\n",
       "q     36181\n",
       "v     34504\n",
       "u     34123\n",
       "c     33947\n",
       "x     33916\n",
       "o     33370\n",
       "z     32710\n",
       "i     32595\n",
       "w     32479\n",
       "s     32268\n",
       "m     32082\n",
       "f     30767\n",
       "k     30742\n",
       "p     29137\n",
       "y     28391\n",
       "j     22917\n",
       "dtype: int64"
      ]
     },
     "execution_count": 131,
     "metadata": {},
     "output_type": "execute_result"
    }
   ],
   "source": [
    "pd.Series(lst_of_chars).value_counts()"
   ]
  },
  {
   "cell_type": "code",
   "execution_count": 12,
   "metadata": {
    "ExecuteTime": {
     "end_time": "2020-06-08T20:51:01.339965Z",
     "start_time": "2020-06-08T20:51:01.298056Z"
    },
    "code_folding": [
     3,
     17
    ]
   },
   "outputs": [],
   "source": [
    "chars = '0123456789' + string.ascii_lowercase\n",
    "num_chars = len(chars)\n",
    "\n",
    "def data_check(from_src=False):\n",
    "    '''Check for non PNG files\n",
    "    '''\n",
    "    if from_src:\n",
    "        path = '../data/drawn/'\n",
    "    else:\n",
    "        path = 'data/drawn/'\n",
    "        \n",
    "    for name in os.listdir(path):\n",
    "        if name[-4:] == '.png':\n",
    "            pass\n",
    "        else:\n",
    "            print(name)\n",
    "            \n",
    "def mix_img(img, fill_val = 0):\n",
    "    # random rotate value\n",
    "    ang_list = [-5,-4,-3,-2,-1,0,0,0,0,0,1,2,3,4,5]\n",
    "    ang = random.choice(ang_list)\n",
    "    # rotate image\n",
    "    im = Image.fromarray(img)\n",
    "    img = np.asarray(im.rotate(ang))\n",
    "    \n",
    "    return img\n",
    "\n",
    "def load_drawn_data(from_src=False):\n",
    "    if from_src:\n",
    "        path = '../data/drawn/'\n",
    "    else:\n",
    "        path = 'data/drawn/'\n",
    "        \n",
    "    leng = len(os.listdir(path))\n",
    "        \n",
    "    X = np.zeros((leng, 50, 200, 1)) \n",
    "    y = np.zeros((5, leng, num_chars)) \n",
    "    labels = []\n",
    "    \n",
    "    for i, name in enumerate(os.listdir(path)):\n",
    "        \n",
    "        if i == leng:\n",
    "            break\n",
    "            \n",
    "        img_path = path + name\n",
    "        img = cv2.imread(img_path, cv2.IMREAD_UNCHANGED)\n",
    "        \n",
    "        img = img / 255.0\n",
    "        img = img.reshape(50, 200, 1)\n",
    "        \n",
    "        # Define labels using OneHotEncoding\n",
    "        label = name[:-4]\n",
    "        target = np.zeros((5, num_chars))\n",
    "        for j, l in enumerate(label):\n",
    "            ind = chars.find(l)\n",
    "            target[j, ind] = 1\n",
    "        \n",
    "        X[i] = img\n",
    "        y[:, i] = target\n",
    "        labels.append(label)\n",
    "   \n",
    "    return X, y, np.array(labels)"
   ]
  },
  {
   "cell_type": "code",
   "execution_count": 13,
   "metadata": {
    "ExecuteTime": {
     "end_time": "2020-06-08T20:51:01.999867Z",
     "start_time": "2020-06-08T20:51:01.341565Z"
    }
   },
   "outputs": [],
   "source": [
    "data_check(from_src=True)"
   ]
  },
  {
   "cell_type": "code",
   "execution_count": 14,
   "metadata": {
    "ExecuteTime": {
     "end_time": "2020-06-08T20:59:19.397279Z",
     "start_time": "2020-06-08T20:51:02.001459Z"
    }
   },
   "outputs": [],
   "source": [
    "nX, ny, nlabels = load_drawn_data(from_src=True)"
   ]
  },
  {
   "cell_type": "code",
   "execution_count": 15,
   "metadata": {
    "ExecuteTime": {
     "end_time": "2020-06-08T20:59:19.434071Z",
     "start_time": "2020-06-08T20:59:19.398903Z"
    }
   },
   "outputs": [
    {
     "data": {
      "text/plain": [
       "((750000, 50, 200, 1), (5, 750000, 36), (750000,))"
      ]
     },
     "execution_count": 15,
     "metadata": {},
     "output_type": "execute_result"
    }
   ],
   "source": [
    "nX.shape, ny.shape, nlabels.shape"
   ]
  },
  {
   "cell_type": "code",
   "execution_count": null,
   "metadata": {},
   "outputs": [],
   "source": []
  }
 ],
 "metadata": {
  "kernelspec": {
   "display_name": "Environment (conda_tensorflow2_p36)",
   "language": "python",
   "name": "conda_tensorflow2_p36"
  },
  "language_info": {
   "codemirror_mode": {
    "name": "ipython",
    "version": 3
   },
   "file_extension": ".py",
   "mimetype": "text/x-python",
   "name": "python",
   "nbconvert_exporter": "python",
   "pygments_lexer": "ipython3",
   "version": "3.6.10"
  }
 },
 "nbformat": 4,
 "nbformat_minor": 4
}
