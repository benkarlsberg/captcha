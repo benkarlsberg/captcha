{
 "cells": [
  {
   "cell_type": "markdown",
   "metadata": {},
   "source": [
    "# Function Testing"
   ]
  },
  {
   "cell_type": "markdown",
   "metadata": {},
   "source": [
    "#### Imports"
   ]
  },
  {
   "cell_type": "code",
   "execution_count": 1,
   "metadata": {
    "ExecuteTime": {
     "end_time": "2020-06-02T19:30:06.886847Z",
     "start_time": "2020-06-02T19:30:06.871543Z"
    }
   },
   "outputs": [],
   "source": [
    "%load_ext autoreload\n",
    "%autoreload 2"
   ]
  },
  {
   "cell_type": "code",
   "execution_count": 19,
   "metadata": {
    "ExecuteTime": {
     "end_time": "2020-06-02T20:42:27.579389Z",
     "start_time": "2020-06-02T20:42:27.549204Z"
    }
   },
   "outputs": [],
   "source": [
    "import numpy as np\n",
    "import pandas as pd"
   ]
  },
  {
   "cell_type": "code",
   "execution_count": 3,
   "metadata": {
    "ExecuteTime": {
     "end_time": "2020-06-02T19:31:05.759305Z",
     "start_time": "2020-06-02T19:31:05.725951Z"
    }
   },
   "outputs": [],
   "source": [
    "from src.model import captcha_model"
   ]
  },
  {
   "cell_type": "markdown",
   "metadata": {},
   "source": [
    "## model.py"
   ]
  },
  {
   "cell_type": "code",
   "execution_count": 4,
   "metadata": {
    "ExecuteTime": {
     "end_time": "2020-06-02T19:31:11.888302Z",
     "start_time": "2020-06-02T19:31:11.858242Z"
    }
   },
   "outputs": [],
   "source": [
    "# Create model class\n",
    "cap = captcha_model()"
   ]
  },
  {
   "cell_type": "code",
   "execution_count": 7,
   "metadata": {
    "ExecuteTime": {
     "end_time": "2020-06-02T19:32:48.930291Z",
     "start_time": "2020-06-02T19:31:47.318054Z"
    }
   },
   "outputs": [],
   "source": [
    "# Load data to class\n",
    "cap.get_data()"
   ]
  },
  {
   "cell_type": "code",
   "execution_count": 8,
   "metadata": {
    "ExecuteTime": {
     "end_time": "2020-06-02T19:37:11.027336Z",
     "start_time": "2020-06-02T19:32:48.931976Z"
    }
   },
   "outputs": [
    {
     "name": "stdout",
     "output_type": "stream",
     "text": [
      "Train Acc: [0.926, 0.69, 0.506, 0.824, 0.971]\n",
      "Val Acc: [0.974, 0.845, 0.724, 0.929, 0.994]\n",
      "Model Scores:\n",
      "   Average Loss for Outputs: [1.595, 0.078, 0.456, 0.815, 0.224]\n",
      "   Average Acc for Outputs: [0.97, 0.846, 0.722, 0.929, 0.993]\n",
      "   Percent correct in 1st Test: 0.56\n",
      "   Percent correct in 2nd Test: 0.558\n"
     ]
    }
   ],
   "source": [
    "# 4 CN, MP 16(5)/32(5)/32(5)/16(5) filters, batchsize=64, epochs=10\n",
    "cap.create_model()\n",
    "\n",
    "# Print Scores\n",
    "cap.predict_scores()"
   ]
  },
  {
   "cell_type": "code",
   "execution_count": 9,
   "metadata": {
    "ExecuteTime": {
     "end_time": "2020-06-02T19:43:59.676673Z",
     "start_time": "2020-06-02T19:37:11.029296Z"
    }
   },
   "outputs": [
    {
     "name": "stdout",
     "output_type": "stream",
     "text": [
      "Train Acc: [0.974, 0.91, 0.821, 0.943, 0.983]\n",
      "Val Acc: [0.996, 0.978, 0.935, 0.991, 0.998]\n",
      "Model Scores:\n",
      "   Average Loss for Outputs: [0.323, 0.01, 0.064, 0.207, 0.036]\n",
      "   Average Acc for Outputs: [0.997, 0.979, 0.933, 0.99, 0.998]\n",
      "   Percent correct in 1st Test: 0.905\n",
      "   Percent correct in 2nd Test: 0.903\n"
     ]
    }
   ],
   "source": [
    "# 4 CN, MP 32(5)/64(5)/32(5)/16(5) filters, batchsize=64, epochs=10\n",
    "cap.create_model(fc=[32,64,32,16])\n",
    "\n",
    "# Print Scores\n",
    "cap.predict_scores()"
   ]
  },
  {
   "cell_type": "code",
   "execution_count": 14,
   "metadata": {
    "ExecuteTime": {
     "end_time": "2020-06-02T20:16:46.213484Z",
     "start_time": "2020-06-02T20:09:02.995459Z"
    }
   },
   "outputs": [
    {
     "name": "stdout",
     "output_type": "stream",
     "text": [
      "Train Acc: [0.972, 0.918, 0.901, 0.933, 0.979]\n",
      "Val Acc: [0.998, 0.989, 0.975, 0.992, 0.999]\n",
      "Model Scores:\n",
      "   Average Loss for Outputs: [0.166, 0.011, 0.038, 0.081, 0.03]\n",
      "   Average Acc for Outputs: [0.997, 0.989, 0.975, 0.992, 0.999]\n",
      "   Percent correct in 1st Test: 0.955\n",
      "   Percent correct in 2nd Test: 0.955\n"
     ]
    }
   ],
   "source": [
    "# 4 CN, MP 32(3)/64(3)/32(3)/16(3) filters, batchsize=64, epochs=10\n",
    "cap.create_model(fc=[32,64,32,16],fs=[6,6,6,6])\n",
    "\n",
    "# Print Scores\n",
    "cap.predict_scores()"
   ]
  },
  {
   "cell_type": "code",
   "execution_count": 15,
   "metadata": {
    "ExecuteTime": {
     "end_time": "2020-06-02T20:24:36.661431Z",
     "start_time": "2020-06-02T20:16:46.215203Z"
    }
   },
   "outputs": [
    {
     "name": "stdout",
     "output_type": "stream",
     "text": [
      "Train Acc: [0.96, 0.923, 0.93, 0.932, 0.982]\n",
      "Val Acc: [0.998, 0.994, 0.989, 0.995, 0.999]\n",
      "Model Scores:\n",
      "   Average Loss for Outputs: [0.103, 0.006, 0.026, 0.043, 0.021]\n",
      "   Average Acc for Outputs: [0.998, 0.992, 0.988, 0.994, 0.998]\n",
      "   Percent correct in 1st Test: 0.972\n",
      "   Percent correct in 2nd Test: 0.973\n"
     ]
    }
   ],
   "source": [
    "# 4 CN, MP 32(7)/64(7)/32(7)/16(7) filters, batchsize=64, epochs=10\n",
    "cap.create_model(fc=[32,64,32,16],fs=[7,7,7,7])\n",
    "\n",
    "# Print Scores\n",
    "cap.predict_scores()"
   ]
  },
  {
   "cell_type": "code",
   "execution_count": 20,
   "metadata": {
    "ExecuteTime": {
     "end_time": "2020-06-02T20:55:28.327155Z",
     "start_time": "2020-06-02T20:46:03.149725Z"
    }
   },
   "outputs": [
    {
     "name": "stdout",
     "output_type": "stream",
     "text": [
      "Train Acc: [0.969, 0.929, 0.904, 0.9, 0.983]\n",
      "Val Acc: [0.999, 0.992, 0.99, 0.993, 0.998]\n",
      "Model Scores:\n",
      "   Average Loss for Outputs: [0.106, 0.006, 0.027, 0.032, 0.036]\n",
      "   Average Acc for Outputs: [0.998, 0.993, 0.992, 0.992, 0.999]\n",
      "   Percent correct in 1st Test: 0.977\n",
      "   Percent correct in 2nd Test: 0.973\n"
     ]
    }
   ],
   "source": [
    "# 4 CN, MP 32(8)/64(8)/32(8)/16(8) filters, batchsize=64, epochs=10\n",
    "cap.create_model(fc=[32,64,32,16],fs=[8,8,8,8])\n",
    "\n",
    "# Print Scores\n",
    "cap.predict_scores()"
   ]
  },
  {
   "cell_type": "code",
   "execution_count": 18,
   "metadata": {
    "ExecuteTime": {
     "end_time": "2020-06-02T20:42:26.227098Z",
     "start_time": "2020-06-02T20:34:38.084906Z"
    }
   },
   "outputs": [
    {
     "name": "stdout",
     "output_type": "stream",
     "text": [
      "Train Acc: [0.984, 0.692, 0.708, 0.909, 0.971]\n",
      "Val Acc: [0.999, 0.905, 0.906, 0.987, 0.998]\n",
      "Model Scores:\n",
      "   Average Loss for Outputs: [0.621, 0.002, 0.29, 0.279, 0.042]\n",
      "   Average Acc for Outputs: [0.999, 0.904, 0.907, 0.987, 0.998]\n",
      "   Percent correct in 1st Test: 0.81\n",
      "   Percent correct in 2nd Test: 0.806\n"
     ]
    }
   ],
   "source": [
    "# 4 CN, MP 32(5)/64(5)/64(5)/16(5) filters, batchsize=64, epochs=10\n",
    "cap.create_model(fc=[32,64,64,16],fs=[7,7,7,7])\n",
    "\n",
    "# Print Scores\n",
    "cap.predict_scores()"
   ]
  },
  {
   "cell_type": "code",
   "execution_count": 21,
   "metadata": {
    "ExecuteTime": {
     "end_time": "2020-06-02T20:56:28.566805Z",
     "start_time": "2020-06-02T20:56:28.510820Z"
    }
   },
   "outputs": [
    {
     "data": {
      "text/html": [
       "<div>\n",
       "<style scoped>\n",
       "    .dataframe tbody tr th:only-of-type {\n",
       "        vertical-align: middle;\n",
       "    }\n",
       "\n",
       "    .dataframe tbody tr th {\n",
       "        vertical-align: top;\n",
       "    }\n",
       "\n",
       "    .dataframe thead th {\n",
       "        text-align: right;\n",
       "    }\n",
       "</style>\n",
       "<table border=\"1\" class=\"dataframe\">\n",
       "  <thead>\n",
       "    <tr style=\"text-align: right;\">\n",
       "      <th></th>\n",
       "      <th>fc</th>\n",
       "      <th>fs</th>\n",
       "      <th>train_acc</th>\n",
       "      <th>val_acc</th>\n",
       "      <th>ave_acc</th>\n",
       "      <th>test1</th>\n",
       "      <th>test2</th>\n",
       "    </tr>\n",
       "  </thead>\n",
       "  <tbody>\n",
       "    <tr>\n",
       "      <th>0</th>\n",
       "      <td>[32, 64, 32, 16]</td>\n",
       "      <td>7</td>\n",
       "      <td>[0.96, 0.923, 0.93, 0.932, 0.982]</td>\n",
       "      <td>[0.998, 0.994, 0.989, 0.995, 0.999]</td>\n",
       "      <td>[0.998, 0.992, 0.988, 0.994, 0.998]</td>\n",
       "      <td>0.972</td>\n",
       "      <td>0.973</td>\n",
       "    </tr>\n",
       "    <tr>\n",
       "      <th>1</th>\n",
       "      <td>[32, 64, 32, 16]</td>\n",
       "      <td>6</td>\n",
       "      <td>[0.972, 0.918, 0.901, 0.933, 0.979]</td>\n",
       "      <td>[0.998, 0.989, 0.975, 0.992, 0.999]</td>\n",
       "      <td>[0.997, 0.989, 0.975, 0.992, 0.999]</td>\n",
       "      <td>0.955</td>\n",
       "      <td>0.955</td>\n",
       "    </tr>\n",
       "  </tbody>\n",
       "</table>\n",
       "</div>"
      ],
      "text/plain": [
       "                 fc fs                            train_acc  \\\n",
       "0  [32, 64, 32, 16]  7    [0.96, 0.923, 0.93, 0.932, 0.982]   \n",
       "1  [32, 64, 32, 16]  6  [0.972, 0.918, 0.901, 0.933, 0.979]   \n",
       "\n",
       "                               val_acc                              ave_acc  \\\n",
       "0  [0.998, 0.994, 0.989, 0.995, 0.999]  [0.998, 0.992, 0.988, 0.994, 0.998]   \n",
       "1  [0.998, 0.989, 0.975, 0.992, 0.999]  [0.997, 0.989, 0.975, 0.992, 0.999]   \n",
       "\n",
       "   test1  test2  \n",
       "0  0.972  0.973  \n",
       "1  0.955  0.955  "
      ]
     },
     "execution_count": 21,
     "metadata": {},
     "output_type": "execute_result"
    }
   ],
   "source": [
    "df_data = np.array([[[32,64,32,16],7,[0.96, 0.923, 0.93, 0.932, 0.982],[0.998, 0.994, 0.989, 0.995, 0.999],[0.998, 0.992, 0.988, 0.994, 0.998], 0.972, 0.973],\n",
    "                    [[32,64,32,16],6,[0.972, 0.918, 0.901, 0.933, 0.979],[0.998, 0.989, 0.975, 0.992, 0.999],[0.997, 0.989, 0.975, 0.992, 0.999], 0.955, 0.955]\n",
    "                   ])\n",
    "pd.DataFrame(df_data, columns=['fc','fs','train_acc', 'val_acc','ave_acc', 'test1', 'test2'])"
   ]
  },
  {
   "cell_type": "code",
   "execution_count": null,
   "metadata": {},
   "outputs": [],
   "source": []
  }
 ],
 "metadata": {
  "kernelspec": {
   "display_name": "Environment (conda_tensorflow2_p36)",
   "language": "python",
   "name": "conda_tensorflow2_p36"
  },
  "language_info": {
   "codemirror_mode": {
    "name": "ipython",
    "version": 3
   },
   "file_extension": ".py",
   "mimetype": "text/x-python",
   "name": "python",
   "nbconvert_exporter": "python",
   "pygments_lexer": "ipython3",
   "version": "3.6.10"
  }
 },
 "nbformat": 4,
 "nbformat_minor": 4
}
