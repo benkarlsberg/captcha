{
 "cells": [
  {
   "cell_type": "markdown",
   "metadata": {},
   "source": [
    "# Predicting Hand Drawn Captcha"
   ]
  },
  {
   "cell_type": "markdown",
   "metadata": {},
   "source": [
    "#### Imports"
   ]
  },
  {
   "cell_type": "code",
   "execution_count": 1,
   "metadata": {
    "ExecuteTime": {
     "end_time": "2020-06-08T15:26:06.930187Z",
     "start_time": "2020-06-08T15:26:06.917265Z"
    }
   },
   "outputs": [],
   "source": [
    "%load_ext autoreload\n",
    "%autoreload 2"
   ]
  },
  {
   "cell_type": "code",
   "execution_count": 2,
   "metadata": {
    "ExecuteTime": {
     "end_time": "2020-06-08T15:26:09.550785Z",
     "start_time": "2020-06-08T15:26:07.285647Z"
    }
   },
   "outputs": [],
   "source": [
    "import os\n",
    "import string\n",
    "import random\n",
    "\n",
    "import numpy as np\n",
    "import pandas as pd\n",
    "import matplotlib.pyplot as plt\n",
    "import seaborn\n",
    "\n",
    "%matplotlib inline "
   ]
  },
  {
   "cell_type": "code",
   "execution_count": 3,
   "metadata": {
    "ExecuteTime": {
     "end_time": "2020-06-08T15:26:14.928551Z",
     "start_time": "2020-06-08T15:26:09.552506Z"
    }
   },
   "outputs": [
    {
     "data": {
      "text/plain": [
       "('2.1.0', '4.2.0')"
      ]
     },
     "execution_count": 3,
     "metadata": {},
     "output_type": "execute_result"
    }
   ],
   "source": [
    "import tensorflow as tf\n",
    "from tensorflow.keras.layers import Input, Conv2D, MaxPooling2D, Flatten, Dense, Dropout, BatchNormalization\n",
    "from tensorflow.keras import Model\n",
    "\n",
    "from PIL import Image\n",
    "import cv2\n",
    "tf.__version__, cv2.__version__"
   ]
  },
  {
   "cell_type": "code",
   "execution_count": 4,
   "metadata": {
    "ExecuteTime": {
     "end_time": "2020-06-08T15:26:14.977011Z",
     "start_time": "2020-06-08T15:26:14.930478Z"
    }
   },
   "outputs": [],
   "source": [
    "from emnist import list_datasets\n",
    "from emnist import extract_training_samples, extract_test_samples"
   ]
  },
  {
   "cell_type": "code",
   "execution_count": 5,
   "metadata": {
    "ExecuteTime": {
     "end_time": "2020-06-08T15:26:15.012962Z",
     "start_time": "2020-06-08T15:26:14.978640Z"
    }
   },
   "outputs": [
    {
     "data": {
      "text/plain": [
       "['balanced', 'byclass', 'bymerge', 'digits', 'letters', 'mnist']"
      ]
     },
     "execution_count": 5,
     "metadata": {},
     "output_type": "execute_result"
    }
   ],
   "source": [
    "list_datasets()"
   ]
  },
  {
   "cell_type": "markdown",
   "metadata": {},
   "source": [
    "## Load Data"
   ]
  },
  {
   "cell_type": "code",
   "execution_count": 6,
   "metadata": {
    "ExecuteTime": {
     "end_time": "2020-06-08T15:26:18.758939Z",
     "start_time": "2020-06-08T15:26:15.014433Z"
    }
   },
   "outputs": [
    {
     "data": {
      "text/plain": [
       "1013366"
      ]
     },
     "execution_count": 6,
     "metadata": {},
     "output_type": "execute_result"
    }
   ],
   "source": [
    "len(os.listdir('data/drawn/'))"
   ]
  },
  {
   "cell_type": "code",
   "execution_count": 7,
   "metadata": {
    "ExecuteTime": {
     "end_time": "2020-06-08T15:26:19.008768Z",
     "start_time": "2020-06-08T15:26:18.760397Z"
    }
   },
   "outputs": [
    {
     "data": {
      "text/plain": [
       "<matplotlib.image.AxesImage at 0x7f060b63b2e8>"
      ]
     },
     "execution_count": 7,
     "metadata": {},
     "output_type": "execute_result"
    },
    {
     "data": {
      "image/png": "[encoded data removed]",
      "text/plain": [
       "<Figure size 432x288 with 1 Axes>"
      ]
     },
     "metadata": {
      "needs_background": "light"
     },
     "output_type": "display_data"
    }
   ],
   "source": [
    "img=cv2.imread('data/drawn/4f477.png',cv2.IMREAD_UNCHANGED)\n",
    "plt.imshow(img, cmap=plt.cm.binary)"
   ]
  },
  {
   "cell_type": "code",
   "execution_count": 8,
   "metadata": {
    "ExecuteTime": {
     "end_time": "2020-06-08T15:26:19.049428Z",
     "start_time": "2020-06-08T15:26:19.010220Z"
    },
    "code_folding": [
     3,
     17
    ]
   },
   "outputs": [],
   "source": [
    "chars = '0123456789' + string.ascii_lowercase\n",
    "num_chars = len(chars)\n",
    "\n",
    "def data_check(from_src=False):\n",
    "    '''Check for non PNG files\n",
    "    '''\n",
    "    if from_src:\n",
    "        path = '../data/drawn/'\n",
    "    else:\n",
    "        path = 'data/drawn/'\n",
    "        \n",
    "    for name in os.listdir(path):\n",
    "        if name[-4:] == '.png':\n",
    "            pass\n",
    "        else:\n",
    "            print(name)\n",
    "            \n",
    "def mix_img(img, fill_val = 0):\n",
    "    # random rotate value\n",
    "    ang_list = [-5,-4,-3,-2,-1,0,0,0,0,0,1,2,3,4,5]\n",
    "    ang = random.choice(ang_list)\n",
    "    # rotate image\n",
    "    im = Image.fromarray(img)\n",
    "    img = np.asarray(im.rotate(ang))\n",
    "    \n",
    "    return img\n",
    "\n",
    "def load_drawn_data(from_src=False):\n",
    "    if from_src:\n",
    "        path = '../data/drawn/'\n",
    "    else:\n",
    "        path = 'data/drawn/'\n",
    "        \n",
    "    leng = 750000#len(os.listdir(path))\n",
    "        \n",
    "    X = np.zeros((leng, 50, 200, 1)) \n",
    "    y = np.zeros((5, leng, num_chars)) \n",
    "    labels = []\n",
    "    \n",
    "    for i, name in enumerate(os.listdir(path)):\n",
    "        \n",
    "        if i == leng:\n",
    "            break\n",
    "            \n",
    "        img_path = path + name\n",
    "        img = cv2.imread(img_path, cv2.IMREAD_UNCHANGED)\n",
    "        \n",
    "        img = img / 255.0\n",
    "        img = img.reshape(50, 200, 1)\n",
    "        \n",
    "        # Define labels using OneHotEncoding\n",
    "        label = name[:-4]\n",
    "        target = np.zeros((5, num_chars))\n",
    "        for j, l in enumerate(label):\n",
    "            ind = chars.find(l)\n",
    "            target[j, ind] = 1\n",
    "        \n",
    "        X[i] = img\n",
    "        y[:, i] = target\n",
    "        labels.append(label)\n",
    "   \n",
    "    return X, y, np.array(labels)"
   ]
  },
  {
   "cell_type": "code",
   "execution_count": 9,
   "metadata": {
    "ExecuteTime": {
     "end_time": "2020-06-08T15:26:19.704167Z",
     "start_time": "2020-06-08T15:26:19.051293Z"
    }
   },
   "outputs": [],
   "source": [
    "data_check()"
   ]
  },
  {
   "cell_type": "code",
   "execution_count": null,
   "metadata": {
    "ExecuteTime": {
     "start_time": "2020-06-08T15:26:11.526Z"
    }
   },
   "outputs": [],
   "source": [
    "nX, ny, nlabels = load_drawn_data()"
   ]
  },
  {
   "cell_type": "code",
   "execution_count": null,
   "metadata": {
    "ExecuteTime": {
     "start_time": "2020-06-08T15:26:12.518Z"
    }
   },
   "outputs": [],
   "source": [
    "nX.shape, ny.shape, nlabels.shape"
   ]
  },
  {
   "cell_type": "markdown",
   "metadata": {},
   "source": [
    "## Build Model"
   ]
  },
  {
   "cell_type": "code",
   "execution_count": 13,
   "metadata": {
    "ExecuteTime": {
     "end_time": "2020-06-08T00:28:01.939608Z",
     "start_time": "2020-06-07T22:32:09.180698Z"
    },
    "code_folding": [
     3
    ]
   },
   "outputs": [],
   "source": [
    "accus = []\n",
    "lst = [[16,16,16,16,5,16],[16,32,32,16,5,16],[16,64,32,32,5,16],\n",
    "       [32,64,32,16,5,16],[32,64,32,32,5,16],[64,64,32,32,5,16]]\n",
    "for i in lst:\n",
    "    # Model Outline\n",
    "    input_shape = (50, 200, 1)\n",
    "\n",
    "    # Input layer\n",
    "    imgm = Input(shape=input_shape)\n",
    "\n",
    "    # Convolution and Max Pooling layers\n",
    "    cn1 = Conv2D(i[0], (i[4], i[4]), padding='same', activation='relu')(imgm)\n",
    "    mp1 = MaxPooling2D(padding='same')(cn1)  \n",
    "\n",
    "    cn2 = Conv2D(i[1], (i[4], i[4]), padding='same', activation='relu')(mp1)\n",
    "    mp2 = MaxPooling2D(padding='same')(cn2)  \n",
    "\n",
    "    cn3 = Conv2D(i[2], (i[4], i[4]), padding='same', activation='relu')(mp2)\n",
    "    mp3 = MaxPooling2D(padding='same')(cn3)   \n",
    "\n",
    "    cn4 = Conv2D(i[3], (i[4], i[4]), padding='same', activation='relu')(mp3)\n",
    "    bn = BatchNormalization()(cn4)\n",
    "    mp4 = MaxPooling2D(padding='same')(bn) \n",
    "    \n",
    "    cn5 = Conv2D(i[5], (i[4], i[4]), padding='same', activation='relu')(mp4)\n",
    "    mp5 = MaxPooling2D(padding='same')(cn5)\n",
    "\n",
    "    # Flatten and Dense layers\n",
    "    flat = Flatten()(mp5)\n",
    "    output = []\n",
    "    for _ in range(5):\n",
    "        dens1 = Dense(128, activation='relu')(flat)\n",
    "        drop = Dropout(0.5)(dens1)\n",
    "        result = Dense(num_chars, activation='sigmoid')(drop)\n",
    "\n",
    "        output.append(result)\n",
    "        \n",
    "    # Compile model\n",
    "    model = Model(imgm, output)\n",
    "    model.compile(loss='categorical_crossentropy', optimizer='adam', metrics=[\"accuracy\"])\n",
    "    \n",
    "    history = model.fit(nX, [ny[0], ny[1], ny[2], ny[3], ny[4]],\n",
    "                 batch_size=256, epochs=10, verbose=0, validation_split=0.2)\n",
    "\n",
    "    acc = []\n",
    "    for i, l in enumerate(history.history.values()):\n",
    "        if i >= 17:\n",
    "            acc.append(l)\n",
    "\n",
    "    accus.append([max(i).round(2) for i in acc])"
   ]
  },
  {
   "cell_type": "code",
   "execution_count": 14,
   "metadata": {
    "ExecuteTime": {
     "end_time": "2020-06-08T00:28:01.979856Z",
     "start_time": "2020-06-08T00:28:01.941609Z"
    }
   },
   "outputs": [
    {
     "data": {
      "text/plain": [
       "array([[0.91, 0.9 , 0.9 , 0.9 , 0.91],\n",
       "       [0.91, 0.91, 0.91, 0.91, 0.91],\n",
       "       [0.92, 0.92, 0.92, 0.92, 0.92],\n",
       "       [0.92, 0.91, 0.91, 0.91, 0.92],\n",
       "       [0.92, 0.92, 0.92, 0.92, 0.92],\n",
       "       [0.92, 0.92, 0.92, 0.92, 0.92]], dtype=float32)"
      ]
     },
     "execution_count": 14,
     "metadata": {},
     "output_type": "execute_result"
    }
   ],
   "source": [
    "np.array(accus)"
   ]
  },
  {
   "cell_type": "code",
   "execution_count": 16,
   "metadata": {
    "ExecuteTime": {
     "end_time": "2020-06-07T05:03:53.134309Z",
     "start_time": "2020-06-07T05:03:53.101645Z"
    }
   },
   "outputs": [],
   "source": [
    "#char_model = keras.models.load_model('draw_model.h5')"
   ]
  },
  {
   "cell_type": "markdown",
   "metadata": {},
   "source": [
    "l=[[16,16,16,16,5],[16,32,32,16,5],[16,64,32,16,5],\n",
    "       [32,32,32,32,5],[32,64,32,16,5],[64,64,32,16,5]]\n",
    "\n",
    "array([[0.89, 0.88, 0.88, 0.88, 0.88],\n",
    "       [0.9 , 0.9 , 0.89, 0.9 , 0.9 ],\n",
    "       [0.9 , 0.89, 0.89, 0.89, 0.9 ],\n",
    "       [0.91, 0.9 , 0.89, 0.9 , 0.9 ],\n",
    "       [0.91, 0.9 , 0.89, 0.9 , 0.9 ],\n",
    "       [0.91, 0.9 , 0.9 , 0.9 , 0.9 ]], dtype=float32)"
   ]
  },
  {
   "cell_type": "code",
   "execution_count": null,
   "metadata": {
    "ExecuteTime": {
     "start_time": "2020-06-08T15:26:29.359Z"
    },
    "code_folding": []
   },
   "outputs": [],
   "source": [
    "# Model Outline\n",
    "input_shape = (50, 200, 1)\n",
    "i = [32,64,32,32,5,16]\n",
    "\n",
    "# Input layer\n",
    "imgm = Input(shape=input_shape)\n",
    "\n",
    "# Convolution and Max Pooling layers\n",
    "cn1 = Conv2D(i[0], (i[4], i[4]), padding='same', activation='relu')(imgm)\n",
    "mp1 = MaxPooling2D(padding='same')(cn1)  \n",
    "\n",
    "cn2 = Conv2D(i[1], (i[4], i[4]), padding='same', activation='relu')(mp1)\n",
    "mp2 = MaxPooling2D(padding='same')(cn2)  \n",
    "\n",
    "cn3 = Conv2D(i[2], (i[4], i[4]), padding='same', activation='relu')(mp2)\n",
    "mp3 = MaxPooling2D(padding='same')(cn3)   \n",
    "\n",
    "cn4 = Conv2D(i[3], (i[4], i[4]), padding='same', activation='relu')(mp3)\n",
    "bn = BatchNormalization()(cn4)\n",
    "mp4 = MaxPooling2D(padding='same')(bn) \n",
    "\n",
    "cn5 = Conv2D(i[5], (i[4], i[4]), padding='same', activation='relu')(mp4)\n",
    "mp5 = MaxPooling2D(padding='same')(cn5)\n",
    "\n",
    "# Flatten and Dense layers\n",
    "flat = Flatten()(mp5)\n",
    "output = []\n",
    "for _ in range(5):\n",
    "    dens1 = Dense(128, activation='relu')(flat)\n",
    "    drop = Dropout(0.5)(dens1)\n",
    "    result = Dense(num_chars, activation='sigmoid')(drop)\n",
    "\n",
    "    output.append(result)"
   ]
  },
  {
   "cell_type": "code",
   "execution_count": null,
   "metadata": {
    "ExecuteTime": {
     "start_time": "2020-06-08T15:26:31.255Z"
    }
   },
   "outputs": [],
   "source": [
    "# Compile model\n",
    "model = Model(imgm, output)\n",
    "model.compile(loss='categorical_crossentropy', optimizer='adam', metrics=[\"accuracy\"])"
   ]
  },
  {
   "cell_type": "code",
   "execution_count": null,
   "metadata": {
    "ExecuteTime": {
     "start_time": "2020-06-08T15:26:32.295Z"
    },
    "scrolled": true
   },
   "outputs": [],
   "source": [
    "model.summary();"
   ]
  },
  {
   "cell_type": "code",
   "execution_count": null,
   "metadata": {
    "ExecuteTime": {
     "start_time": "2020-06-08T15:26:33.487Z"
    },
    "code_folding": [],
    "scrolled": true
   },
   "outputs": [],
   "source": [
    "history = model.fit(nX, [ny[0], ny[1], ny[2], ny[3], ny[4]],\n",
    "                 batch_size=256, epochs=10, verbose=2, validation_split=0.2)"
   ]
  },
  {
   "cell_type": "code",
   "execution_count": null,
   "metadata": {
    "ExecuteTime": {
     "start_time": "2020-06-08T15:26:35.031Z"
    }
   },
   "outputs": [],
   "source": [
    "acc, loss = [], []\n",
    "for i, l in enumerate(history.history.values()):\n",
    "    if i >= 17:\n",
    "        acc.append(l)\n",
    "    elif i >= 12:\n",
    "        loss.append(l)\n",
    "        #print(i)"
   ]
  },
  {
   "cell_type": "code",
   "execution_count": null,
   "metadata": {
    "ExecuteTime": {
     "start_time": "2020-06-08T15:26:35.639Z"
    }
   },
   "outputs": [],
   "source": [
    "[max(i).round(2) for i in acc]"
   ]
  },
  {
   "cell_type": "markdown",
   "metadata": {},
   "source": [
    "32/64/32/16 (7)\n",
    "- dense 64: [0.9, 0.89, 0.89, 0.89, 0.9]\n",
    "- dense 128: [0.91, 0.9, 0.9, 0.9, 0.9]\n",
    "- bn/dense 128: [0.91, 0.9, 0.9, 0.9, 0.9]\n"
   ]
  },
  {
   "cell_type": "code",
   "execution_count": 17,
   "metadata": {
    "ExecuteTime": {
     "end_time": "2020-06-08T00:45:24.408552Z",
     "start_time": "2020-06-08T00:45:23.981936Z"
    }
   },
   "outputs": [
    {
     "data": {
      "text/plain": [
       "''"
      ]
     },
     "execution_count": 17,
     "metadata": {},
     "output_type": "execute_result"
    },
    {
     "data": {
      "image/png": "[encoded data removed]",
      "text/plain": [
       "<Figure size 432x288 with 1 Axes>"
      ]
     },
     "metadata": {
      "needs_background": "light"
     },
     "output_type": "display_data"
    },
    {
     "data": {
      "image/png": "[encoded data removed]",
      "text/plain": [
       "<Figure size 432x288 with 1 Axes>"
      ]
     },
     "metadata": {
      "needs_background": "light"
     },
     "output_type": "display_data"
    }
   ],
   "source": [
    "# Get number of epochs\n",
    "epochs = range(len(acc[0]))\n",
    "\n",
    "# Plot validation accuracy per epoch\n",
    "for i in acc:\n",
    "    plt.plot(epochs, i)\n",
    "plt.legend(['1','2','3','4','5'], loc='lower right', title='  Character  ', shadow=True)\n",
    "plt.title('Accuracy of Each Character', fontdict={'size':'17'})\n",
    "plt.xlabel('Epoch', fontdict={'size':'12'})\n",
    "plt.ylabel('Accuracy', fontdict={'size':'12'})\n",
    "plt.xticks([0,1,2,3,4,5,6,7,8,9],[1,2,3,4,5,6,7,8,9,10])\n",
    "\n",
    "#plt.savefig('images/drawn_cap_acc.png')\n",
    "plt.figure()\n",
    "\n",
    "# Plot training and validation loss per epoch\n",
    "for i in loss:\n",
    "    plt.plot(epochs, i)\n",
    "plt.legend(['1','2','3','4','5'], loc='upper right', title='  Character  ', shadow=True)\n",
    "plt.title('Loss of Each Character', fontdict={'size':'17'})\n",
    "plt.xlabel('Epoch', fontdict={'size':'12'})\n",
    "plt.ylabel('Loss', fontdict={'size':'12'})\n",
    "plt.xticks([0,1,2,3,4,5,6,7,8,9],[1,2,3,4,5,6,7,8,9,10])\n",
    "\n",
    "#plt.savefig('images/drawn_cap_loss.png')\n",
    ";"
   ]
  },
  {
   "cell_type": "code",
   "execution_count": null,
   "metadata": {},
   "outputs": [],
   "source": []
  },
  {
   "cell_type": "code",
   "execution_count": null,
   "metadata": {},
   "outputs": [],
   "source": []
  },
  {
   "cell_type": "code",
   "execution_count": null,
   "metadata": {},
   "outputs": [],
   "source": []
  },
  {
   "cell_type": "code",
   "execution_count": 18,
   "metadata": {
    "ExecuteTime": {
     "end_time": "2020-06-08T00:45:36.986336Z",
     "start_time": "2020-06-08T00:45:36.800663Z"
    }
   },
   "outputs": [
    {
     "data": {
      "text/plain": [
       "<matplotlib.image.AxesImage at 0x7f8e7a089860>"
      ]
     },
     "execution_count": 18,
     "metadata": {},
     "output_type": "execute_result"
    },
    {
     "data": {
      "image/png": "[encoded data removed]",
      "text/plain": [
       "<Figure size 432x288 with 1 Axes>"
      ]
     },
     "metadata": {
      "needs_background": "light"
     },
     "output_type": "display_data"
    }
   ],
   "source": [
    "plt.imshow(nX[3].reshape(50,200), cmap=plt.cm.binary)"
   ]
  },
  {
   "cell_type": "code",
   "execution_count": 20,
   "metadata": {
    "ExecuteTime": {
     "end_time": "2020-06-08T00:45:39.736313Z",
     "start_time": "2020-06-08T00:45:39.700350Z"
    }
   },
   "outputs": [],
   "source": [
    "#model.predict(nX[3].reshape(1,50,200,1))"
   ]
  },
  {
   "cell_type": "code",
   "execution_count": 21,
   "metadata": {
    "ExecuteTime": {
     "end_time": "2020-06-08T00:45:41.204485Z",
     "start_time": "2020-06-08T00:45:41.166902Z"
    }
   },
   "outputs": [],
   "source": [
    "def predict_one(img, true):\n",
    "    \n",
    "    onehotpred = np.array(model.predict(img.reshape(1,50,200,1))).reshape(5,36)    \n",
    "    pred = ''\n",
    "    \n",
    "    for i in onehotpred:\n",
    "        c = chars[np.argmax(i)]\n",
    "        pred += c\n",
    "\n",
    "    return true, pred"
   ]
  },
  {
   "cell_type": "code",
   "execution_count": 23,
   "metadata": {
    "ExecuteTime": {
     "end_time": "2020-06-08T00:45:49.657809Z",
     "start_time": "2020-06-08T00:45:49.586059Z"
    }
   },
   "outputs": [
    {
     "data": {
      "text/plain": [
       "('34f3e', '34f3e')"
      ]
     },
     "execution_count": 23,
     "metadata": {},
     "output_type": "execute_result"
    }
   ],
   "source": [
    "img=cv2.imread('data/drawn/34f3e.png',cv2.IMREAD_UNCHANGED)\n",
    "img = img / 255.0\n",
    "img = img.reshape(50, 200, 1)\n",
    "predict_one(img, '34f3e')"
   ]
  },
  {
   "cell_type": "code",
   "execution_count": 24,
   "metadata": {
    "ExecuteTime": {
     "end_time": "2020-06-08T00:45:52.007577Z",
     "start_time": "2020-06-08T00:45:51.970133Z"
    }
   },
   "outputs": [
    {
     "data": {
      "text/plain": [
       "'82j4e'"
      ]
     },
     "execution_count": 24,
     "metadata": {},
     "output_type": "execute_result"
    }
   ],
   "source": [
    "nlabels[0]"
   ]
  },
  {
   "cell_type": "code",
   "execution_count": null,
   "metadata": {},
   "outputs": [],
   "source": []
  },
  {
   "cell_type": "code",
   "execution_count": null,
   "metadata": {},
   "outputs": [],
   "source": []
  },
  {
   "cell_type": "code",
   "execution_count": null,
   "metadata": {},
   "outputs": [],
   "source": [
    "#model.save('full_draw_model2.h5')"
   ]
  }
 ],
 "metadata": {
  "kernelspec": {
   "display_name": "Environment (conda_tensorflow2_p36)",
   "language": "python",
   "name": "conda_tensorflow2_p36"
  },
  "language_info": {
   "codemirror_mode": {
    "name": "ipython",
    "version": 3
   },
   "file_extension": ".py",
   "mimetype": "text/x-python",
   "name": "python",
   "nbconvert_exporter": "python",
   "pygments_lexer": "ipython3",
   "version": "3.6.10"
  }
 },
 "nbformat": 4,
 "nbformat_minor": 4
}
